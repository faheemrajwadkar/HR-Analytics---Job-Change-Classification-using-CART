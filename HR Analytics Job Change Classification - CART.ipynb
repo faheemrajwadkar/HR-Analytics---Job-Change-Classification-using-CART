{
 "cells": [
  {
   "cell_type": "markdown",
   "metadata": {},
   "source": [
    "# Table of contents\n",
    "1. [Import Data and Libraries](#Import)\n",
    "2. [EDA](#EDA)\n",
    "3. [Model Training](#Model)\n"
   ]
  },
  {
   "cell_type": "markdown",
   "metadata": {
    "tags": []
   },
   "source": [
    "# Import Data and Libraries<a name=\"Import\"></a>"
   ]
  },
  {
   "cell_type": "code",
   "execution_count": 1,
   "metadata": {},
   "outputs": [],
   "source": [
    "import pandas as pd\n",
    "import numpy as np\n",
    "import seaborn as sns\n",
    "import matplotlib.pyplot as plt\n",
    "\n",
    "# hide warnings\n",
    "import warnings\n",
    "warnings.filterwarnings('ignore')\n",
    "\n",
    "# print all columns\n",
    "pd.set_option('display.max_columns', None)\n",
    "pd.set_option('display.max_rows', None)"
   ]
  },
  {
   "cell_type": "markdown",
   "metadata": {},
   "source": [
    "Ref - https://www.kaggle.com/arashnic/hr-analytics-job-change-of-data-scientists?select=aug_train.csv"
   ]
  },
  {
   "cell_type": "code",
   "execution_count": 2,
   "metadata": {},
   "outputs": [
    {
     "data": {
      "text/html": [
       "<div>\n",
       "<style scoped>\n",
       "    .dataframe tbody tr th:only-of-type {\n",
       "        vertical-align: middle;\n",
       "    }\n",
       "\n",
       "    .dataframe tbody tr th {\n",
       "        vertical-align: top;\n",
       "    }\n",
       "\n",
       "    .dataframe thead th {\n",
       "        text-align: right;\n",
       "    }\n",
       "</style>\n",
       "<table border=\"1\" class=\"dataframe\">\n",
       "  <thead>\n",
       "    <tr style=\"text-align: right;\">\n",
       "      <th></th>\n",
       "      <th>enrollee_id</th>\n",
       "      <th>city</th>\n",
       "      <th>city_development_index</th>\n",
       "      <th>gender</th>\n",
       "      <th>relevent_experience</th>\n",
       "      <th>enrolled_university</th>\n",
       "      <th>education_level</th>\n",
       "      <th>major_discipline</th>\n",
       "      <th>experience</th>\n",
       "      <th>company_size</th>\n",
       "      <th>company_type</th>\n",
       "      <th>last_new_job</th>\n",
       "      <th>training_hours</th>\n",
       "      <th>target</th>\n",
       "    </tr>\n",
       "  </thead>\n",
       "  <tbody>\n",
       "    <tr>\n",
       "      <th>0</th>\n",
       "      <td>8949</td>\n",
       "      <td>city_103</td>\n",
       "      <td>0.920</td>\n",
       "      <td>Male</td>\n",
       "      <td>Has relevent experience</td>\n",
       "      <td>no_enrollment</td>\n",
       "      <td>Graduate</td>\n",
       "      <td>STEM</td>\n",
       "      <td>&gt;20</td>\n",
       "      <td>NaN</td>\n",
       "      <td>NaN</td>\n",
       "      <td>1</td>\n",
       "      <td>36</td>\n",
       "      <td>1.0</td>\n",
       "    </tr>\n",
       "    <tr>\n",
       "      <th>1</th>\n",
       "      <td>29725</td>\n",
       "      <td>city_40</td>\n",
       "      <td>0.776</td>\n",
       "      <td>Male</td>\n",
       "      <td>No relevent experience</td>\n",
       "      <td>no_enrollment</td>\n",
       "      <td>Graduate</td>\n",
       "      <td>STEM</td>\n",
       "      <td>15</td>\n",
       "      <td>50-99</td>\n",
       "      <td>Pvt Ltd</td>\n",
       "      <td>&gt;4</td>\n",
       "      <td>47</td>\n",
       "      <td>0.0</td>\n",
       "    </tr>\n",
       "    <tr>\n",
       "      <th>2</th>\n",
       "      <td>11561</td>\n",
       "      <td>city_21</td>\n",
       "      <td>0.624</td>\n",
       "      <td>NaN</td>\n",
       "      <td>No relevent experience</td>\n",
       "      <td>Full time course</td>\n",
       "      <td>Graduate</td>\n",
       "      <td>STEM</td>\n",
       "      <td>5</td>\n",
       "      <td>NaN</td>\n",
       "      <td>NaN</td>\n",
       "      <td>never</td>\n",
       "      <td>83</td>\n",
       "      <td>0.0</td>\n",
       "    </tr>\n",
       "    <tr>\n",
       "      <th>3</th>\n",
       "      <td>33241</td>\n",
       "      <td>city_115</td>\n",
       "      <td>0.789</td>\n",
       "      <td>NaN</td>\n",
       "      <td>No relevent experience</td>\n",
       "      <td>NaN</td>\n",
       "      <td>Graduate</td>\n",
       "      <td>Business Degree</td>\n",
       "      <td>&lt;1</td>\n",
       "      <td>NaN</td>\n",
       "      <td>Pvt Ltd</td>\n",
       "      <td>never</td>\n",
       "      <td>52</td>\n",
       "      <td>1.0</td>\n",
       "    </tr>\n",
       "    <tr>\n",
       "      <th>4</th>\n",
       "      <td>666</td>\n",
       "      <td>city_162</td>\n",
       "      <td>0.767</td>\n",
       "      <td>Male</td>\n",
       "      <td>Has relevent experience</td>\n",
       "      <td>no_enrollment</td>\n",
       "      <td>Masters</td>\n",
       "      <td>STEM</td>\n",
       "      <td>&gt;20</td>\n",
       "      <td>50-99</td>\n",
       "      <td>Funded Startup</td>\n",
       "      <td>4</td>\n",
       "      <td>8</td>\n",
       "      <td>0.0</td>\n",
       "    </tr>\n",
       "  </tbody>\n",
       "</table>\n",
       "</div>"
      ],
      "text/plain": [
       "   enrollee_id      city  city_development_index gender  \\\n",
       "0         8949  city_103                   0.920   Male   \n",
       "1        29725   city_40                   0.776   Male   \n",
       "2        11561   city_21                   0.624    NaN   \n",
       "3        33241  city_115                   0.789    NaN   \n",
       "4          666  city_162                   0.767   Male   \n",
       "\n",
       "       relevent_experience enrolled_university education_level  \\\n",
       "0  Has relevent experience       no_enrollment        Graduate   \n",
       "1   No relevent experience       no_enrollment        Graduate   \n",
       "2   No relevent experience    Full time course        Graduate   \n",
       "3   No relevent experience                 NaN        Graduate   \n",
       "4  Has relevent experience       no_enrollment         Masters   \n",
       "\n",
       "  major_discipline experience company_size    company_type last_new_job  \\\n",
       "0             STEM        >20          NaN             NaN            1   \n",
       "1             STEM         15        50-99         Pvt Ltd           >4   \n",
       "2             STEM          5          NaN             NaN        never   \n",
       "3  Business Degree         <1          NaN         Pvt Ltd        never   \n",
       "4             STEM        >20        50-99  Funded Startup            4   \n",
       "\n",
       "   training_hours  target  \n",
       "0              36     1.0  \n",
       "1              47     0.0  \n",
       "2              83     0.0  \n",
       "3              52     1.0  \n",
       "4               8     0.0  "
      ]
     },
     "execution_count": 2,
     "metadata": {},
     "output_type": "execute_result"
    }
   ],
   "source": [
    "# import data\n",
    "df = pd.read_csv(\"aug_train.csv\")\n",
    "df.head()"
   ]
  },
  {
   "cell_type": "markdown",
   "metadata": {
    "jp-MarkdownHeadingCollapsed": true,
    "tags": []
   },
   "source": [
    "#### Features\n",
    "- enrollee_id : Unique ID for candidate\n",
    "- city: City code\n",
    "- city_ development _index : Developement index of the city (scaled)\n",
    "- gender: Gender of candidate\n",
    "- relevent_experience: Relevant experience of candidate\n",
    "- enrolled_university: Type of University course enrolled if any\n",
    "- education_level: Education level of candidate\n",
    "- major_discipline :Education major discipline of candidate\n",
    "- experience: Candidate total experience in years\n",
    "- company_size: No of employees in current employer's company\n",
    "- company_type : Type of current employer\n",
    "- lastnewjob: Difference in years between previous job and current job\n",
    "- training_hours: training hours completed\n",
    "- target: 0 – Not looking for job change, 1 – Looking for a job change"
   ]
  },
  {
   "cell_type": "markdown",
   "metadata": {
    "jp-MarkdownHeadingCollapsed": true,
    "tags": []
   },
   "source": [
    "# EDA<a name=\"EDA\"></a>"
   ]
  },
  {
   "cell_type": "code",
   "execution_count": 3,
   "metadata": {},
   "outputs": [
    {
     "data": {
      "text/plain": [
       "(19158, 14)"
      ]
     },
     "execution_count": 3,
     "metadata": {},
     "output_type": "execute_result"
    }
   ],
   "source": [
    "df.shape"
   ]
  },
  {
   "cell_type": "code",
   "execution_count": 4,
   "metadata": {},
   "outputs": [
    {
     "data": {
      "text/html": [
       "<div>\n",
       "<style scoped>\n",
       "    .dataframe tbody tr th:only-of-type {\n",
       "        vertical-align: middle;\n",
       "    }\n",
       "\n",
       "    .dataframe tbody tr th {\n",
       "        vertical-align: top;\n",
       "    }\n",
       "\n",
       "    .dataframe thead th {\n",
       "        text-align: right;\n",
       "    }\n",
       "</style>\n",
       "<table border=\"1\" class=\"dataframe\">\n",
       "  <thead>\n",
       "    <tr style=\"text-align: right;\">\n",
       "      <th></th>\n",
       "      <th>enrollee_id</th>\n",
       "      <th>city</th>\n",
       "      <th>city_development_index</th>\n",
       "      <th>gender</th>\n",
       "      <th>relevent_experience</th>\n",
       "      <th>enrolled_university</th>\n",
       "      <th>education_level</th>\n",
       "      <th>major_discipline</th>\n",
       "      <th>experience</th>\n",
       "      <th>company_size</th>\n",
       "      <th>company_type</th>\n",
       "      <th>last_new_job</th>\n",
       "      <th>training_hours</th>\n",
       "      <th>target</th>\n",
       "    </tr>\n",
       "  </thead>\n",
       "  <tbody>\n",
       "    <tr>\n",
       "      <th>count</th>\n",
       "      <td>19158.000000</td>\n",
       "      <td>19158</td>\n",
       "      <td>19158.000000</td>\n",
       "      <td>14650</td>\n",
       "      <td>19158</td>\n",
       "      <td>18772</td>\n",
       "      <td>18698</td>\n",
       "      <td>16345</td>\n",
       "      <td>19093</td>\n",
       "      <td>13220</td>\n",
       "      <td>13018</td>\n",
       "      <td>18735</td>\n",
       "      <td>19158.000000</td>\n",
       "      <td>19158.000000</td>\n",
       "    </tr>\n",
       "    <tr>\n",
       "      <th>unique</th>\n",
       "      <td>NaN</td>\n",
       "      <td>123</td>\n",
       "      <td>NaN</td>\n",
       "      <td>3</td>\n",
       "      <td>2</td>\n",
       "      <td>3</td>\n",
       "      <td>5</td>\n",
       "      <td>6</td>\n",
       "      <td>22</td>\n",
       "      <td>8</td>\n",
       "      <td>6</td>\n",
       "      <td>6</td>\n",
       "      <td>NaN</td>\n",
       "      <td>NaN</td>\n",
       "    </tr>\n",
       "    <tr>\n",
       "      <th>top</th>\n",
       "      <td>NaN</td>\n",
       "      <td>city_103</td>\n",
       "      <td>NaN</td>\n",
       "      <td>Male</td>\n",
       "      <td>Has relevent experience</td>\n",
       "      <td>no_enrollment</td>\n",
       "      <td>Graduate</td>\n",
       "      <td>STEM</td>\n",
       "      <td>&gt;20</td>\n",
       "      <td>50-99</td>\n",
       "      <td>Pvt Ltd</td>\n",
       "      <td>1</td>\n",
       "      <td>NaN</td>\n",
       "      <td>NaN</td>\n",
       "    </tr>\n",
       "    <tr>\n",
       "      <th>freq</th>\n",
       "      <td>NaN</td>\n",
       "      <td>4355</td>\n",
       "      <td>NaN</td>\n",
       "      <td>13221</td>\n",
       "      <td>13792</td>\n",
       "      <td>13817</td>\n",
       "      <td>11598</td>\n",
       "      <td>14492</td>\n",
       "      <td>3286</td>\n",
       "      <td>3083</td>\n",
       "      <td>9817</td>\n",
       "      <td>8040</td>\n",
       "      <td>NaN</td>\n",
       "      <td>NaN</td>\n",
       "    </tr>\n",
       "    <tr>\n",
       "      <th>mean</th>\n",
       "      <td>16875.358179</td>\n",
       "      <td>NaN</td>\n",
       "      <td>0.828848</td>\n",
       "      <td>NaN</td>\n",
       "      <td>NaN</td>\n",
       "      <td>NaN</td>\n",
       "      <td>NaN</td>\n",
       "      <td>NaN</td>\n",
       "      <td>NaN</td>\n",
       "      <td>NaN</td>\n",
       "      <td>NaN</td>\n",
       "      <td>NaN</td>\n",
       "      <td>65.366896</td>\n",
       "      <td>0.249348</td>\n",
       "    </tr>\n",
       "    <tr>\n",
       "      <th>std</th>\n",
       "      <td>9616.292592</td>\n",
       "      <td>NaN</td>\n",
       "      <td>0.123362</td>\n",
       "      <td>NaN</td>\n",
       "      <td>NaN</td>\n",
       "      <td>NaN</td>\n",
       "      <td>NaN</td>\n",
       "      <td>NaN</td>\n",
       "      <td>NaN</td>\n",
       "      <td>NaN</td>\n",
       "      <td>NaN</td>\n",
       "      <td>NaN</td>\n",
       "      <td>60.058462</td>\n",
       "      <td>0.432647</td>\n",
       "    </tr>\n",
       "    <tr>\n",
       "      <th>min</th>\n",
       "      <td>1.000000</td>\n",
       "      <td>NaN</td>\n",
       "      <td>0.448000</td>\n",
       "      <td>NaN</td>\n",
       "      <td>NaN</td>\n",
       "      <td>NaN</td>\n",
       "      <td>NaN</td>\n",
       "      <td>NaN</td>\n",
       "      <td>NaN</td>\n",
       "      <td>NaN</td>\n",
       "      <td>NaN</td>\n",
       "      <td>NaN</td>\n",
       "      <td>1.000000</td>\n",
       "      <td>0.000000</td>\n",
       "    </tr>\n",
       "    <tr>\n",
       "      <th>25%</th>\n",
       "      <td>8554.250000</td>\n",
       "      <td>NaN</td>\n",
       "      <td>0.740000</td>\n",
       "      <td>NaN</td>\n",
       "      <td>NaN</td>\n",
       "      <td>NaN</td>\n",
       "      <td>NaN</td>\n",
       "      <td>NaN</td>\n",
       "      <td>NaN</td>\n",
       "      <td>NaN</td>\n",
       "      <td>NaN</td>\n",
       "      <td>NaN</td>\n",
       "      <td>23.000000</td>\n",
       "      <td>0.000000</td>\n",
       "    </tr>\n",
       "    <tr>\n",
       "      <th>50%</th>\n",
       "      <td>16982.500000</td>\n",
       "      <td>NaN</td>\n",
       "      <td>0.903000</td>\n",
       "      <td>NaN</td>\n",
       "      <td>NaN</td>\n",
       "      <td>NaN</td>\n",
       "      <td>NaN</td>\n",
       "      <td>NaN</td>\n",
       "      <td>NaN</td>\n",
       "      <td>NaN</td>\n",
       "      <td>NaN</td>\n",
       "      <td>NaN</td>\n",
       "      <td>47.000000</td>\n",
       "      <td>0.000000</td>\n",
       "    </tr>\n",
       "    <tr>\n",
       "      <th>75%</th>\n",
       "      <td>25169.750000</td>\n",
       "      <td>NaN</td>\n",
       "      <td>0.920000</td>\n",
       "      <td>NaN</td>\n",
       "      <td>NaN</td>\n",
       "      <td>NaN</td>\n",
       "      <td>NaN</td>\n",
       "      <td>NaN</td>\n",
       "      <td>NaN</td>\n",
       "      <td>NaN</td>\n",
       "      <td>NaN</td>\n",
       "      <td>NaN</td>\n",
       "      <td>88.000000</td>\n",
       "      <td>0.000000</td>\n",
       "    </tr>\n",
       "    <tr>\n",
       "      <th>max</th>\n",
       "      <td>33380.000000</td>\n",
       "      <td>NaN</td>\n",
       "      <td>0.949000</td>\n",
       "      <td>NaN</td>\n",
       "      <td>NaN</td>\n",
       "      <td>NaN</td>\n",
       "      <td>NaN</td>\n",
       "      <td>NaN</td>\n",
       "      <td>NaN</td>\n",
       "      <td>NaN</td>\n",
       "      <td>NaN</td>\n",
       "      <td>NaN</td>\n",
       "      <td>336.000000</td>\n",
       "      <td>1.000000</td>\n",
       "    </tr>\n",
       "  </tbody>\n",
       "</table>\n",
       "</div>"
      ],
      "text/plain": [
       "         enrollee_id      city  city_development_index gender  \\\n",
       "count   19158.000000     19158            19158.000000  14650   \n",
       "unique           NaN       123                     NaN      3   \n",
       "top              NaN  city_103                     NaN   Male   \n",
       "freq             NaN      4355                     NaN  13221   \n",
       "mean    16875.358179       NaN                0.828848    NaN   \n",
       "std      9616.292592       NaN                0.123362    NaN   \n",
       "min         1.000000       NaN                0.448000    NaN   \n",
       "25%      8554.250000       NaN                0.740000    NaN   \n",
       "50%     16982.500000       NaN                0.903000    NaN   \n",
       "75%     25169.750000       NaN                0.920000    NaN   \n",
       "max     33380.000000       NaN                0.949000    NaN   \n",
       "\n",
       "            relevent_experience enrolled_university education_level  \\\n",
       "count                     19158               18772           18698   \n",
       "unique                        2                   3               5   \n",
       "top     Has relevent experience       no_enrollment        Graduate   \n",
       "freq                      13792               13817           11598   \n",
       "mean                        NaN                 NaN             NaN   \n",
       "std                         NaN                 NaN             NaN   \n",
       "min                         NaN                 NaN             NaN   \n",
       "25%                         NaN                 NaN             NaN   \n",
       "50%                         NaN                 NaN             NaN   \n",
       "75%                         NaN                 NaN             NaN   \n",
       "max                         NaN                 NaN             NaN   \n",
       "\n",
       "       major_discipline experience company_size company_type last_new_job  \\\n",
       "count             16345      19093        13220        13018        18735   \n",
       "unique                6         22            8            6            6   \n",
       "top                STEM        >20        50-99      Pvt Ltd            1   \n",
       "freq              14492       3286         3083         9817         8040   \n",
       "mean                NaN        NaN          NaN          NaN          NaN   \n",
       "std                 NaN        NaN          NaN          NaN          NaN   \n",
       "min                 NaN        NaN          NaN          NaN          NaN   \n",
       "25%                 NaN        NaN          NaN          NaN          NaN   \n",
       "50%                 NaN        NaN          NaN          NaN          NaN   \n",
       "75%                 NaN        NaN          NaN          NaN          NaN   \n",
       "max                 NaN        NaN          NaN          NaN          NaN   \n",
       "\n",
       "        training_hours        target  \n",
       "count     19158.000000  19158.000000  \n",
       "unique             NaN           NaN  \n",
       "top                NaN           NaN  \n",
       "freq               NaN           NaN  \n",
       "mean         65.366896      0.249348  \n",
       "std          60.058462      0.432647  \n",
       "min           1.000000      0.000000  \n",
       "25%          23.000000      0.000000  \n",
       "50%          47.000000      0.000000  \n",
       "75%          88.000000      0.000000  \n",
       "max         336.000000      1.000000  "
      ]
     },
     "execution_count": 4,
     "metadata": {},
     "output_type": "execute_result"
    }
   ],
   "source": [
    "df.describe(include='all')"
   ]
  },
  {
   "cell_type": "code",
   "execution_count": 5,
   "metadata": {},
   "outputs": [
    {
     "data": {
      "text/html": [
       "<div>\n",
       "<style scoped>\n",
       "    .dataframe tbody tr th:only-of-type {\n",
       "        vertical-align: middle;\n",
       "    }\n",
       "\n",
       "    .dataframe tbody tr th {\n",
       "        vertical-align: top;\n",
       "    }\n",
       "\n",
       "    .dataframe thead th {\n",
       "        text-align: right;\n",
       "    }\n",
       "</style>\n",
       "<table border=\"1\" class=\"dataframe\">\n",
       "  <thead>\n",
       "    <tr style=\"text-align: right;\">\n",
       "      <th></th>\n",
       "      <th>city_development_index</th>\n",
       "      <th>gender</th>\n",
       "      <th>relevent_experience</th>\n",
       "      <th>enrolled_university</th>\n",
       "      <th>education_level</th>\n",
       "      <th>major_discipline</th>\n",
       "      <th>experience</th>\n",
       "      <th>company_size</th>\n",
       "      <th>company_type</th>\n",
       "      <th>last_new_job</th>\n",
       "      <th>training_hours</th>\n",
       "      <th>target</th>\n",
       "    </tr>\n",
       "  </thead>\n",
       "  <tbody>\n",
       "    <tr>\n",
       "      <th>0</th>\n",
       "      <td>0.920</td>\n",
       "      <td>Male</td>\n",
       "      <td>Has relevent experience</td>\n",
       "      <td>no_enrollment</td>\n",
       "      <td>Graduate</td>\n",
       "      <td>STEM</td>\n",
       "      <td>&gt;20</td>\n",
       "      <td>NaN</td>\n",
       "      <td>NaN</td>\n",
       "      <td>1</td>\n",
       "      <td>36</td>\n",
       "      <td>1.0</td>\n",
       "    </tr>\n",
       "    <tr>\n",
       "      <th>1</th>\n",
       "      <td>0.776</td>\n",
       "      <td>Male</td>\n",
       "      <td>No relevent experience</td>\n",
       "      <td>no_enrollment</td>\n",
       "      <td>Graduate</td>\n",
       "      <td>STEM</td>\n",
       "      <td>15</td>\n",
       "      <td>50-99</td>\n",
       "      <td>Pvt Ltd</td>\n",
       "      <td>&gt;4</td>\n",
       "      <td>47</td>\n",
       "      <td>0.0</td>\n",
       "    </tr>\n",
       "    <tr>\n",
       "      <th>2</th>\n",
       "      <td>0.624</td>\n",
       "      <td>NaN</td>\n",
       "      <td>No relevent experience</td>\n",
       "      <td>Full time course</td>\n",
       "      <td>Graduate</td>\n",
       "      <td>STEM</td>\n",
       "      <td>5</td>\n",
       "      <td>NaN</td>\n",
       "      <td>NaN</td>\n",
       "      <td>never</td>\n",
       "      <td>83</td>\n",
       "      <td>0.0</td>\n",
       "    </tr>\n",
       "    <tr>\n",
       "      <th>3</th>\n",
       "      <td>0.789</td>\n",
       "      <td>NaN</td>\n",
       "      <td>No relevent experience</td>\n",
       "      <td>NaN</td>\n",
       "      <td>Graduate</td>\n",
       "      <td>Business Degree</td>\n",
       "      <td>&lt;1</td>\n",
       "      <td>NaN</td>\n",
       "      <td>Pvt Ltd</td>\n",
       "      <td>never</td>\n",
       "      <td>52</td>\n",
       "      <td>1.0</td>\n",
       "    </tr>\n",
       "    <tr>\n",
       "      <th>4</th>\n",
       "      <td>0.767</td>\n",
       "      <td>Male</td>\n",
       "      <td>Has relevent experience</td>\n",
       "      <td>no_enrollment</td>\n",
       "      <td>Masters</td>\n",
       "      <td>STEM</td>\n",
       "      <td>&gt;20</td>\n",
       "      <td>50-99</td>\n",
       "      <td>Funded Startup</td>\n",
       "      <td>4</td>\n",
       "      <td>8</td>\n",
       "      <td>0.0</td>\n",
       "    </tr>\n",
       "  </tbody>\n",
       "</table>\n",
       "</div>"
      ],
      "text/plain": [
       "   city_development_index gender      relevent_experience enrolled_university  \\\n",
       "0                   0.920   Male  Has relevent experience       no_enrollment   \n",
       "1                   0.776   Male   No relevent experience       no_enrollment   \n",
       "2                   0.624    NaN   No relevent experience    Full time course   \n",
       "3                   0.789    NaN   No relevent experience                 NaN   \n",
       "4                   0.767   Male  Has relevent experience       no_enrollment   \n",
       "\n",
       "  education_level major_discipline experience company_size    company_type  \\\n",
       "0        Graduate             STEM        >20          NaN             NaN   \n",
       "1        Graduate             STEM         15        50-99         Pvt Ltd   \n",
       "2        Graduate             STEM          5          NaN             NaN   \n",
       "3        Graduate  Business Degree         <1          NaN         Pvt Ltd   \n",
       "4         Masters             STEM        >20        50-99  Funded Startup   \n",
       "\n",
       "  last_new_job  training_hours  target  \n",
       "0            1              36     1.0  \n",
       "1           >4              47     0.0  \n",
       "2        never              83     0.0  \n",
       "3        never              52     1.0  \n",
       "4            4               8     0.0  "
      ]
     },
     "execution_count": 5,
     "metadata": {},
     "output_type": "execute_result"
    }
   ],
   "source": [
    "# drop unnecessary columns\n",
    "df.drop(['enrollee_id', 'city'], axis = 1, inplace=True)\n",
    "df.head()"
   ]
  },
  {
   "cell_type": "markdown",
   "metadata": {},
   "source": [
    "## Investigating Categorical Variables"
   ]
  },
  {
   "cell_type": "markdown",
   "metadata": {
    "tags": []
   },
   "source": [
    "### `gender`"
   ]
  },
  {
   "cell_type": "code",
   "execution_count": 6,
   "metadata": {},
   "outputs": [
    {
     "data": {
      "text/plain": [
       "Male      13221\n",
       "NaN        4508\n",
       "Female     1238\n",
       "Other       191\n",
       "Name: gender, dtype: int64"
      ]
     },
     "execution_count": 6,
     "metadata": {},
     "output_type": "execute_result"
    }
   ],
   "source": [
    "# value_counts\n",
    "df['gender'].value_counts(dropna = False)"
   ]
  },
  {
   "cell_type": "markdown",
   "metadata": {},
   "source": [
    "Since `number of females << number of males`, we will convert this into a binary feature - **`Male_Yes`** and **`Male_No`**` and binarize them to 1 and 0, respectively"
   ]
  },
  {
   "cell_type": "code",
   "execution_count": 7,
   "metadata": {},
   "outputs": [
    {
     "data": {
      "text/plain": [
       "1    13221\n",
       "0     5937\n",
       "Name: gender, dtype: int64"
      ]
     },
     "execution_count": 7,
     "metadata": {},
     "output_type": "execute_result"
    }
   ],
   "source": [
    "df['gender'] = df['gender'].map(lambda x : 1 if x == 'Male' else 0)\n",
    "df['gender'].value_counts(dropna = False)"
   ]
  },
  {
   "cell_type": "markdown",
   "metadata": {
    "tags": []
   },
   "source": [
    "### `relevant_experience`"
   ]
  },
  {
   "cell_type": "code",
   "execution_count": 8,
   "metadata": {},
   "outputs": [
    {
     "data": {
      "text/plain": [
       "Has relevent experience    13792\n",
       "No relevent experience      5366\n",
       "Name: relevent_experience, dtype: int64"
      ]
     },
     "execution_count": 8,
     "metadata": {},
     "output_type": "execute_result"
    }
   ],
   "source": [
    "# value_counts\n",
    "df['relevent_experience'].value_counts(dropna = False)"
   ]
  },
  {
   "cell_type": "code",
   "execution_count": 9,
   "metadata": {},
   "outputs": [
    {
     "data": {
      "text/plain": [
       "1    13792\n",
       "0     5366\n",
       "Name: relevent_experience, dtype: int64"
      ]
     },
     "execution_count": 9,
     "metadata": {},
     "output_type": "execute_result"
    }
   ],
   "source": [
    "# minimiozing values for relevent_experience\n",
    "df['relevent_experience'] = df['relevent_experience'].map(lambda x : 1 if x == 'Has relevent experience' else 0)\n",
    "df['relevent_experience'].value_counts(dropna = False)"
   ]
  },
  {
   "cell_type": "markdown",
   "metadata": {
    "tags": []
   },
   "source": [
    "### Academics - `enrolled_university`, `education_level`, `major_discipline`"
   ]
  },
  {
   "cell_type": "code",
   "execution_count": 10,
   "metadata": {},
   "outputs": [
    {
     "data": {
      "text/plain": [
       "city_development_index       0\n",
       "gender                       0\n",
       "relevent_experience          0\n",
       "enrolled_university        386\n",
       "education_level            460\n",
       "major_discipline          2813\n",
       "experience                  65\n",
       "company_size              5938\n",
       "company_type              6140\n",
       "last_new_job               423\n",
       "training_hours               0\n",
       "target                       0\n",
       "dtype: int64"
      ]
     },
     "execution_count": 10,
     "metadata": {},
     "output_type": "execute_result"
    }
   ],
   "source": [
    "df.isna().sum()"
   ]
  },
  {
   "cell_type": "code",
   "execution_count": 11,
   "metadata": {},
   "outputs": [
    {
     "data": {
      "text/plain": [
       "no_enrollment       13817\n",
       "Full time course     3757\n",
       "Part time course     1198\n",
       "NaN                   386\n",
       "Name: enrolled_university, dtype: int64"
      ]
     },
     "execution_count": 11,
     "metadata": {},
     "output_type": "execute_result"
    }
   ],
   "source": [
    "# value_counts\n",
    "df['enrolled_university'].value_counts(dropna = False)"
   ]
  },
  {
   "cell_type": "code",
   "execution_count": 12,
   "metadata": {},
   "outputs": [
    {
     "data": {
      "text/plain": [
       "Graduate          11598\n",
       "Masters            4361\n",
       "High School        2017\n",
       "NaN                 460\n",
       "Phd                 414\n",
       "Primary School      308\n",
       "Name: education_level, dtype: int64"
      ]
     },
     "execution_count": 12,
     "metadata": {},
     "output_type": "execute_result"
    }
   ],
   "source": [
    "df['education_level'].value_counts(dropna = False)"
   ]
  },
  {
   "cell_type": "code",
   "execution_count": 13,
   "metadata": {},
   "outputs": [
    {
     "data": {
      "text/plain": [
       "STEM               14492\n",
       "NaN                 2813\n",
       "Humanities           669\n",
       "Other                381\n",
       "Business Degree      327\n",
       "Arts                 253\n",
       "No Major             223\n",
       "Name: major_discipline, dtype: int64"
      ]
     },
     "execution_count": 13,
     "metadata": {},
     "output_type": "execute_result"
    }
   ],
   "source": [
    "df['major_discipline'].value_counts(dropna = False)"
   ]
  },
  {
   "cell_type": "markdown",
   "metadata": {},
   "source": [
    "- Let's check distribution of values when one of the three variables is NULL"
   ]
  },
  {
   "cell_type": "code",
   "execution_count": 14,
   "metadata": {},
   "outputs": [
    {
     "name": "stdout",
     "output_type": "stream",
     "text": [
      "when enrolled_university is null\n",
      "Graduate          171\n",
      "NaN               100\n",
      "Masters            53\n",
      "High School        47\n",
      "Primary School      9\n",
      "Phd                 6\n",
      "Name: education_level, dtype: int64\n",
      "\n",
      "when enrolled_university is null\n",
      "STEM               208\n",
      "NaN                157\n",
      "Humanities           9\n",
      "Other                4\n",
      "No Major             4\n",
      "Business Degree      2\n",
      "Arts                 2\n",
      "Name: major_discipline, dtype: int64\n",
      "\n",
      "when education_level is null\n",
      "no_enrollment       270\n",
      "NaN                 100\n",
      "Full time course     69\n",
      "Part time course     21\n",
      "Name: enrolled_university, dtype: int64\n",
      "\n",
      "when education_level is null\n",
      "NaN    460\n",
      "Name: major_discipline, dtype: int64\n",
      "\n",
      "when major_discipline is null\n",
      "no_enrollment       1481\n",
      "Full time course     976\n",
      "Part time course     199\n",
      "NaN                  157\n",
      "Name: enrolled_university, dtype: int64\n",
      "\n",
      "when major_discipline is null\n",
      "High School       2017\n",
      "NaN                460\n",
      "Primary School     308\n",
      "Graduate            22\n",
      "Masters              6\n",
      "Name: education_level, dtype: int64\n",
      "\n"
     ]
    }
   ],
   "source": [
    "for i in ['enrolled_university', 'education_level', 'major_discipline']:\n",
    "    for j in ['enrolled_university', 'education_level', 'major_discipline']:\n",
    "        if i != j:\n",
    "            print(\"when %s is null\" % (i))\n",
    "            print(df.loc[df[i].isna(), j].value_counts(dropna = False))\n",
    "            print()\n",
    "        else:\n",
    "            continue"
   ]
  },
  {
   "cell_type": "code",
   "execution_count": 15,
   "metadata": {},
   "outputs": [
    {
     "name": "stdout",
     "output_type": "stream",
     "text": [
      "when `enrolled_university` is NULL, `education_level` -\n"
     ]
    },
    {
     "data": {
      "image/png": "[encoded data removed]",
      "text/plain": [
       "<Figure size 432x288 with 1 Axes>"
      ]
     },
     "metadata": {
      "needs_background": "light"
     },
     "output_type": "display_data"
    },
    {
     "name": "stdout",
     "output_type": "stream",
     "text": [
      "\n",
      "when `enrolled_university` is NULL, `major_discipline` -\n"
     ]
    },
    {
     "data": {
      "image/png": "[encoded data removed]",
      "text/plain": [
       "<Figure size 432x288 with 1 Axes>"
      ]
     },
     "metadata": {
      "needs_background": "light"
     },
     "output_type": "display_data"
    },
    {
     "name": "stdout",
     "output_type": "stream",
     "text": [
      "\n",
      "when `education_level` is NULL, `enrolled_university` -\n"
     ]
    },
    {
     "data": {
      "image/png": "[encoded data removed]",
      "text/plain": [
       "<Figure size 432x288 with 1 Axes>"
      ]
     },
     "metadata": {
      "needs_background": "light"
     },
     "output_type": "display_data"
    },
    {
     "name": "stdout",
     "output_type": "stream",
     "text": [
      "\n",
      "when `education_level` is NULL, `major_discipline` -\n"
     ]
    },
    {
     "data": {
      "image/png": "[encoded data removed]",
      "text/plain": [
       "<Figure size 432x288 with 1 Axes>"
      ]
     },
     "metadata": {
      "needs_background": "light"
     },
     "output_type": "display_data"
    },
    {
     "name": "stdout",
     "output_type": "stream",
     "text": [
      "\n",
      "when `major_discipline` is NULL, `enrolled_university` -\n"
     ]
    },
    {
     "data": {
      "image/png": "[encoded data removed]",
      "text/plain": [
       "<Figure size 432x288 with 1 Axes>"
      ]
     },
     "metadata": {
      "needs_background": "light"
     },
     "output_type": "display_data"
    },
    {
     "name": "stdout",
     "output_type": "stream",
     "text": [
      "\n",
      "when `major_discipline` is NULL, `education_level` -\n"
     ]
    },
    {
     "data": {
      "image/png": "[encoded data removed]",
      "text/plain": [
       "<Figure size 432x288 with 1 Axes>"
      ]
     },
     "metadata": {
      "needs_background": "light"
     },
     "output_type": "display_data"
    },
    {
     "name": "stdout",
     "output_type": "stream",
     "text": [
      "\n"
     ]
    }
   ],
   "source": [
    "for i in ['enrolled_university', 'education_level', 'major_discipline']:\n",
    "    for j in ['enrolled_university', 'education_level', 'major_discipline']:\n",
    "        if i != j:\n",
    "            print(\"when `%s` is NULL, `%s` -\" % (i, j))\n",
    "            sns.countplot(df.loc[df[i].isna(), j].fillna(\"N/A\"))\n",
    "            plt.show()\n",
    "            print()\n",
    "        else:\n",
    "            continue"
   ]
  },
  {
   "cell_type": "code",
   "execution_count": 16,
   "metadata": {
    "tags": []
   },
   "outputs": [
    {
     "data": {
      "text/html": [
       "<div>\n",
       "<style scoped>\n",
       "    .dataframe tbody tr th:only-of-type {\n",
       "        vertical-align: middle;\n",
       "    }\n",
       "\n",
       "    .dataframe tbody tr th {\n",
       "        vertical-align: top;\n",
       "    }\n",
       "\n",
       "    .dataframe thead th {\n",
       "        text-align: right;\n",
       "    }\n",
       "</style>\n",
       "<table border=\"1\" class=\"dataframe\">\n",
       "  <thead>\n",
       "    <tr style=\"text-align: right;\">\n",
       "      <th>enrolled_university</th>\n",
       "      <th>Full time course</th>\n",
       "      <th>N/A</th>\n",
       "      <th>Part time course</th>\n",
       "      <th>no_enrollment</th>\n",
       "    </tr>\n",
       "    <tr>\n",
       "      <th>education_level</th>\n",
       "      <th></th>\n",
       "      <th></th>\n",
       "      <th></th>\n",
       "      <th></th>\n",
       "    </tr>\n",
       "  </thead>\n",
       "  <tbody>\n",
       "    <tr>\n",
       "      <th>Graduate</th>\n",
       "      <td>2209</td>\n",
       "      <td>171</td>\n",
       "      <td>784</td>\n",
       "      <td>8434</td>\n",
       "    </tr>\n",
       "    <tr>\n",
       "      <th>High School</th>\n",
       "      <td>864</td>\n",
       "      <td>47</td>\n",
       "      <td>166</td>\n",
       "      <td>940</td>\n",
       "    </tr>\n",
       "    <tr>\n",
       "      <th>Masters</th>\n",
       "      <td>557</td>\n",
       "      <td>53</td>\n",
       "      <td>204</td>\n",
       "      <td>3547</td>\n",
       "    </tr>\n",
       "    <tr>\n",
       "      <th>N/A</th>\n",
       "      <td>69</td>\n",
       "      <td>100</td>\n",
       "      <td>21</td>\n",
       "      <td>270</td>\n",
       "    </tr>\n",
       "    <tr>\n",
       "      <th>Phd</th>\n",
       "      <td>25</td>\n",
       "      <td>6</td>\n",
       "      <td>12</td>\n",
       "      <td>371</td>\n",
       "    </tr>\n",
       "    <tr>\n",
       "      <th>Primary School</th>\n",
       "      <td>33</td>\n",
       "      <td>9</td>\n",
       "      <td>11</td>\n",
       "      <td>255</td>\n",
       "    </tr>\n",
       "  </tbody>\n",
       "</table>\n",
       "</div>"
      ],
      "text/plain": [
       "enrolled_university  Full time course  N/A  Part time course  no_enrollment\n",
       "education_level                                                            \n",
       "Graduate                         2209  171               784           8434\n",
       "High School                       864   47               166            940\n",
       "Masters                           557   53               204           3547\n",
       "N/A                                69  100                21            270\n",
       "Phd                                25    6                12            371\n",
       "Primary School                     33    9                11            255"
      ]
     },
     "execution_count": 16,
     "metadata": {},
     "output_type": "execute_result"
    }
   ],
   "source": [
    "pd.crosstab(df['education_level'].fillna(\"N/A\"), df['enrolled_university'].fillna(\"N/A\"))"
   ]
  },
  {
   "cell_type": "markdown",
   "metadata": {
    "tags": []
   },
   "source": [
    "#### Observations - \n",
    "1. ***`enrolled_university`*** -  \n",
    "- Majority of NULLS have **`education_level` == *graduation or higher*** , so we can assume that they did not enroll to any university course. Remaining values can be assumed as \"not enrolled\" too.  \n",
    "- To further solidify our assumption, we will take a look at the crosstab above as well. We observe that `education_level` == NULL has maximum values against `enrolled_university` = \"no enrollment\". While, for `enrolled_university` == NULL has maximum values in `education_level` = \"Graduate\".\n",
    "\n",
    "2. ***`education_level`*** - We plan to make this variable have 3 categories - \"High School or Lower\", \"Graduation\" and \"Post Graduation\". We can then club NULLS with \"High School or Lower\" category since their `major_discipline` is also NULL (heavy majority of the cases where `major_discipline` is NULL have `education_level` up to High School only). \n",
    "\n",
    "3. ***`major_discipline`*** - We plan to make this a binary variable - \"STEM\" and \"Non-STEM\". Now, heavy majority of the cases where Major Discipline is NULL have education up to High School only. So, we will simply put NULLS into \"Non-STEM\" category."
   ]
  },
  {
   "cell_type": "code",
   "execution_count": 17,
   "metadata": {},
   "outputs": [
    {
     "data": {
      "text/plain": [
       "<AxesSubplot:xlabel='enrolled_university', ylabel='count'>"
      ]
     },
     "execution_count": 17,
     "metadata": {},
     "output_type": "execute_result"
    },
    {
     "data": {
      "image/png": "[encoded data removed]",
      "text/plain": [
       "<Figure size 432x288 with 1 Axes>"
      ]
     },
     "metadata": {
      "needs_background": "light"
     },
     "output_type": "display_data"
    }
   ],
   "source": [
    "# enrolled_university\n",
    "df['enrolled_university'] = df['enrolled_university'].fillna(\"no_enrollment\")\n",
    "sns.countplot(df['enrolled_university'])"
   ]
  },
  {
   "cell_type": "markdown",
   "metadata": {},
   "source": [
    "- The variable `enrolled_university` is also extremely skewed which is why we will merge \"Full Time\" and \"Part Time\" into one category i.e. **enrolled**.\n",
    "- We will also binarize the variable into 1 and 0 meaning \"Enrolled\" and \"Not Enrolled\" respectively."
   ]
  },
  {
   "cell_type": "code",
   "execution_count": 18,
   "metadata": {},
   "outputs": [
    {
     "data": {
      "text/plain": [
       "<AxesSubplot:xlabel='enrolled_university', ylabel='count'>"
      ]
     },
     "execution_count": 18,
     "metadata": {},
     "output_type": "execute_result"
    },
    {
     "data": {
      "image/png": "[encoded data removed]",
      "text/plain": [
       "<Figure size 432x288 with 1 Axes>"
      ]
     },
     "metadata": {
      "needs_background": "light"
     },
     "output_type": "display_data"
    }
   ],
   "source": [
    "df['enrolled_university'] = df['enrolled_university'].map(lambda x : 0 if x == \"no_enrollment\" else 1)\n",
    "sns.countplot(df['enrolled_university'])"
   ]
  },
  {
   "cell_type": "code",
   "execution_count": 19,
   "metadata": {},
   "outputs": [
    {
     "data": {
      "text/plain": [
       "Graduate          11598\n",
       "Masters            4361\n",
       "High School        2017\n",
       "Phd                 414\n",
       "Primary School      308\n",
       "Name: education_level, dtype: int64"
      ]
     },
     "execution_count": 19,
     "metadata": {},
     "output_type": "execute_result"
    }
   ],
   "source": [
    "# education_level\n",
    "df['education_level'].value_counts()"
   ]
  },
  {
   "cell_type": "code",
   "execution_count": 20,
   "metadata": {},
   "outputs": [],
   "source": [
    "def education(x):\n",
    "    if x in ['Masters', 'Phd']:\n",
    "        return 2\n",
    "        # \"Post Graduate\"\n",
    "    elif x == \"Graduate\":\n",
    "        return 1\n",
    "        # \"Graduate\"\n",
    "    else:\n",
    "        return 0 \n",
    "        # \"Non-Graduate\""
   ]
  },
  {
   "cell_type": "code",
   "execution_count": 21,
   "metadata": {},
   "outputs": [
    {
     "data": {
      "text/plain": [
       "<AxesSubplot:xlabel='education_level', ylabel='count'>"
      ]
     },
     "execution_count": 21,
     "metadata": {},
     "output_type": "execute_result"
    },
    {
     "data": {
      "image/png": "[encoded data removed]",
      "text/plain": [
       "<Figure size 432x288 with 1 Axes>"
      ]
     },
     "metadata": {
      "needs_background": "light"
     },
     "output_type": "display_data"
    }
   ],
   "source": [
    "df['education_level'] = df['education_level'].map(education)\n",
    "sns.countplot(df['education_level'])"
   ]
  },
  {
   "cell_type": "code",
   "execution_count": 22,
   "metadata": {},
   "outputs": [
    {
     "data": {
      "text/plain": [
       "<AxesSubplot:xlabel='major_discipline', ylabel='count'>"
      ]
     },
     "execution_count": 22,
     "metadata": {},
     "output_type": "execute_result"
    },
    {
     "data": {
      "image/png": "[encoded data removed]",
      "text/plain": [
       "<Figure size 432x288 with 1 Axes>"
      ]
     },
     "metadata": {
      "needs_background": "light"
     },
     "output_type": "display_data"
    }
   ],
   "source": [
    "# major_discipline\n",
    "df['major_discipline'] = df['major_discipline'].map(lambda x : 1 if x == \"STEM\" else 0)\n",
    "sns.countplot(df['major_discipline'])"
   ]
  },
  {
   "cell_type": "markdown",
   "metadata": {},
   "source": [
    "### `experience`"
   ]
  },
  {
   "cell_type": "code",
   "execution_count": 23,
   "metadata": {},
   "outputs": [
    {
     "data": {
      "text/plain": [
       ">20    3286\n",
       "5      1430\n",
       "4      1403\n",
       "3      1354\n",
       "6      1216\n",
       "2      1127\n",
       "7      1028\n",
       "10      985\n",
       "9       980\n",
       "8       802\n",
       "15      686\n",
       "11      664\n",
       "14      586\n",
       "1       549\n",
       "<1      522\n",
       "16      508\n",
       "12      494\n",
       "13      399\n",
       "17      342\n",
       "19      304\n",
       "18      280\n",
       "20      148\n",
       "NaN      65\n",
       "Name: experience, dtype: int64"
      ]
     },
     "execution_count": 23,
     "metadata": {},
     "output_type": "execute_result"
    }
   ],
   "source": [
    "# value_counts\n",
    "df['experience'].value_counts(dropna = False)"
   ]
  },
  {
   "cell_type": "markdown",
   "metadata": {},
   "source": [
    "#### Observations - \n",
    "1. NULLS - There are only 65 NULLS, we can equate them to 0 because this is the information which companies usually have or we can simply remove the rows. We will do the former.\n",
    "2. We can probably use this as a categorical variable by using ranges of experience, which is also commonly seen in job requirements. We can use the below groups - \n",
    "        - 0 to 2\n",
    "        - 3 to 6\n",
    "        - 7 to 10\n",
    "        - 10 to 20\n",
    "        - 20 and above"
   ]
  },
  {
   "cell_type": "code",
   "execution_count": 24,
   "metadata": {},
   "outputs": [],
   "source": [
    "def experience_groups(x):\n",
    "    if (x in [np.nan, '1', '2']):\n",
    "        return 0 \n",
    "        # \"0 to 2\"\n",
    "    elif x in ['3', '4', '5', '6']:\n",
    "        return 1\n",
    "        # \"3 to 6\"\n",
    "    elif x in ['7', '8', '9', '10']:\n",
    "        return 2\n",
    "        # \"7 to 10\"\n",
    "    elif x == \">20\":\n",
    "        return 3\n",
    "        # \"20+\"\n",
    "    else:\n",
    "        return 4\n",
    "        # \"10 to 20\""
   ]
  },
  {
   "cell_type": "code",
   "execution_count": 25,
   "metadata": {},
   "outputs": [
    {
     "data": {
      "text/plain": [
       "1    5403\n",
       "4    4933\n",
       "2    3795\n",
       "3    3286\n",
       "0    1741\n",
       "Name: experience, dtype: int64"
      ]
     },
     "execution_count": 25,
     "metadata": {},
     "output_type": "execute_result"
    }
   ],
   "source": [
    "df['experience'] = df['experience'].map(experience_groups)\n",
    "df['experience'].value_counts(dropna = False)"
   ]
  },
  {
   "cell_type": "markdown",
   "metadata": {},
   "source": [
    "###  `last_new_job`"
   ]
  },
  {
   "cell_type": "code",
   "execution_count": 26,
   "metadata": {},
   "outputs": [
    {
     "data": {
      "text/plain": [
       "1        8040\n",
       ">4       3290\n",
       "2        2900\n",
       "never    2452\n",
       "4        1029\n",
       "3        1024\n",
       "NaN       423\n",
       "Name: last_new_job, dtype: int64"
      ]
     },
     "execution_count": 26,
     "metadata": {},
     "output_type": "execute_result"
    }
   ],
   "source": [
    "# value_counts\n",
    "df['last_new_job'].value_counts(dropna = False)"
   ]
  },
  {
   "cell_type": "code",
   "execution_count": 27,
   "metadata": {},
   "outputs": [
    {
     "data": {
      "text/plain": [
       "<AxesSubplot:xlabel='last_new_job', ylabel='count'>"
      ]
     },
     "execution_count": 27,
     "metadata": {},
     "output_type": "execute_result"
    },
    {
     "data": {
      "image/png": "[encoded data removed]",
      "text/plain": [
       "<Figure size 432x288 with 1 Axes>"
      ]
     },
     "metadata": {
      "needs_background": "light"
     },
     "output_type": "display_data"
    }
   ],
   "source": [
    "sns.countplot(df['last_new_job'].fillna(\"N/A\"), hue = df['target'])"
   ]
  },
  {
   "cell_type": "markdown",
   "metadata": {},
   "source": [
    "- There are 423 NULLs in this variable and these can be equated to \"never\" since this is the information the company usually has.\n",
    "- Based on the frequency distribution above, we can create the below groups - \n",
    "        - \"1\"\n",
    "        - \"2 or more\"\n",
    "        - \"never\""
   ]
  },
  {
   "cell_type": "code",
   "execution_count": 28,
   "metadata": {},
   "outputs": [],
   "source": [
    "def last_job_groups(x):\n",
    "    if x in [np.nan, 'never']:\n",
    "        return 0 \n",
    "        # \"never\"\n",
    "    elif x == \"1\":\n",
    "        return 1\n",
    "    else:\n",
    "        return 2 \n",
    "        # \"2 or more\""
   ]
  },
  {
   "cell_type": "code",
   "execution_count": 29,
   "metadata": {},
   "outputs": [
    {
     "data": {
      "text/plain": [
       "2    8243\n",
       "1    8040\n",
       "0    2875\n",
       "Name: last_new_job, dtype: int64"
      ]
     },
     "execution_count": 29,
     "metadata": {},
     "output_type": "execute_result"
    }
   ],
   "source": [
    "df['last_new_job'] = df['last_new_job'].map(last_job_groups)\n",
    "df['last_new_job'].value_counts(dropna = False)"
   ]
  },
  {
   "cell_type": "code",
   "execution_count": 30,
   "metadata": {},
   "outputs": [
    {
     "data": {
      "text/html": [
       "<div>\n",
       "<style scoped>\n",
       "    .dataframe tbody tr th:only-of-type {\n",
       "        vertical-align: middle;\n",
       "    }\n",
       "\n",
       "    .dataframe tbody tr th {\n",
       "        vertical-align: top;\n",
       "    }\n",
       "\n",
       "    .dataframe thead th {\n",
       "        text-align: right;\n",
       "    }\n",
       "</style>\n",
       "<table border=\"1\" class=\"dataframe\">\n",
       "  <thead>\n",
       "    <tr style=\"text-align: right;\">\n",
       "      <th></th>\n",
       "      <th>city_development_index</th>\n",
       "      <th>gender</th>\n",
       "      <th>relevent_experience</th>\n",
       "      <th>enrolled_university</th>\n",
       "      <th>education_level</th>\n",
       "      <th>major_discipline</th>\n",
       "      <th>experience</th>\n",
       "      <th>company_size</th>\n",
       "      <th>company_type</th>\n",
       "      <th>last_new_job</th>\n",
       "      <th>training_hours</th>\n",
       "      <th>target</th>\n",
       "    </tr>\n",
       "  </thead>\n",
       "  <tbody>\n",
       "    <tr>\n",
       "      <th>0</th>\n",
       "      <td>0.920</td>\n",
       "      <td>1</td>\n",
       "      <td>1</td>\n",
       "      <td>0</td>\n",
       "      <td>1</td>\n",
       "      <td>1</td>\n",
       "      <td>3</td>\n",
       "      <td>NaN</td>\n",
       "      <td>NaN</td>\n",
       "      <td>1</td>\n",
       "      <td>36</td>\n",
       "      <td>1.0</td>\n",
       "    </tr>\n",
       "    <tr>\n",
       "      <th>1</th>\n",
       "      <td>0.776</td>\n",
       "      <td>1</td>\n",
       "      <td>0</td>\n",
       "      <td>0</td>\n",
       "      <td>1</td>\n",
       "      <td>1</td>\n",
       "      <td>4</td>\n",
       "      <td>50-99</td>\n",
       "      <td>Pvt Ltd</td>\n",
       "      <td>2</td>\n",
       "      <td>47</td>\n",
       "      <td>0.0</td>\n",
       "    </tr>\n",
       "    <tr>\n",
       "      <th>2</th>\n",
       "      <td>0.624</td>\n",
       "      <td>0</td>\n",
       "      <td>0</td>\n",
       "      <td>1</td>\n",
       "      <td>1</td>\n",
       "      <td>1</td>\n",
       "      <td>1</td>\n",
       "      <td>NaN</td>\n",
       "      <td>NaN</td>\n",
       "      <td>0</td>\n",
       "      <td>83</td>\n",
       "      <td>0.0</td>\n",
       "    </tr>\n",
       "    <tr>\n",
       "      <th>3</th>\n",
       "      <td>0.789</td>\n",
       "      <td>0</td>\n",
       "      <td>0</td>\n",
       "      <td>0</td>\n",
       "      <td>1</td>\n",
       "      <td>0</td>\n",
       "      <td>4</td>\n",
       "      <td>NaN</td>\n",
       "      <td>Pvt Ltd</td>\n",
       "      <td>0</td>\n",
       "      <td>52</td>\n",
       "      <td>1.0</td>\n",
       "    </tr>\n",
       "    <tr>\n",
       "      <th>4</th>\n",
       "      <td>0.767</td>\n",
       "      <td>1</td>\n",
       "      <td>1</td>\n",
       "      <td>0</td>\n",
       "      <td>2</td>\n",
       "      <td>1</td>\n",
       "      <td>3</td>\n",
       "      <td>50-99</td>\n",
       "      <td>Funded Startup</td>\n",
       "      <td>2</td>\n",
       "      <td>8</td>\n",
       "      <td>0.0</td>\n",
       "    </tr>\n",
       "  </tbody>\n",
       "</table>\n",
       "</div>"
      ],
      "text/plain": [
       "   city_development_index  gender  relevent_experience  enrolled_university  \\\n",
       "0                   0.920       1                    1                    0   \n",
       "1                   0.776       1                    0                    0   \n",
       "2                   0.624       0                    0                    1   \n",
       "3                   0.789       0                    0                    0   \n",
       "4                   0.767       1                    1                    0   \n",
       "\n",
       "   education_level  major_discipline  experience company_size    company_type  \\\n",
       "0                1                 1           3          NaN             NaN   \n",
       "1                1                 1           4        50-99         Pvt Ltd   \n",
       "2                1                 1           1          NaN             NaN   \n",
       "3                1                 0           4          NaN         Pvt Ltd   \n",
       "4                2                 1           3        50-99  Funded Startup   \n",
       "\n",
       "   last_new_job  training_hours  target  \n",
       "0             1              36     1.0  \n",
       "1             2              47     0.0  \n",
       "2             0              83     0.0  \n",
       "3             0              52     1.0  \n",
       "4             2               8     0.0  "
      ]
     },
     "execution_count": 30,
     "metadata": {},
     "output_type": "execute_result"
    }
   ],
   "source": [
    "df.head()"
   ]
  },
  {
   "cell_type": "markdown",
   "metadata": {},
   "source": [
    "### `company_size` and `company_type`"
   ]
  },
  {
   "cell_type": "code",
   "execution_count": 31,
   "metadata": {},
   "outputs": [
    {
     "data": {
      "text/plain": [
       "NaN          0.309949\n",
       "50-99        0.160925\n",
       "100-500      0.134200\n",
       "10000+       0.105387\n",
       "10/49        0.076783\n",
       "1000-4999    0.069318\n",
       "<10          0.068274\n",
       "500-999      0.045777\n",
       "5000-9999    0.029387\n",
       "Name: company_size, dtype: float64"
      ]
     },
     "execution_count": 31,
     "metadata": {},
     "output_type": "execute_result"
    }
   ],
   "source": [
    "# value_counts\n",
    "df['company_size'].value_counts(dropna = False, normalize = True)"
   ]
  },
  {
   "cell_type": "code",
   "execution_count": 32,
   "metadata": {},
   "outputs": [
    {
     "data": {
      "text/plain": [
       "Pvt Ltd                0.512423\n",
       "NaN                    0.320493\n",
       "Funded Startup         0.052250\n",
       "Public Sector          0.049849\n",
       "Early Stage Startup    0.031475\n",
       "NGO                    0.027195\n",
       "Other                  0.006316\n",
       "Name: company_type, dtype: float64"
      ]
     },
     "execution_count": 32,
     "metadata": {},
     "output_type": "execute_result"
    }
   ],
   "source": [
    "# value_counts\n",
    "df['company_type'].value_counts(dropna = False, normalize = True)"
   ]
  },
  {
   "cell_type": "markdown",
   "metadata": {},
   "source": [
    "- Over 30% of data is missing for both the variables, so we will drop these features."
   ]
  },
  {
   "cell_type": "code",
   "execution_count": 33,
   "metadata": {},
   "outputs": [],
   "source": [
    "df.drop(['company_size', 'company_type'], axis = 1, inplace=True)"
   ]
  },
  {
   "cell_type": "code",
   "execution_count": 34,
   "metadata": {},
   "outputs": [
    {
     "data": {
      "text/html": [
       "<div>\n",
       "<style scoped>\n",
       "    .dataframe tbody tr th:only-of-type {\n",
       "        vertical-align: middle;\n",
       "    }\n",
       "\n",
       "    .dataframe tbody tr th {\n",
       "        vertical-align: top;\n",
       "    }\n",
       "\n",
       "    .dataframe thead th {\n",
       "        text-align: right;\n",
       "    }\n",
       "</style>\n",
       "<table border=\"1\" class=\"dataframe\">\n",
       "  <thead>\n",
       "    <tr style=\"text-align: right;\">\n",
       "      <th></th>\n",
       "      <th>city_development_index</th>\n",
       "      <th>gender</th>\n",
       "      <th>relevent_experience</th>\n",
       "      <th>enrolled_university</th>\n",
       "      <th>education_level</th>\n",
       "      <th>major_discipline</th>\n",
       "      <th>experience</th>\n",
       "      <th>last_new_job</th>\n",
       "      <th>training_hours</th>\n",
       "      <th>target</th>\n",
       "    </tr>\n",
       "  </thead>\n",
       "  <tbody>\n",
       "    <tr>\n",
       "      <th>0</th>\n",
       "      <td>0.920</td>\n",
       "      <td>1</td>\n",
       "      <td>1</td>\n",
       "      <td>0</td>\n",
       "      <td>1</td>\n",
       "      <td>1</td>\n",
       "      <td>3</td>\n",
       "      <td>1</td>\n",
       "      <td>36</td>\n",
       "      <td>1.0</td>\n",
       "    </tr>\n",
       "    <tr>\n",
       "      <th>1</th>\n",
       "      <td>0.776</td>\n",
       "      <td>1</td>\n",
       "      <td>0</td>\n",
       "      <td>0</td>\n",
       "      <td>1</td>\n",
       "      <td>1</td>\n",
       "      <td>4</td>\n",
       "      <td>2</td>\n",
       "      <td>47</td>\n",
       "      <td>0.0</td>\n",
       "    </tr>\n",
       "    <tr>\n",
       "      <th>2</th>\n",
       "      <td>0.624</td>\n",
       "      <td>0</td>\n",
       "      <td>0</td>\n",
       "      <td>1</td>\n",
       "      <td>1</td>\n",
       "      <td>1</td>\n",
       "      <td>1</td>\n",
       "      <td>0</td>\n",
       "      <td>83</td>\n",
       "      <td>0.0</td>\n",
       "    </tr>\n",
       "    <tr>\n",
       "      <th>3</th>\n",
       "      <td>0.789</td>\n",
       "      <td>0</td>\n",
       "      <td>0</td>\n",
       "      <td>0</td>\n",
       "      <td>1</td>\n",
       "      <td>0</td>\n",
       "      <td>4</td>\n",
       "      <td>0</td>\n",
       "      <td>52</td>\n",
       "      <td>1.0</td>\n",
       "    </tr>\n",
       "    <tr>\n",
       "      <th>4</th>\n",
       "      <td>0.767</td>\n",
       "      <td>1</td>\n",
       "      <td>1</td>\n",
       "      <td>0</td>\n",
       "      <td>2</td>\n",
       "      <td>1</td>\n",
       "      <td>3</td>\n",
       "      <td>2</td>\n",
       "      <td>8</td>\n",
       "      <td>0.0</td>\n",
       "    </tr>\n",
       "  </tbody>\n",
       "</table>\n",
       "</div>"
      ],
      "text/plain": [
       "   city_development_index  gender  relevent_experience  enrolled_university  \\\n",
       "0                   0.920       1                    1                    0   \n",
       "1                   0.776       1                    0                    0   \n",
       "2                   0.624       0                    0                    1   \n",
       "3                   0.789       0                    0                    0   \n",
       "4                   0.767       1                    1                    0   \n",
       "\n",
       "   education_level  major_discipline  experience  last_new_job  \\\n",
       "0                1                 1           3             1   \n",
       "1                1                 1           4             2   \n",
       "2                1                 1           1             0   \n",
       "3                1                 0           4             0   \n",
       "4                2                 1           3             2   \n",
       "\n",
       "   training_hours  target  \n",
       "0              36     1.0  \n",
       "1              47     0.0  \n",
       "2              83     0.0  \n",
       "3              52     1.0  \n",
       "4               8     0.0  "
      ]
     },
     "execution_count": 34,
     "metadata": {},
     "output_type": "execute_result"
    }
   ],
   "source": [
    "df.head()"
   ]
  },
  {
   "cell_type": "markdown",
   "metadata": {},
   "source": [
    "## Investigating Numerical Variables"
   ]
  },
  {
   "cell_type": "code",
   "execution_count": 35,
   "metadata": {},
   "outputs": [],
   "source": [
    "# function to get normality plots\n",
    "def prob_plots(x):\n",
    "    from scipy.stats import probplot\n",
    "    fig, ax = plt.subplots(1, 3, figsize = (18, 6))\n",
    "\n",
    "    res = probplot(x, plot = ax[0])\n",
    "    ax[0].set_title(\"Q-Q Plot\")\n",
    "\n",
    "    ax[1] = sns.kdeplot(x, fill = True, ax = ax[1])\n",
    "    ax[1].set_title(\"KDE (PDF) Plot\")\n",
    "\n",
    "    ax[2] = sns.ecdfplot(x, ax = ax[2])\n",
    "    ax[2].set_title(\"KDE (PDF) Plot\")"
   ]
  },
  {
   "cell_type": "markdown",
   "metadata": {},
   "source": [
    "### `city_development_index`"
   ]
  },
  {
   "cell_type": "code",
   "execution_count": 36,
   "metadata": {},
   "outputs": [
    {
     "data": {
      "image/png": "[encoded data removed]",
      "text/plain": [
       "<Figure size 1296x432 with 3 Axes>"
      ]
     },
     "metadata": {
      "needs_background": "light"
     },
     "output_type": "display_data"
    }
   ],
   "source": [
    "prob_plots(df['city_development_index'])"
   ]
  },
  {
   "cell_type": "code",
   "execution_count": 37,
   "metadata": {},
   "outputs": [
    {
     "data": {
      "text/plain": [
       "<AxesSubplot:xlabel='target', ylabel='city_development_index'>"
      ]
     },
     "execution_count": 37,
     "metadata": {},
     "output_type": "execute_result"
    },
    {
     "data": {
      "image/png": "[encoded data removed]",
      "text/plain": [
       "<Figure size 432x288 with 1 Axes>"
      ]
     },
     "metadata": {
      "needs_background": "light"
     },
     "output_type": "display_data"
    }
   ],
   "source": [
    "sns.boxplot(y = df['city_development_index'], x = df['target'])"
   ]
  },
  {
   "cell_type": "markdown",
   "metadata": {},
   "source": [
    "- It seems that a higher median `city_development_index` relates to employees being more probable to stay in their current jobs.\n",
    "- We will keep the variable as is for now."
   ]
  },
  {
   "cell_type": "code",
   "execution_count": 38,
   "metadata": {},
   "outputs": [
    {
     "data": {
      "text/plain": [
       "<AxesSubplot:ylabel='city_development_index'>"
      ]
     },
     "execution_count": 38,
     "metadata": {},
     "output_type": "execute_result"
    },
    {
     "data": {
      "image/png": "[encoded data removed]",
      "text/plain": [
       "<Figure size 432x288 with 1 Axes>"
      ]
     },
     "metadata": {
      "needs_background": "light"
     },
     "output_type": "display_data"
    }
   ],
   "source": [
    "# check for outliers\n",
    "sns.boxplot(y = df['city_development_index'])"
   ]
  },
  {
   "cell_type": "markdown",
   "metadata": {},
   "source": [
    "### `training_hours`"
   ]
  },
  {
   "cell_type": "code",
   "execution_count": 39,
   "metadata": {},
   "outputs": [
    {
     "data": {
      "image/png": "[encoded data removed]",
      "text/plain": [
       "<Figure size 1296x432 with 3 Axes>"
      ]
     },
     "metadata": {
      "needs_background": "light"
     },
     "output_type": "display_data"
    }
   ],
   "source": [
    "prob_plots(df['training_hours'])"
   ]
  },
  {
   "cell_type": "code",
   "execution_count": 40,
   "metadata": {},
   "outputs": [
    {
     "data": {
      "text/plain": [
       "<AxesSubplot:xlabel='target', ylabel='training_hours'>"
      ]
     },
     "execution_count": 40,
     "metadata": {},
     "output_type": "execute_result"
    },
    {
     "data": {
      "image/png": "[encoded data removed]",
      "text/plain": [
       "<Figure size 432x288 with 1 Axes>"
      ]
     },
     "metadata": {
      "needs_background": "light"
     },
     "output_type": "display_data"
    }
   ],
   "source": [
    "sns.boxplot(y = df['training_hours'], x = df['target'])"
   ]
  },
  {
   "cell_type": "markdown",
   "metadata": {},
   "source": [
    "- It seems the feature has too many outliers, or rather extreme values, in it. Hence, we will try applying a log transformation to see if that effect is reduced. "
   ]
  },
  {
   "cell_type": "code",
   "execution_count": 41,
   "metadata": {},
   "outputs": [
    {
     "data": {
      "text/plain": [
       "<AxesSubplot:xlabel='target', ylabel='training_hours'>"
      ]
     },
     "execution_count": 41,
     "metadata": {},
     "output_type": "execute_result"
    },
    {
     "data": {
      "image/png": "[encoded data removed]",
      "text/plain": [
       "<Figure size 432x288 with 1 Axes>"
      ]
     },
     "metadata": {
      "needs_background": "light"
     },
     "output_type": "display_data"
    }
   ],
   "source": [
    "# check for outliers\n",
    "sns.boxplot(y = np.log(df['training_hours']), x = df['target'])"
   ]
  },
  {
   "cell_type": "markdown",
   "metadata": {},
   "source": [
    "- This looks much better. We will move ahead with the transformation."
   ]
  },
  {
   "cell_type": "code",
   "execution_count": 42,
   "metadata": {},
   "outputs": [
    {
     "data": {
      "text/html": [
       "<div>\n",
       "<style scoped>\n",
       "    .dataframe tbody tr th:only-of-type {\n",
       "        vertical-align: middle;\n",
       "    }\n",
       "\n",
       "    .dataframe tbody tr th {\n",
       "        vertical-align: top;\n",
       "    }\n",
       "\n",
       "    .dataframe thead th {\n",
       "        text-align: right;\n",
       "    }\n",
       "</style>\n",
       "<table border=\"1\" class=\"dataframe\">\n",
       "  <thead>\n",
       "    <tr style=\"text-align: right;\">\n",
       "      <th></th>\n",
       "      <th>city_development_index</th>\n",
       "      <th>gender</th>\n",
       "      <th>relevent_experience</th>\n",
       "      <th>enrolled_university</th>\n",
       "      <th>education_level</th>\n",
       "      <th>major_discipline</th>\n",
       "      <th>experience</th>\n",
       "      <th>last_new_job</th>\n",
       "      <th>target</th>\n",
       "      <th>log_training_hours</th>\n",
       "    </tr>\n",
       "  </thead>\n",
       "  <tbody>\n",
       "    <tr>\n",
       "      <th>0</th>\n",
       "      <td>0.920</td>\n",
       "      <td>1</td>\n",
       "      <td>1</td>\n",
       "      <td>0</td>\n",
       "      <td>1</td>\n",
       "      <td>1</td>\n",
       "      <td>3</td>\n",
       "      <td>1</td>\n",
       "      <td>1.0</td>\n",
       "      <td>3.583519</td>\n",
       "    </tr>\n",
       "    <tr>\n",
       "      <th>1</th>\n",
       "      <td>0.776</td>\n",
       "      <td>1</td>\n",
       "      <td>0</td>\n",
       "      <td>0</td>\n",
       "      <td>1</td>\n",
       "      <td>1</td>\n",
       "      <td>4</td>\n",
       "      <td>2</td>\n",
       "      <td>0.0</td>\n",
       "      <td>3.850148</td>\n",
       "    </tr>\n",
       "    <tr>\n",
       "      <th>2</th>\n",
       "      <td>0.624</td>\n",
       "      <td>0</td>\n",
       "      <td>0</td>\n",
       "      <td>1</td>\n",
       "      <td>1</td>\n",
       "      <td>1</td>\n",
       "      <td>1</td>\n",
       "      <td>0</td>\n",
       "      <td>0.0</td>\n",
       "      <td>4.418841</td>\n",
       "    </tr>\n",
       "    <tr>\n",
       "      <th>3</th>\n",
       "      <td>0.789</td>\n",
       "      <td>0</td>\n",
       "      <td>0</td>\n",
       "      <td>0</td>\n",
       "      <td>1</td>\n",
       "      <td>0</td>\n",
       "      <td>4</td>\n",
       "      <td>0</td>\n",
       "      <td>1.0</td>\n",
       "      <td>3.951244</td>\n",
       "    </tr>\n",
       "    <tr>\n",
       "      <th>4</th>\n",
       "      <td>0.767</td>\n",
       "      <td>1</td>\n",
       "      <td>1</td>\n",
       "      <td>0</td>\n",
       "      <td>2</td>\n",
       "      <td>1</td>\n",
       "      <td>3</td>\n",
       "      <td>2</td>\n",
       "      <td>0.0</td>\n",
       "      <td>2.079442</td>\n",
       "    </tr>\n",
       "  </tbody>\n",
       "</table>\n",
       "</div>"
      ],
      "text/plain": [
       "   city_development_index  gender  relevent_experience  enrolled_university  \\\n",
       "0                   0.920       1                    1                    0   \n",
       "1                   0.776       1                    0                    0   \n",
       "2                   0.624       0                    0                    1   \n",
       "3                   0.789       0                    0                    0   \n",
       "4                   0.767       1                    1                    0   \n",
       "\n",
       "   education_level  major_discipline  experience  last_new_job  target  \\\n",
       "0                1                 1           3             1     1.0   \n",
       "1                1                 1           4             2     0.0   \n",
       "2                1                 1           1             0     0.0   \n",
       "3                1                 0           4             0     1.0   \n",
       "4                2                 1           3             2     0.0   \n",
       "\n",
       "   log_training_hours  \n",
       "0            3.583519  \n",
       "1            3.850148  \n",
       "2            4.418841  \n",
       "3            3.951244  \n",
       "4            2.079442  "
      ]
     },
     "execution_count": 42,
     "metadata": {},
     "output_type": "execute_result"
    }
   ],
   "source": [
    "df['log_training_hours'] = np.log(df['training_hours'])\n",
    "df.drop('training_hours', axis = 1, inplace = True)\n",
    "df.head()"
   ]
  },
  {
   "cell_type": "markdown",
   "metadata": {},
   "source": [
    "## Check for multicollinearity between two numeric variables."
   ]
  },
  {
   "cell_type": "code",
   "execution_count": 43,
   "metadata": {},
   "outputs": [
    {
     "data": {
      "image/png": "[encoded data removed]",
      "text/plain": [
       "<Figure size 576x432 with 2 Axes>"
      ]
     },
     "metadata": {
      "needs_background": "light"
     },
     "output_type": "display_data"
    }
   ],
   "source": [
    "# correlation plot\n",
    "plt.figure(figsize=(8,6))\n",
    "sns.set_context('paper', font_scale=1.5)\n",
    "\n",
    "corr = df[[\"city_development_index\", \"log_training_hours\"]].corr()\n",
    "\n",
    "hm = sns.heatmap(corr, cmap=\"coolwarm\", annot=True, vmin = -1, vmax = 1, fmt='.3f')\n",
    "hm.set_xticklabels(labels=corr.columns.values, rotation=90)\n",
    "hm.set_yticklabels(labels=corr.columns.values, rotation=0);"
   ]
  },
  {
   "cell_type": "markdown",
   "metadata": {
    "tags": []
   },
   "source": [
    "# Model Training<a name=\"Model\"></a>"
   ]
  },
  {
   "cell_type": "markdown",
   "metadata": {
    "tags": []
   },
   "source": [
    "### Data Preparation for sklearn"
   ]
  },
  {
   "cell_type": "code",
   "execution_count": 44,
   "metadata": {},
   "outputs": [
    {
     "name": "stdout",
     "output_type": "stream",
     "text": [
      "X_train = (13410, 9)\n",
      "X_test = (5748, 9)\n",
      "y_train = (13410,)\n",
      "y_test = (5748,)\n"
     ]
    }
   ],
   "source": [
    "# train test split\n",
    "from sklearn.model_selection import train_test_split\n",
    "\n",
    "X = df.drop('target', axis = 1)\n",
    "y = df['target']\n",
    "X_train, X_test, y_train, y_test = train_test_split(X, y, test_size=0.3, random_state=42)\n",
    "\n",
    "print('X_train =', X_train.shape)\n",
    "print('X_test =', X_test.shape)\n",
    "print('y_train =', y_train.shape)\n",
    "print('y_test =', y_test.shape)"
   ]
  },
  {
   "cell_type": "markdown",
   "metadata": {
    "jp-MarkdownHeadingCollapsed": true,
    "tags": []
   },
   "source": [
    "## 1. Decision Trees"
   ]
  },
  {
   "cell_type": "code",
   "execution_count": 45,
   "metadata": {},
   "outputs": [],
   "source": [
    "# build tree\n",
    "from sklearn import tree\n",
    "clf = tree.DecisionTreeClassifier(random_state = 42).fit(X_train, y_train)"
   ]
  },
  {
   "cell_type": "code",
   "execution_count": 46,
   "metadata": {},
   "outputs": [
    {
     "data": {
      "text/plain": [
       "0.9803877703206563"
      ]
     },
     "execution_count": 46,
     "metadata": {},
     "output_type": "execute_result"
    }
   ],
   "source": [
    "# check score on training set\n",
    "clf.score(X_train, y_train)"
   ]
  },
  {
   "cell_type": "code",
   "execution_count": 47,
   "metadata": {},
   "outputs": [
    {
     "data": {
      "text/plain": [
       "0.6833681280445373"
      ]
     },
     "execution_count": 47,
     "metadata": {},
     "output_type": "execute_result"
    }
   ],
   "source": [
    "# check score on testing set\n",
    "clf.score(X_test, y_test)"
   ]
  },
  {
   "cell_type": "markdown",
   "metadata": {},
   "source": [
    "We can see that the model has overfit. We will now try to regularize this Decision Tree to eliminate overfitting."
   ]
  },
  {
   "cell_type": "code",
   "execution_count": 48,
   "metadata": {},
   "outputs": [
    {
     "data": {
      "text/plain": [
       "RandomizedSearchCV(cv=5, estimator=DecisionTreeClassifier(random_state=42),\n",
       "                   n_iter=100,\n",
       "                   param_distributions={'criterion': ['gini', 'entropy'],\n",
       "                                        'max_depth': [2, 5, 10, 15, 25],\n",
       "                                        'max_leaf_nodes': [5, 10, 20, 30, 40],\n",
       "                                        'min_samples_leaf': [1, 5, 10, 15, 20],\n",
       "                                        'min_samples_split': [2, 10, 20, 30,\n",
       "                                                              40]},\n",
       "                   random_state=42, return_train_score='True',\n",
       "                   scoring='accuracy')"
      ]
     },
     "execution_count": 48,
     "metadata": {},
     "output_type": "execute_result"
    }
   ],
   "source": [
    "from sklearn.model_selection import RandomizedSearchCV\n",
    "\n",
    "cv_parameters = {\"criterion\": [\"gini\", \"entropy\"],\n",
    "              \"min_samples_split\": [2, 10, 20, 30, 40],\n",
    "              \"max_depth\": [2, 5, 10, 15, 25],\n",
    "              \"min_samples_leaf\": [1, 5, 10, 15, 20],\n",
    "              \"max_leaf_nodes\": [5, 10, 20, 30, 40],\n",
    "              }\n",
    "\n",
    "dt_classifier = RandomizedSearchCV(estimator=tree.DecisionTreeClassifier(random_state = 42), \n",
    "                                   param_distributions=cv_parameters,\n",
    "                                   cv = 5,\n",
    "                                   scoring = 'accuracy',\n",
    "                                   return_train_score = 'True',\n",
    "                                   n_iter=100,\n",
    "                                   random_state=42\n",
    "                                  )\n",
    "dt_classifier.fit(X_train, y_train)"
   ]
  },
  {
   "cell_type": "code",
   "execution_count": 49,
   "metadata": {},
   "outputs": [
    {
     "data": {
      "text/plain": [
       "0.7868754660700968"
      ]
     },
     "execution_count": 49,
     "metadata": {},
     "output_type": "execute_result"
    }
   ],
   "source": [
    "dt_classifier.best_score_"
   ]
  },
  {
   "cell_type": "code",
   "execution_count": 50,
   "metadata": {},
   "outputs": [
    {
     "data": {
      "text/html": [
       "<div>\n",
       "<style scoped>\n",
       "    .dataframe tbody tr th:only-of-type {\n",
       "        vertical-align: middle;\n",
       "    }\n",
       "\n",
       "    .dataframe tbody tr th {\n",
       "        vertical-align: top;\n",
       "    }\n",
       "\n",
       "    .dataframe thead th {\n",
       "        text-align: right;\n",
       "    }\n",
       "</style>\n",
       "<table border=\"1\" class=\"dataframe\">\n",
       "  <thead>\n",
       "    <tr style=\"text-align: right;\">\n",
       "      <th></th>\n",
       "      <th>param_min_samples_split</th>\n",
       "      <th>param_min_samples_leaf</th>\n",
       "      <th>param_max_leaf_nodes</th>\n",
       "      <th>param_max_depth</th>\n",
       "      <th>param_criterion</th>\n",
       "      <th>mean_test_score</th>\n",
       "      <th>mean_train_score</th>\n",
       "      <th>std_test_score</th>\n",
       "      <th>std_train_score</th>\n",
       "    </tr>\n",
       "  </thead>\n",
       "  <tbody>\n",
       "    <tr>\n",
       "      <th>50</th>\n",
       "      <td>2</td>\n",
       "      <td>10</td>\n",
       "      <td>5</td>\n",
       "      <td>5</td>\n",
       "      <td>entropy</td>\n",
       "      <td>0.786875</td>\n",
       "      <td>0.786875</td>\n",
       "      <td>0.005427</td>\n",
       "      <td>0.001357</td>\n",
       "    </tr>\n",
       "    <tr>\n",
       "      <th>33</th>\n",
       "      <td>2</td>\n",
       "      <td>20</td>\n",
       "      <td>10</td>\n",
       "      <td>5</td>\n",
       "      <td>gini</td>\n",
       "      <td>0.786875</td>\n",
       "      <td>0.786875</td>\n",
       "      <td>0.005427</td>\n",
       "      <td>0.001357</td>\n",
       "    </tr>\n",
       "    <tr>\n",
       "      <th>23</th>\n",
       "      <td>30</td>\n",
       "      <td>1</td>\n",
       "      <td>10</td>\n",
       "      <td>5</td>\n",
       "      <td>entropy</td>\n",
       "      <td>0.786875</td>\n",
       "      <td>0.786875</td>\n",
       "      <td>0.005427</td>\n",
       "      <td>0.001357</td>\n",
       "    </tr>\n",
       "    <tr>\n",
       "      <th>24</th>\n",
       "      <td>2</td>\n",
       "      <td>20</td>\n",
       "      <td>5</td>\n",
       "      <td>10</td>\n",
       "      <td>gini</td>\n",
       "      <td>0.786875</td>\n",
       "      <td>0.786875</td>\n",
       "      <td>0.005427</td>\n",
       "      <td>0.001357</td>\n",
       "    </tr>\n",
       "    <tr>\n",
       "      <th>68</th>\n",
       "      <td>30</td>\n",
       "      <td>5</td>\n",
       "      <td>10</td>\n",
       "      <td>25</td>\n",
       "      <td>entropy</td>\n",
       "      <td>0.786875</td>\n",
       "      <td>0.786875</td>\n",
       "      <td>0.005427</td>\n",
       "      <td>0.001357</td>\n",
       "    </tr>\n",
       "  </tbody>\n",
       "</table>\n",
       "</div>"
      ],
      "text/plain": [
       "   param_min_samples_split param_min_samples_leaf param_max_leaf_nodes  \\\n",
       "50                       2                     10                    5   \n",
       "33                       2                     20                   10   \n",
       "23                      30                      1                   10   \n",
       "24                       2                     20                    5   \n",
       "68                      30                      5                   10   \n",
       "\n",
       "   param_max_depth param_criterion  mean_test_score  mean_train_score  \\\n",
       "50               5         entropy         0.786875          0.786875   \n",
       "33               5            gini         0.786875          0.786875   \n",
       "23               5         entropy         0.786875          0.786875   \n",
       "24              10            gini         0.786875          0.786875   \n",
       "68              25         entropy         0.786875          0.786875   \n",
       "\n",
       "    std_test_score  std_train_score  \n",
       "50        0.005427         0.001357  \n",
       "33        0.005427         0.001357  \n",
       "23        0.005427         0.001357  \n",
       "24        0.005427         0.001357  \n",
       "68        0.005427         0.001357  "
      ]
     },
     "execution_count": 50,
     "metadata": {},
     "output_type": "execute_result"
    }
   ],
   "source": [
    "cv_results = pd.DataFrame(dt_classifier.cv_results_).dropna()\n",
    "cv_results = cv_results.iloc[:, [4,5,6,7,8,15,23,16,24]]\n",
    "cv_results.sort_values(by = 'mean_test_score', ascending = False).head()"
   ]
  },
  {
   "cell_type": "markdown",
   "metadata": {},
   "source": [
    "- Earlier, we had a training score of 0.98 and testing score of 0.68. The model has obviously overfit and after applying Regularization with Cross Validation, we see that the training score and the testing score are both now a modest 0.78. \n",
    "\n",
    "Let's take a look at how the best tree is built."
   ]
  },
  {
   "cell_type": "code",
   "execution_count": 51,
   "metadata": {},
   "outputs": [
    {
     "data": {
      "image/png": "[encoded data removed]",
      "text/plain": [
       "<Figure size 1080x720 with 1 Axes>"
      ]
     },
     "metadata": {
      "needs_background": "light"
     },
     "output_type": "display_data"
    }
   ],
   "source": [
    "# visualizing tree\n",
    "_, ax = plt.subplots(figsize=(15,10)) # Resize figure\n",
    "tree.plot_tree(dt_classifier.best_estimator_, feature_names=X_train.columns, fontsize=14)\n",
    "plt.show()"
   ]
  },
  {
   "cell_type": "markdown",
   "metadata": {},
   "source": [
    "- We will now try to see if this can be improved upon by using [Cost Complexity Pruning](https://scikit-learn.org/stable/auto_examples/tree/plot_cost_complexity_pruning.html#sphx-glr-auto-examples-tree-plot-cost-complexity-pruning-py) using original Decision Tree which had overfit - \n",
    "\n",
    "Basic Concept - \n",
    "- The `cost_complexity_pruning_path()` function of the `DecisionTreeClassifier()` provides a list of Alpha values, `ccp_alpha`, for each pruned tree at the weakest link (one that least minimizes or does not minimize the misclassificaiton rate from parent to leaf node).\n",
    "- When &#945; $= 0$, the tree is unpruned and as &#945; &#8594; &#8734;, the tree size $T$ &#8594; $1$. \n",
    "- We then plot the traning v/s testing set accuracies for each `ccp_alpha` and see how the accuracy changes with each value. We can then use cross validation around a set of values where training and testing accuracy are good as well as close enough to check which one gives us the best performance."
   ]
  },
  {
   "cell_type": "code",
   "execution_count": 52,
   "metadata": {},
   "outputs": [],
   "source": [
    "clf = tree.DecisionTreeClassifier(random_state = 42)\n",
    "path = clf.cost_complexity_pruning_path(X_train, y_train)\n",
    "ccp_alphas, impurities = path.ccp_alphas, path.impurities"
   ]
  },
  {
   "cell_type": "code",
   "execution_count": 53,
   "metadata": {},
   "outputs": [
    {
     "data": {
      "text/plain": [
       "Text(0.5, 1.0, 'Total Impurity vs effective alpha for training set')"
      ]
     },
     "execution_count": 53,
     "metadata": {},
     "output_type": "execute_result"
    },
    {
     "data": {
      "image/png": "[encoded data removed]",
      "text/plain": [
       "<Figure size 576x576 with 1 Axes>"
      ]
     },
     "metadata": {
      "needs_background": "light"
     },
     "output_type": "display_data"
    }
   ],
   "source": [
    "fig, ax = plt.subplots(figsize = (8,8))\n",
    "ax.plot(ccp_alphas[:-1], impurities[:-1], marker=\"o\", drawstyle=\"steps-post\")\n",
    "ax.set_xlabel(\"effective alpha\")\n",
    "ax.set_ylabel(\"total impurity of leaves\")\n",
    "ax.set_title(\"Total Impurity vs effective alpha for training set\")"
   ]
  },
  {
   "cell_type": "code",
   "execution_count": 54,
   "metadata": {},
   "outputs": [
    {
     "name": "stdout",
     "output_type": "stream",
     "text": [
      "Number of nodes in the last tree is: 1 with ccp_alpha: 0.05294659854356043\n"
     ]
    }
   ],
   "source": [
    "clfs = []\n",
    "ccp_alphas = ccp_alphas[ccp_alphas>=0]\n",
    "for ccp_alpha in ccp_alphas:\n",
    "    clf = tree.DecisionTreeClassifier(random_state=0, ccp_alpha=ccp_alpha)\n",
    "    clf.fit(X_train, y_train)\n",
    "    clfs.append(clf)\n",
    "print(\n",
    "    \"Number of nodes in the last tree is: {} with ccp_alpha: {}\".format(\n",
    "        clfs[-1].tree_.node_count, ccp_alphas[-1]\n",
    "    )\n",
    ")"
   ]
  },
  {
   "cell_type": "code",
   "execution_count": 55,
   "metadata": {},
   "outputs": [
    {
     "data": {
      "image/png": "[encoded data removed]",
      "text/plain": [
       "<Figure size 432x288 with 1 Axes>"
      ]
     },
     "metadata": {
      "needs_background": "light"
     },
     "output_type": "display_data"
    }
   ],
   "source": [
    "train_scores = [clf.score(X_train, y_train) for clf in clfs]\n",
    "test_scores = [clf.score(X_test, y_test) for clf in clfs]\n",
    "\n",
    "fig, ax = plt.subplots()\n",
    "ax.set_xlabel(\"alpha\")\n",
    "ax.set_ylabel(\"accuracy\")\n",
    "ax.set_title(\"Accuracy vs alpha for training and testing sets\")\n",
    "ax.plot(ccp_alphas, train_scores, marker=\"o\", label=\"train\", drawstyle=\"steps-post\")\n",
    "ax.plot(ccp_alphas, test_scores, marker=\"o\", label=\"test\", drawstyle=\"steps-post\")\n",
    "ax.legend()\n",
    "plt.show()\n"
   ]
  },
  {
   "cell_type": "markdown",
   "metadata": {},
   "source": [
    "- Using Cost Complexity pruninig as well, we see that the accuracy is not improved significantly. We will move ahead with Ensemble Learning now."
   ]
  },
  {
   "cell_type": "markdown",
   "metadata": {
    "jp-MarkdownHeadingCollapsed": true,
    "tags": []
   },
   "source": [
    "## 2. Random Forests - Bagging"
   ]
  },
  {
   "cell_type": "markdown",
   "metadata": {},
   "source": [
    "We will first fit a default Random Forest and then use CV (Randomized Search)."
   ]
  },
  {
   "cell_type": "code",
   "execution_count": 56,
   "metadata": {},
   "outputs": [
    {
     "data": {
      "text/plain": [
       "RandomForestClassifier(oob_score=True, random_state=42)"
      ]
     },
     "execution_count": 56,
     "metadata": {},
     "output_type": "execute_result"
    }
   ],
   "source": [
    "from sklearn.ensemble import RandomForestClassifier\n",
    "\n",
    "clf_rf = RandomForestClassifier(random_state=42, oob_score = True)\n",
    "\n",
    "clf_rf.fit(X_train, y_train)"
   ]
  },
  {
   "cell_type": "code",
   "execution_count": 57,
   "metadata": {},
   "outputs": [
    {
     "data": {
      "text/plain": [
       "0.9803877703206563"
      ]
     },
     "execution_count": 57,
     "metadata": {},
     "output_type": "execute_result"
    }
   ],
   "source": [
    "clf_rf.score(X_train, y_train)"
   ]
  },
  {
   "cell_type": "code",
   "execution_count": 58,
   "metadata": {},
   "outputs": [
    {
     "data": {
      "text/plain": [
       "0.7336464857341684"
      ]
     },
     "execution_count": 58,
     "metadata": {},
     "output_type": "execute_result"
    }
   ],
   "source": [
    "clf_rf.score(X_test, y_test)"
   ]
  },
  {
   "cell_type": "markdown",
   "metadata": {},
   "source": [
    "- As we can see, the model seems to be overfitting. This is because we have not applied any hyperparameter tuninig. \n",
    "- We will now try hyperparameter tuninig and see if we get any improvement. \n",
    "- First, let's check how OOB error drops with increase in trees."
   ]
  },
  {
   "cell_type": "code",
   "execution_count": 59,
   "metadata": {},
   "outputs": [
    {
     "data": {
      "image/png": "[encoded data removed]",
      "text/plain": [
       "<Figure size 576x288 with 1 Axes>"
      ]
     },
     "metadata": {
      "needs_background": "light"
     },
     "output_type": "display_data"
    }
   ],
   "source": [
    "# check oob error\n",
    "n_estimators = 500\n",
    "\n",
    "oob_errors = []\n",
    "\n",
    "for i in range(1, n_estimators + 1, 10):\n",
    "    clf_rf.set_params(n_estimators=i)\n",
    "    clf_rf.fit(X_train, y_train)\n",
    "    oob_errors.append([i, 1 - clf_rf.oob_score_])\n",
    "\n",
    "xs, ys = zip(*oob_errors)  # * to unpack by 1 dim\n",
    "\n",
    "plt.figure(figsize=(8,4))\n",
    "sns.lineplot(x = xs, y = ys)\n",
    "plt.xlabel(\"Number of Trees\")\n",
    "plt.ylabel(\"OOB Error\")\n",
    "plt.title(\"OOB Error Plot\")\n",
    "plt.show()"
   ]
  },
  {
   "cell_type": "markdown",
   "metadata": {},
   "source": [
    "- Even for 500 trees, we are not getting any significant improvement. \n",
    "- Let's try some other stuff."
   ]
  },
  {
   "cell_type": "code",
   "execution_count": 60,
   "metadata": {},
   "outputs": [
    {
     "data": {
      "text/plain": [
       "GridSearchCV(cv=3, estimator=RandomForestClassifier(random_state=42),\n",
       "             param_grid={'max_features': ['auto', 'sqrt', 'log2'],\n",
       "                         'n_estimators': [200, 400, 600]},\n",
       "             return_train_score=True, scoring='accuracy')"
      ]
     },
     "execution_count": 60,
     "metadata": {},
     "output_type": "execute_result"
    }
   ],
   "source": [
    "from sklearn.model_selection import GridSearchCV\n",
    "\n",
    "params = {'max_features': ['auto', 'sqrt', 'log2'],\n",
    "          'n_estimators': [200, 400, 600]\n",
    "         }\n",
    "\n",
    "clf_rf_cv = GridSearchCV(estimator = RandomForestClassifier(random_state = 42),\n",
    "                         param_grid = params,\n",
    "                         cv = 3,\n",
    "                         return_train_score = True,\n",
    "                         scoring = 'accuracy'\n",
    "                        )\n",
    "\n",
    "clf_rf_cv.fit(X_train, y_train)"
   ]
  },
  {
   "cell_type": "code",
   "execution_count": 61,
   "metadata": {},
   "outputs": [
    {
     "data": {
      "text/plain": [
       "0.7449664429530202"
      ]
     },
     "execution_count": 61,
     "metadata": {},
     "output_type": "execute_result"
    }
   ],
   "source": [
    "clf_rf_cv.best_score_"
   ]
  },
  {
   "cell_type": "code",
   "execution_count": 62,
   "metadata": {},
   "outputs": [
    {
     "data": {
      "text/plain": [
       "0.9803877703206563"
      ]
     },
     "execution_count": 62,
     "metadata": {},
     "output_type": "execute_result"
    }
   ],
   "source": [
    "clf_rf_cv.score(X_train, y_train)"
   ]
  },
  {
   "cell_type": "code",
   "execution_count": 63,
   "metadata": {},
   "outputs": [
    {
     "data": {
      "text/plain": [
       "0.7360821155184412"
      ]
     },
     "execution_count": 63,
     "metadata": {},
     "output_type": "execute_result"
    }
   ],
   "source": [
    "clf_rf_cv.score(X_test, y_test)"
   ]
  },
  {
   "cell_type": "markdown",
   "metadata": {},
   "source": [
    "- It seems that tuninig hyperparameters has not solved the issue of overfitting using Random Forests either. Let's check the feature importance chart nonetheless."
   ]
  },
  {
   "cell_type": "code",
   "execution_count": 64,
   "metadata": {},
   "outputs": [
    {
     "data": {
      "text/plain": [
       "array([0.30172669, 0.02641152, 0.02290648, 0.02071453, 0.0339138 ,\n",
       "       0.0188256 , 0.0696447 , 0.04391115, 0.46194553])"
      ]
     },
     "execution_count": 64,
     "metadata": {},
     "output_type": "execute_result"
    }
   ],
   "source": [
    "clf_rf_cv.best_estimator_.feature_importances_"
   ]
  },
  {
   "cell_type": "code",
   "execution_count": 65,
   "metadata": {},
   "outputs": [
    {
     "data": {
      "image/png": "[encoded data removed]",
      "text/plain": [
       "<Figure size 432x288 with 1 Axes>"
      ]
     },
     "metadata": {
      "needs_background": "light"
     },
     "output_type": "display_data"
    }
   ],
   "source": [
    "feature_scores = pd.Series(clf_rf_cv.best_estimator_.feature_importances_, index=X_train.columns).sort_values(ascending=False)\n",
    "\n",
    "sns.barplot(x=feature_scores, y=feature_scores.index)\n",
    "plt.xlabel('Gini Importance Score')\n",
    "plt.ylabel('Features')\n",
    "plt.title(\"Feature Importance\")\n",
    "plt.show()"
   ]
  },
  {
   "cell_type": "markdown",
   "metadata": {},
   "source": [
    "- Let's try and build a Random Forest usiong the two important features."
   ]
  },
  {
   "cell_type": "code",
   "execution_count": 66,
   "metadata": {},
   "outputs": [
    {
     "data": {
      "text/plain": [
       "Index(['log_training_hours', 'city_development_index'], dtype='object')"
      ]
     },
     "execution_count": 66,
     "metadata": {},
     "output_type": "execute_result"
    }
   ],
   "source": [
    "feature_scores.index[:2]"
   ]
  },
  {
   "cell_type": "code",
   "execution_count": 67,
   "metadata": {},
   "outputs": [
    {
     "data": {
      "text/plain": [
       "RandomForestClassifier(oob_score=True, random_state=42)"
      ]
     },
     "execution_count": 67,
     "metadata": {},
     "output_type": "execute_result"
    }
   ],
   "source": [
    "clf_rf = RandomForestClassifier(random_state=42, oob_score = True)\n",
    "clf_rf.fit(X_train[feature_scores.index[:2]], y_train)"
   ]
  },
  {
   "cell_type": "code",
   "execution_count": 68,
   "metadata": {},
   "outputs": [
    {
     "data": {
      "text/plain": [
       "0.839821029082774"
      ]
     },
     "execution_count": 68,
     "metadata": {},
     "output_type": "execute_result"
    }
   ],
   "source": [
    "clf_rf.score(X_train[feature_scores.index[:2]], y_train)"
   ]
  },
  {
   "cell_type": "code",
   "execution_count": 69,
   "metadata": {},
   "outputs": [
    {
     "data": {
      "text/plain": [
       "0.7413013221990258"
      ]
     },
     "execution_count": 69,
     "metadata": {},
     "output_type": "execute_result"
    }
   ],
   "source": [
    "clf_rf.score(X_test[feature_scores.index[:2]], y_test)"
   ]
  },
  {
   "cell_type": "markdown",
   "metadata": {},
   "source": [
    "- A little improvement but still negligible. Let's try some boosting methods now."
   ]
  },
  {
   "cell_type": "markdown",
   "metadata": {
    "jp-MarkdownHeadingCollapsed": true,
    "tags": []
   },
   "source": [
    "## 3. AdaBoost"
   ]
  },
  {
   "cell_type": "code",
   "execution_count": 103,
   "metadata": {},
   "outputs": [
    {
     "data": {
      "text/plain": [
       "AdaBoostClassifier(random_state=42)"
      ]
     },
     "execution_count": 103,
     "metadata": {},
     "output_type": "execute_result"
    }
   ],
   "source": [
    "from sklearn.ensemble import AdaBoostClassifier\n",
    "\n",
    "clf_adaBoost = AdaBoostClassifier(random_state=42)\n",
    "\n",
    "clf_adaBoost.fit(X_train, y_train)\n",
    "\n",
    "# if you use base_estimator = DecisionTreeClassifier(), AdaBoost will grow the trees to it's fullest (default DT settings); \n",
    "# so unless using a specific DT, use base_estimator = None"
   ]
  },
  {
   "cell_type": "code",
   "execution_count": 104,
   "metadata": {},
   "outputs": [
    {
     "data": {
      "text/plain": [
       "0.784041759880686"
      ]
     },
     "execution_count": 104,
     "metadata": {},
     "output_type": "execute_result"
    }
   ],
   "source": [
    "clf_adaBoost.score(X_train, y_train)"
   ]
  },
  {
   "cell_type": "code",
   "execution_count": 105,
   "metadata": {},
   "outputs": [
    {
     "data": {
      "text/plain": [
       "0.7694850382741824"
      ]
     },
     "execution_count": 105,
     "metadata": {},
     "output_type": "execute_result"
    }
   ],
   "source": [
    "clf_adaBoost.score(X_test, y_test)"
   ]
  },
  {
   "cell_type": "code",
   "execution_count": 106,
   "metadata": {},
   "outputs": [
    {
     "data": {
      "text/plain": [
       "{'algorithm': 'SAMME.R',\n",
       " 'base_estimator': None,\n",
       " 'learning_rate': 1.0,\n",
       " 'n_estimators': 50,\n",
       " 'random_state': 42}"
      ]
     },
     "execution_count": 106,
     "metadata": {},
     "output_type": "execute_result"
    }
   ],
   "source": [
    "clf_adaBoost.get_params()"
   ]
  },
  {
   "cell_type": "code",
   "execution_count": 74,
   "metadata": {
    "collapsed": true,
    "jupyter": {
     "outputs_hidden": true
    },
    "tags": []
   },
   "outputs": [
    {
     "name": "stdout",
     "output_type": "stream",
     "text": [
      "Fitting 3 folds for each of 35 candidates, totalling 105 fits\n",
      "[CV] END ..............learning_rate=0.0001, n_estimators=50; total time=   0.2s\n",
      "[CV] END ..............learning_rate=0.0001, n_estimators=50; total time=   0.2s\n",
      "[CV] END ..............learning_rate=0.0001, n_estimators=50; total time=   0.2s\n",
      "[CV] END .............learning_rate=0.0001, n_estimators=100; total time=   0.5s\n",
      "[CV] END .............learning_rate=0.0001, n_estimators=100; total time=   0.5s\n",
      "[CV] END .............learning_rate=0.0001, n_estimators=100; total time=   0.4s\n",
      "[CV] END .............learning_rate=0.0001, n_estimators=200; total time=   0.9s\n",
      "[CV] END .............learning_rate=0.0001, n_estimators=200; total time=   0.9s\n",
      "[CV] END .............learning_rate=0.0001, n_estimators=200; total time=   1.0s\n",
      "[CV] END .............learning_rate=0.0001, n_estimators=400; total time=   2.0s\n",
      "[CV] END .............learning_rate=0.0001, n_estimators=400; total time=   2.0s\n",
      "[CV] END .............learning_rate=0.0001, n_estimators=400; total time=   1.9s\n",
      "[CV] END .............learning_rate=0.0001, n_estimators=600; total time=   2.9s\n",
      "[CV] END .............learning_rate=0.0001, n_estimators=600; total time=   2.9s\n",
      "[CV] END .............learning_rate=0.0001, n_estimators=600; total time=   3.0s\n",
      "[CV] END ...............learning_rate=0.001, n_estimators=50; total time=   0.2s\n",
      "[CV] END ...............learning_rate=0.001, n_estimators=50; total time=   0.2s\n",
      "[CV] END ...............learning_rate=0.001, n_estimators=50; total time=   0.2s\n",
      "[CV] END ..............learning_rate=0.001, n_estimators=100; total time=   0.4s\n",
      "[CV] END ..............learning_rate=0.001, n_estimators=100; total time=   0.4s\n",
      "[CV] END ..............learning_rate=0.001, n_estimators=100; total time=   0.4s\n",
      "[CV] END ..............learning_rate=0.001, n_estimators=200; total time=   0.9s\n",
      "[CV] END ..............learning_rate=0.001, n_estimators=200; total time=   0.9s\n",
      "[CV] END ..............learning_rate=0.001, n_estimators=200; total time=   0.9s\n",
      "[CV] END ..............learning_rate=0.001, n_estimators=400; total time=   1.9s\n",
      "[CV] END ..............learning_rate=0.001, n_estimators=400; total time=   1.9s\n",
      "[CV] END ..............learning_rate=0.001, n_estimators=400; total time=   1.9s\n",
      "[CV] END ..............learning_rate=0.001, n_estimators=600; total time=   3.1s\n",
      "[CV] END ..............learning_rate=0.001, n_estimators=600; total time=   3.0s\n",
      "[CV] END ..............learning_rate=0.001, n_estimators=600; total time=   3.0s\n",
      "[CV] END ................learning_rate=0.01, n_estimators=50; total time=   0.2s\n",
      "[CV] END ................learning_rate=0.01, n_estimators=50; total time=   0.2s\n",
      "[CV] END ................learning_rate=0.01, n_estimators=50; total time=   0.2s\n",
      "[CV] END ...............learning_rate=0.01, n_estimators=100; total time=   0.4s\n",
      "[CV] END ...............learning_rate=0.01, n_estimators=100; total time=   0.4s\n",
      "[CV] END ...............learning_rate=0.01, n_estimators=100; total time=   0.4s\n",
      "[CV] END ...............learning_rate=0.01, n_estimators=200; total time=   0.9s\n",
      "[CV] END ...............learning_rate=0.01, n_estimators=200; total time=   0.9s\n",
      "[CV] END ...............learning_rate=0.01, n_estimators=200; total time=   0.9s\n",
      "[CV] END ...............learning_rate=0.01, n_estimators=400; total time=   2.1s\n",
      "[CV] END ...............learning_rate=0.01, n_estimators=400; total time=   2.0s\n",
      "[CV] END ...............learning_rate=0.01, n_estimators=400; total time=   1.9s\n",
      "[CV] END ...............learning_rate=0.01, n_estimators=600; total time=   3.0s\n",
      "[CV] END ...............learning_rate=0.01, n_estimators=600; total time=   3.0s\n",
      "[CV] END ...............learning_rate=0.01, n_estimators=600; total time=   3.0s\n",
      "[CV] END .................learning_rate=0.1, n_estimators=50; total time=   0.2s\n",
      "[CV] END .................learning_rate=0.1, n_estimators=50; total time=   0.2s\n",
      "[CV] END .................learning_rate=0.1, n_estimators=50; total time=   0.2s\n",
      "[CV] END ................learning_rate=0.1, n_estimators=100; total time=   0.4s\n",
      "[CV] END ................learning_rate=0.1, n_estimators=100; total time=   0.5s\n",
      "[CV] END ................learning_rate=0.1, n_estimators=100; total time=   0.4s\n",
      "[CV] END ................learning_rate=0.1, n_estimators=200; total time=   0.9s\n",
      "[CV] END ................learning_rate=0.1, n_estimators=200; total time=   0.9s\n",
      "[CV] END ................learning_rate=0.1, n_estimators=200; total time=   0.9s\n",
      "[CV] END ................learning_rate=0.1, n_estimators=400; total time=   1.9s\n",
      "[CV] END ................learning_rate=0.1, n_estimators=400; total time=   1.9s\n",
      "[CV] END ................learning_rate=0.1, n_estimators=400; total time=   2.0s\n",
      "[CV] END ................learning_rate=0.1, n_estimators=600; total time=   2.9s\n",
      "[CV] END ................learning_rate=0.1, n_estimators=600; total time=   3.0s\n",
      "[CV] END ................learning_rate=0.1, n_estimators=600; total time=   3.0s\n",
      "[CV] END ...................learning_rate=1, n_estimators=50; total time=   0.2s\n",
      "[CV] END ...................learning_rate=1, n_estimators=50; total time=   0.2s\n",
      "[CV] END ...................learning_rate=1, n_estimators=50; total time=   0.2s\n",
      "[CV] END ..................learning_rate=1, n_estimators=100; total time=   0.4s\n",
      "[CV] END ..................learning_rate=1, n_estimators=100; total time=   0.4s\n",
      "[CV] END ..................learning_rate=1, n_estimators=100; total time=   0.4s\n",
      "[CV] END ..................learning_rate=1, n_estimators=200; total time=   1.0s\n",
      "[CV] END ..................learning_rate=1, n_estimators=200; total time=   1.0s\n",
      "[CV] END ..................learning_rate=1, n_estimators=200; total time=   1.0s\n",
      "[CV] END ..................learning_rate=1, n_estimators=400; total time=   2.0s\n",
      "[CV] END ..................learning_rate=1, n_estimators=400; total time=   1.9s\n",
      "[CV] END ..................learning_rate=1, n_estimators=400; total time=   1.9s\n",
      "[CV] END ..................learning_rate=1, n_estimators=600; total time=   3.0s\n",
      "[CV] END ..................learning_rate=1, n_estimators=600; total time=   3.0s\n",
      "[CV] END ..................learning_rate=1, n_estimators=600; total time=   2.9s\n",
      "[CV] END .................learning_rate=1.5, n_estimators=50; total time=   0.2s\n",
      "[CV] END .................learning_rate=1.5, n_estimators=50; total time=   0.2s\n",
      "[CV] END .................learning_rate=1.5, n_estimators=50; total time=   0.2s\n",
      "[CV] END ................learning_rate=1.5, n_estimators=100; total time=   0.4s\n",
      "[CV] END ................learning_rate=1.5, n_estimators=100; total time=   0.4s\n",
      "[CV] END ................learning_rate=1.5, n_estimators=100; total time=   0.4s\n",
      "[CV] END ................learning_rate=1.5, n_estimators=200; total time=   0.9s\n",
      "[CV] END ................learning_rate=1.5, n_estimators=200; total time=   0.9s\n",
      "[CV] END ................learning_rate=1.5, n_estimators=200; total time=   0.9s\n",
      "[CV] END ................learning_rate=1.5, n_estimators=400; total time=   1.9s\n",
      "[CV] END ................learning_rate=1.5, n_estimators=400; total time=   2.0s\n",
      "[CV] END ................learning_rate=1.5, n_estimators=400; total time=   2.0s\n",
      "[CV] END ................learning_rate=1.5, n_estimators=600; total time=   3.0s\n",
      "[CV] END ................learning_rate=1.5, n_estimators=600; total time=   3.0s\n",
      "[CV] END ................learning_rate=1.5, n_estimators=600; total time=   3.0s\n",
      "[CV] END ...................learning_rate=2, n_estimators=50; total time=   0.2s\n",
      "[CV] END ...................learning_rate=2, n_estimators=50; total time=   0.2s\n",
      "[CV] END ...................learning_rate=2, n_estimators=50; total time=   0.2s\n",
      "[CV] END ..................learning_rate=2, n_estimators=100; total time=   0.4s\n",
      "[CV] END ..................learning_rate=2, n_estimators=100; total time=   0.4s\n",
      "[CV] END ..................learning_rate=2, n_estimators=100; total time=   0.4s\n",
      "[CV] END ..................learning_rate=2, n_estimators=200; total time=   0.9s\n",
      "[CV] END ..................learning_rate=2, n_estimators=200; total time=   0.9s\n",
      "[CV] END ..................learning_rate=2, n_estimators=200; total time=   1.0s\n",
      "[CV] END ..................learning_rate=2, n_estimators=400; total time=   2.0s\n",
      "[CV] END ..................learning_rate=2, n_estimators=400; total time=   1.9s\n",
      "[CV] END ..................learning_rate=2, n_estimators=400; total time=   2.0s\n",
      "[CV] END ..................learning_rate=2, n_estimators=600; total time=   3.1s\n",
      "[CV] END ..................learning_rate=2, n_estimators=600; total time=   3.1s\n",
      "[CV] END ..................learning_rate=2, n_estimators=600; total time=   3.0s\n"
     ]
    },
    {
     "data": {
      "text/plain": [
       "GridSearchCV(cv=3, estimator=AdaBoostClassifier(random_state=42),\n",
       "             param_grid={'learning_rate': [0.0001, 0.001, 0.01, 0.1, 1, 1.5, 2],\n",
       "                         'n_estimators': [50, 100, 200, 400, 600]},\n",
       "             return_train_score=True, scoring='accuracy', verbose=2)"
      ]
     },
     "execution_count": 74,
     "metadata": {},
     "output_type": "execute_result"
    }
   ],
   "source": [
    "from sklearn.model_selection import GridSearchCV\n",
    "\n",
    "params = {'n_estimators': [50, 100, 200, 400, 600],\n",
    "          'learning_rate': [0.0001, 0.001, 0.01, 0.1, 1, 1.5, 2]\n",
    "         }\n",
    "\n",
    "clf_adaBoost_cv = GridSearchCV(estimator = AdaBoostClassifier(random_state=42),\n",
    "                               param_grid = params,\n",
    "                               cv = 3,\n",
    "                               return_train_score = True,\n",
    "                               scoring = 'accuracy',\n",
    "                               verbose = 2\n",
    "                              )\n",
    "\n",
    "clf_adaBoost_cv.fit(X_train, y_train)"
   ]
  },
  {
   "cell_type": "code",
   "execution_count": 75,
   "metadata": {},
   "outputs": [
    {
     "data": {
      "text/plain": [
       "0.786875466070097"
      ]
     },
     "execution_count": 75,
     "metadata": {},
     "output_type": "execute_result"
    }
   ],
   "source": [
    "clf_adaBoost_cv.best_score_"
   ]
  },
  {
   "cell_type": "code",
   "execution_count": 76,
   "metadata": {},
   "outputs": [
    {
     "data": {
      "text/plain": [
       "0.786875466070097"
      ]
     },
     "execution_count": 76,
     "metadata": {},
     "output_type": "execute_result"
    }
   ],
   "source": [
    "clf_adaBoost_cv.score(X_train, y_train)"
   ]
  },
  {
   "cell_type": "code",
   "execution_count": 77,
   "metadata": {},
   "outputs": [
    {
     "data": {
      "text/plain": [
       "0.7717466945024356"
      ]
     },
     "execution_count": 77,
     "metadata": {},
     "output_type": "execute_result"
    }
   ],
   "source": [
    "clf_adaBoost_cv.score(X_test, y_test)"
   ]
  },
  {
   "cell_type": "code",
   "execution_count": 99,
   "metadata": {},
   "outputs": [
    {
     "data": {
      "text/plain": [
       "{'algorithm': 'SAMME.R',\n",
       " 'base_estimator': None,\n",
       " 'learning_rate': 0.0001,\n",
       " 'n_estimators': 50,\n",
       " 'random_state': 42}"
      ]
     },
     "execution_count": 99,
     "metadata": {},
     "output_type": "execute_result"
    }
   ],
   "source": [
    "clf_adaBoost_cv.best_estimator_.get_params()"
   ]
  },
  {
   "cell_type": "markdown",
   "metadata": {},
   "source": [
    "- AdaBoost is giving us a traing and test accuracy of ~78%. While not great, at least our model is not overfitting."
   ]
  },
  {
   "cell_type": "markdown",
   "metadata": {
    "jp-MarkdownHeadingCollapsed": true,
    "tags": []
   },
   "source": [
    "## 4. Gradient Boosting"
   ]
  },
  {
   "cell_type": "code",
   "execution_count": 48,
   "metadata": {},
   "outputs": [
    {
     "data": {
      "text/plain": [
       "GradientBoostingClassifier(random_state=42)"
      ]
     },
     "execution_count": 48,
     "metadata": {},
     "output_type": "execute_result"
    }
   ],
   "source": [
    "from sklearn.ensemble import GradientBoostingClassifier\n",
    "\n",
    "gbm_clf = GradientBoostingClassifier(random_state=42)\n",
    "gbm_clf.fit(X_train, y_train)"
   ]
  },
  {
   "cell_type": "code",
   "execution_count": 49,
   "metadata": {},
   "outputs": [
    {
     "data": {
      "text/plain": [
       "0.7903057419835944"
      ]
     },
     "execution_count": 49,
     "metadata": {},
     "output_type": "execute_result"
    }
   ],
   "source": [
    "gbm_clf.score(X_train, y_train)"
   ]
  },
  {
   "cell_type": "code",
   "execution_count": 50,
   "metadata": {},
   "outputs": [
    {
     "data": {
      "text/plain": [
       "0.7726165622825331"
      ]
     },
     "execution_count": 50,
     "metadata": {},
     "output_type": "execute_result"
    }
   ],
   "source": [
    "gbm_clf.score(X_test, y_test)"
   ]
  },
  {
   "cell_type": "code",
   "execution_count": 51,
   "metadata": {
    "collapsed": true,
    "jupyter": {
     "outputs_hidden": true
    },
    "tags": []
   },
   "outputs": [
    {
     "name": "stdout",
     "output_type": "stream",
     "text": [
      "Fitting 3 folds for each of 50 candidates, totalling 150 fits\n",
      "[CV] END learning_rate=0.0001, n_estimators=50, subsample=0.5; total time=   0.1s\n",
      "[CV] END learning_rate=0.0001, n_estimators=50, subsample=0.5; total time=   0.1s\n",
      "[CV] END learning_rate=0.0001, n_estimators=50, subsample=0.5; total time=   0.1s\n",
      "[CV] END learning_rate=0.0001, n_estimators=50, subsample=0.75; total time=   0.2s\n",
      "[CV] END learning_rate=0.0001, n_estimators=50, subsample=0.75; total time=   0.2s\n",
      "[CV] END learning_rate=0.0001, n_estimators=50, subsample=0.75; total time=   0.2s\n",
      "[CV] END learning_rate=0.0001, n_estimators=100, subsample=0.5; total time=   0.3s\n",
      "[CV] END learning_rate=0.0001, n_estimators=100, subsample=0.5; total time=   0.4s\n",
      "[CV] END learning_rate=0.0001, n_estimators=100, subsample=0.5; total time=   0.3s\n",
      "[CV] END learning_rate=0.0001, n_estimators=100, subsample=0.75; total time=   0.4s\n",
      "[CV] END learning_rate=0.0001, n_estimators=100, subsample=0.75; total time=   0.4s\n",
      "[CV] END learning_rate=0.0001, n_estimators=100, subsample=0.75; total time=   0.4s\n",
      "[CV] END learning_rate=0.0001, n_estimators=200, subsample=0.5; total time=   0.8s\n",
      "[CV] END learning_rate=0.0001, n_estimators=200, subsample=0.5; total time=   0.7s\n",
      "[CV] END learning_rate=0.0001, n_estimators=200, subsample=0.5; total time=   0.8s\n",
      "[CV] END learning_rate=0.0001, n_estimators=200, subsample=0.75; total time=   0.9s\n",
      "[CV] END learning_rate=0.0001, n_estimators=200, subsample=0.75; total time=   0.9s\n",
      "[CV] END learning_rate=0.0001, n_estimators=200, subsample=0.75; total time=   0.9s\n",
      "[CV] END learning_rate=0.0001, n_estimators=400, subsample=0.5; total time=   1.6s\n",
      "[CV] END learning_rate=0.0001, n_estimators=400, subsample=0.5; total time=   1.6s\n",
      "[CV] END learning_rate=0.0001, n_estimators=400, subsample=0.5; total time=   1.6s\n",
      "[CV] END learning_rate=0.0001, n_estimators=400, subsample=0.75; total time=   1.9s\n",
      "[CV] END learning_rate=0.0001, n_estimators=400, subsample=0.75; total time=   1.9s\n",
      "[CV] END learning_rate=0.0001, n_estimators=400, subsample=0.75; total time=   1.9s\n",
      "[CV] END learning_rate=0.0001, n_estimators=600, subsample=0.5; total time=   2.6s\n",
      "[CV] END learning_rate=0.0001, n_estimators=600, subsample=0.5; total time=   2.6s\n",
      "[CV] END learning_rate=0.0001, n_estimators=600, subsample=0.5; total time=   2.5s\n",
      "[CV] END learning_rate=0.0001, n_estimators=600, subsample=0.75; total time=   2.9s\n",
      "[CV] END learning_rate=0.0001, n_estimators=600, subsample=0.75; total time=   2.9s\n",
      "[CV] END learning_rate=0.0001, n_estimators=600, subsample=0.75; total time=   2.9s\n",
      "[CV] END learning_rate=0.001, n_estimators=50, subsample=0.5; total time=   0.1s\n",
      "[CV] END learning_rate=0.001, n_estimators=50, subsample=0.5; total time=   0.1s\n",
      "[CV] END learning_rate=0.001, n_estimators=50, subsample=0.5; total time=   0.1s\n",
      "[CV] END learning_rate=0.001, n_estimators=50, subsample=0.75; total time=   0.2s\n",
      "[CV] END learning_rate=0.001, n_estimators=50, subsample=0.75; total time=   0.2s\n",
      "[CV] END learning_rate=0.001, n_estimators=50, subsample=0.75; total time=   0.2s\n",
      "[CV] END learning_rate=0.001, n_estimators=100, subsample=0.5; total time=   0.3s\n",
      "[CV] END learning_rate=0.001, n_estimators=100, subsample=0.5; total time=   0.3s\n",
      "[CV] END learning_rate=0.001, n_estimators=100, subsample=0.5; total time=   0.3s\n",
      "[CV] END learning_rate=0.001, n_estimators=100, subsample=0.75; total time=   0.4s\n",
      "[CV] END learning_rate=0.001, n_estimators=100, subsample=0.75; total time=   0.4s\n",
      "[CV] END learning_rate=0.001, n_estimators=100, subsample=0.75; total time=   0.4s\n",
      "[CV] END learning_rate=0.001, n_estimators=200, subsample=0.5; total time=   0.8s\n",
      "[CV] END learning_rate=0.001, n_estimators=200, subsample=0.5; total time=   0.8s\n",
      "[CV] END learning_rate=0.001, n_estimators=200, subsample=0.5; total time=   0.8s\n",
      "[CV] END learning_rate=0.001, n_estimators=200, subsample=0.75; total time=   0.9s\n",
      "[CV] END learning_rate=0.001, n_estimators=200, subsample=0.75; total time=   0.9s\n",
      "[CV] END learning_rate=0.001, n_estimators=200, subsample=0.75; total time=   0.9s\n",
      "[CV] END learning_rate=0.001, n_estimators=400, subsample=0.5; total time=   1.6s\n",
      "[CV] END learning_rate=0.001, n_estimators=400, subsample=0.5; total time=   1.6s\n",
      "[CV] END learning_rate=0.001, n_estimators=400, subsample=0.5; total time=   1.6s\n",
      "[CV] END learning_rate=0.001, n_estimators=400, subsample=0.75; total time=   1.9s\n",
      "[CV] END learning_rate=0.001, n_estimators=400, subsample=0.75; total time=   1.9s\n",
      "[CV] END learning_rate=0.001, n_estimators=400, subsample=0.75; total time=   1.9s\n",
      "[CV] END learning_rate=0.001, n_estimators=600, subsample=0.5; total time=   2.5s\n",
      "[CV] END learning_rate=0.001, n_estimators=600, subsample=0.5; total time=   2.4s\n",
      "[CV] END learning_rate=0.001, n_estimators=600, subsample=0.5; total time=   2.4s\n",
      "[CV] END learning_rate=0.001, n_estimators=600, subsample=0.75; total time=   2.9s\n",
      "[CV] END learning_rate=0.001, n_estimators=600, subsample=0.75; total time=   2.9s\n",
      "[CV] END learning_rate=0.001, n_estimators=600, subsample=0.75; total time=   2.9s\n",
      "[CV] END .learning_rate=0.01, n_estimators=50, subsample=0.5; total time=   0.1s\n",
      "[CV] END .learning_rate=0.01, n_estimators=50, subsample=0.5; total time=   0.1s\n",
      "[CV] END .learning_rate=0.01, n_estimators=50, subsample=0.5; total time=   0.1s\n",
      "[CV] END learning_rate=0.01, n_estimators=50, subsample=0.75; total time=   0.2s\n",
      "[CV] END learning_rate=0.01, n_estimators=50, subsample=0.75; total time=   0.2s\n",
      "[CV] END learning_rate=0.01, n_estimators=50, subsample=0.75; total time=   0.2s\n",
      "[CV] END learning_rate=0.01, n_estimators=100, subsample=0.5; total time=   0.3s\n",
      "[CV] END learning_rate=0.01, n_estimators=100, subsample=0.5; total time=   0.3s\n",
      "[CV] END learning_rate=0.01, n_estimators=100, subsample=0.5; total time=   0.3s\n",
      "[CV] END learning_rate=0.01, n_estimators=100, subsample=0.75; total time=   0.4s\n",
      "[CV] END learning_rate=0.01, n_estimators=100, subsample=0.75; total time=   0.4s\n",
      "[CV] END learning_rate=0.01, n_estimators=100, subsample=0.75; total time=   0.4s\n",
      "[CV] END learning_rate=0.01, n_estimators=200, subsample=0.5; total time=   0.8s\n",
      "[CV] END learning_rate=0.01, n_estimators=200, subsample=0.5; total time=   0.8s\n",
      "[CV] END learning_rate=0.01, n_estimators=200, subsample=0.5; total time=   0.8s\n",
      "[CV] END learning_rate=0.01, n_estimators=200, subsample=0.75; total time=   0.9s\n",
      "[CV] END learning_rate=0.01, n_estimators=200, subsample=0.75; total time=   0.9s\n",
      "[CV] END learning_rate=0.01, n_estimators=200, subsample=0.75; total time=   0.9s\n",
      "[CV] END learning_rate=0.01, n_estimators=400, subsample=0.5; total time=   1.8s\n",
      "[CV] END learning_rate=0.01, n_estimators=400, subsample=0.5; total time=   1.7s\n",
      "[CV] END learning_rate=0.01, n_estimators=400, subsample=0.5; total time=   1.7s\n",
      "[CV] END learning_rate=0.01, n_estimators=400, subsample=0.75; total time=   2.0s\n",
      "[CV] END learning_rate=0.01, n_estimators=400, subsample=0.75; total time=   2.0s\n",
      "[CV] END learning_rate=0.01, n_estimators=400, subsample=0.75; total time=   2.0s\n",
      "[CV] END learning_rate=0.01, n_estimators=600, subsample=0.5; total time=   2.5s\n",
      "[CV] END learning_rate=0.01, n_estimators=600, subsample=0.5; total time=   2.5s\n",
      "[CV] END learning_rate=0.01, n_estimators=600, subsample=0.5; total time=   2.5s\n",
      "[CV] END learning_rate=0.01, n_estimators=600, subsample=0.75; total time=   2.9s\n",
      "[CV] END learning_rate=0.01, n_estimators=600, subsample=0.75; total time=   2.9s\n",
      "[CV] END learning_rate=0.01, n_estimators=600, subsample=0.75; total time=   2.9s\n",
      "[CV] END ..learning_rate=0.1, n_estimators=50, subsample=0.5; total time=   0.1s\n",
      "[CV] END ..learning_rate=0.1, n_estimators=50, subsample=0.5; total time=   0.1s\n",
      "[CV] END ..learning_rate=0.1, n_estimators=50, subsample=0.5; total time=   0.1s\n",
      "[CV] END .learning_rate=0.1, n_estimators=50, subsample=0.75; total time=   0.2s\n",
      "[CV] END .learning_rate=0.1, n_estimators=50, subsample=0.75; total time=   0.2s\n",
      "[CV] END .learning_rate=0.1, n_estimators=50, subsample=0.75; total time=   0.2s\n",
      "[CV] END .learning_rate=0.1, n_estimators=100, subsample=0.5; total time=   0.3s\n",
      "[CV] END .learning_rate=0.1, n_estimators=100, subsample=0.5; total time=   0.3s\n",
      "[CV] END .learning_rate=0.1, n_estimators=100, subsample=0.5; total time=   0.3s\n",
      "[CV] END learning_rate=0.1, n_estimators=100, subsample=0.75; total time=   0.4s\n",
      "[CV] END learning_rate=0.1, n_estimators=100, subsample=0.75; total time=   0.4s\n",
      "[CV] END learning_rate=0.1, n_estimators=100, subsample=0.75; total time=   0.4s\n",
      "[CV] END .learning_rate=0.1, n_estimators=200, subsample=0.5; total time=   0.8s\n",
      "[CV] END .learning_rate=0.1, n_estimators=200, subsample=0.5; total time=   0.8s\n",
      "[CV] END .learning_rate=0.1, n_estimators=200, subsample=0.5; total time=   0.8s\n",
      "[CV] END learning_rate=0.1, n_estimators=200, subsample=0.75; total time=   0.9s\n",
      "[CV] END learning_rate=0.1, n_estimators=200, subsample=0.75; total time=   0.9s\n",
      "[CV] END learning_rate=0.1, n_estimators=200, subsample=0.75; total time=   0.9s\n",
      "[CV] END .learning_rate=0.1, n_estimators=400, subsample=0.5; total time=   1.6s\n",
      "[CV] END .learning_rate=0.1, n_estimators=400, subsample=0.5; total time=   1.6s\n",
      "[CV] END .learning_rate=0.1, n_estimators=400, subsample=0.5; total time=   1.6s\n",
      "[CV] END learning_rate=0.1, n_estimators=400, subsample=0.75; total time=   2.0s\n",
      "[CV] END learning_rate=0.1, n_estimators=400, subsample=0.75; total time=   1.9s\n",
      "[CV] END learning_rate=0.1, n_estimators=400, subsample=0.75; total time=   1.9s\n",
      "[CV] END .learning_rate=0.1, n_estimators=600, subsample=0.5; total time=   2.5s\n",
      "[CV] END .learning_rate=0.1, n_estimators=600, subsample=0.5; total time=   2.5s\n",
      "[CV] END .learning_rate=0.1, n_estimators=600, subsample=0.5; total time=   2.5s\n",
      "[CV] END learning_rate=0.1, n_estimators=600, subsample=0.75; total time=   2.9s\n",
      "[CV] END learning_rate=0.1, n_estimators=600, subsample=0.75; total time=   2.9s\n",
      "[CV] END learning_rate=0.1, n_estimators=600, subsample=0.75; total time=   3.1s\n",
      "[CV] END ....learning_rate=1, n_estimators=50, subsample=0.5; total time=   0.1s\n",
      "[CV] END ....learning_rate=1, n_estimators=50, subsample=0.5; total time=   0.2s\n",
      "[CV] END ....learning_rate=1, n_estimators=50, subsample=0.5; total time=   0.1s\n",
      "[CV] END ...learning_rate=1, n_estimators=50, subsample=0.75; total time=   0.2s\n",
      "[CV] END ...learning_rate=1, n_estimators=50, subsample=0.75; total time=   0.2s\n",
      "[CV] END ...learning_rate=1, n_estimators=50, subsample=0.75; total time=   0.2s\n",
      "[CV] END ...learning_rate=1, n_estimators=100, subsample=0.5; total time=   0.4s\n",
      "[CV] END ...learning_rate=1, n_estimators=100, subsample=0.5; total time=   0.4s\n",
      "[CV] END ...learning_rate=1, n_estimators=100, subsample=0.5; total time=   0.3s\n",
      "[CV] END ..learning_rate=1, n_estimators=100, subsample=0.75; total time=   0.4s\n",
      "[CV] END ..learning_rate=1, n_estimators=100, subsample=0.75; total time=   0.4s\n",
      "[CV] END ..learning_rate=1, n_estimators=100, subsample=0.75; total time=   0.4s\n",
      "[CV] END ...learning_rate=1, n_estimators=200, subsample=0.5; total time=   0.8s\n",
      "[CV] END ...learning_rate=1, n_estimators=200, subsample=0.5; total time=   0.8s\n",
      "[CV] END ...learning_rate=1, n_estimators=200, subsample=0.5; total time=   0.8s\n",
      "[CV] END ..learning_rate=1, n_estimators=200, subsample=0.75; total time=   0.9s\n",
      "[CV] END ..learning_rate=1, n_estimators=200, subsample=0.75; total time=   0.9s\n",
      "[CV] END ..learning_rate=1, n_estimators=200, subsample=0.75; total time=   0.9s\n",
      "[CV] END ...learning_rate=1, n_estimators=400, subsample=0.5; total time=   1.6s\n",
      "[CV] END ...learning_rate=1, n_estimators=400, subsample=0.5; total time=   1.6s\n",
      "[CV] END ...learning_rate=1, n_estimators=400, subsample=0.5; total time=   1.6s\n",
      "[CV] END ..learning_rate=1, n_estimators=400, subsample=0.75; total time=   1.9s\n",
      "[CV] END ..learning_rate=1, n_estimators=400, subsample=0.75; total time=   1.9s\n",
      "[CV] END ..learning_rate=1, n_estimators=400, subsample=0.75; total time=   1.9s\n",
      "[CV] END ...learning_rate=1, n_estimators=600, subsample=0.5; total time=   2.4s\n",
      "[CV] END ...learning_rate=1, n_estimators=600, subsample=0.5; total time=   2.5s\n",
      "[CV] END ...learning_rate=1, n_estimators=600, subsample=0.5; total time=   2.4s\n",
      "[CV] END ..learning_rate=1, n_estimators=600, subsample=0.75; total time=   2.9s\n",
      "[CV] END ..learning_rate=1, n_estimators=600, subsample=0.75; total time=   2.9s\n",
      "[CV] END ..learning_rate=1, n_estimators=600, subsample=0.75; total time=   2.9s\n"
     ]
    },
    {
     "data": {
      "text/plain": [
       "GridSearchCV(cv=3, estimator=GradientBoostingClassifier(random_state=42),\n",
       "             param_grid={'learning_rate': [0.0001, 0.001, 0.01, 0.1, 1],\n",
       "                         'n_estimators': [50, 100, 200, 400, 600],\n",
       "                         'subsample': [0.5, 0.75]},\n",
       "             return_train_score=True, scoring='accuracy', verbose=2)"
      ]
     },
     "execution_count": 51,
     "metadata": {},
     "output_type": "execute_result"
    }
   ],
   "source": [
    "from sklearn.model_selection import GridSearchCV\n",
    "\n",
    "params = {'n_estimators': [50, 100, 200, 400, 600],\n",
    "          'learning_rate': [0.0001, 0.001, 0.01, 0.1, 1],\n",
    "          'subsample' : [0.5, 0.75]\n",
    "         }\n",
    "\n",
    "clf_gbm_cv = GridSearchCV(estimator = GradientBoostingClassifier(random_state=42),\n",
    "                               param_grid = params,\n",
    "                               cv = 3,\n",
    "                               return_train_score = True,\n",
    "                               scoring = 'accuracy',\n",
    "                               verbose = 2\n",
    "                              )\n",
    "\n",
    "clf_gbm_cv.fit(X_train, y_train)"
   ]
  },
  {
   "cell_type": "code",
   "execution_count": 54,
   "metadata": {},
   "outputs": [
    {
     "data": {
      "text/plain": [
       "GradientBoostingClassifier(learning_rate=0.01, n_estimators=400,\n",
       "                           random_state=42, subsample=0.5)"
      ]
     },
     "execution_count": 54,
     "metadata": {},
     "output_type": "execute_result"
    }
   ],
   "source": [
    "clf_gbm_cv.best_estimator_"
   ]
  },
  {
   "cell_type": "code",
   "execution_count": 55,
   "metadata": {},
   "outputs": [
    {
     "data": {
      "text/plain": [
       "0.7859060402684565"
      ]
     },
     "execution_count": 55,
     "metadata": {},
     "output_type": "execute_result"
    }
   ],
   "source": [
    "clf_gbm_cv.best_score_"
   ]
  },
  {
   "cell_type": "code",
   "execution_count": 52,
   "metadata": {},
   "outputs": [
    {
     "data": {
      "text/plain": [
       "0.7879194630872484"
      ]
     },
     "execution_count": 52,
     "metadata": {},
     "output_type": "execute_result"
    }
   ],
   "source": [
    "clf_gbm_cv.score(X_train, y_train)"
   ]
  },
  {
   "cell_type": "code",
   "execution_count": 53,
   "metadata": {},
   "outputs": [
    {
     "data": {
      "text/plain": [
       "0.7705288796102993"
      ]
     },
     "execution_count": 53,
     "metadata": {},
     "output_type": "execute_result"
    }
   ],
   "source": [
    "clf_gbm_cv.score(X_test, y_test)"
   ]
  },
  {
   "cell_type": "markdown",
   "metadata": {
    "jp-MarkdownHeadingCollapsed": true,
    "tags": []
   },
   "source": [
    "## 5. XGBoost"
   ]
  },
  {
   "cell_type": "code",
   "execution_count": 51,
   "metadata": {},
   "outputs": [
    {
     "data": {
      "text/plain": [
       "XGBClassifier(base_score=0.5, booster='gbtree', colsample_bylevel=1,\n",
       "              colsample_bynode=1, colsample_bytree=1, enable_categorical=False,\n",
       "              eval_metric='logloss', gamma=0, gpu_id=-1, importance_type=None,\n",
       "              interaction_constraints='', learning_rate=0.300000012,\n",
       "              max_delta_step=0, max_depth=6, min_child_weight=1, missing=nan,\n",
       "              monotone_constraints='()', n_estimators=100, n_jobs=8,\n",
       "              num_parallel_tree=1, predictor='auto', random_state=42,\n",
       "              reg_alpha=0, reg_lambda=1, scale_pos_weight=1, subsample=1,\n",
       "              tree_method='exact', validate_parameters=1, verbosity=None)"
      ]
     },
     "execution_count": 51,
     "metadata": {},
     "output_type": "execute_result"
    }
   ],
   "source": [
    "from xgboost import XGBClassifier\n",
    "\n",
    "clf_xgb = XGBClassifier(random_state = 42, eval_metric = 'logloss')\n",
    "clf_xgb.fit(X_train, y_train)"
   ]
  },
  {
   "cell_type": "code",
   "execution_count": 52,
   "metadata": {},
   "outputs": [
    {
     "data": {
      "text/plain": [
       "0.8413870246085011"
      ]
     },
     "execution_count": 52,
     "metadata": {},
     "output_type": "execute_result"
    }
   ],
   "source": [
    "clf_xgb.score(X_train, y_train)"
   ]
  },
  {
   "cell_type": "code",
   "execution_count": 53,
   "metadata": {},
   "outputs": [
    {
     "data": {
      "text/plain": [
       "0.7627000695894224"
      ]
     },
     "execution_count": 53,
     "metadata": {},
     "output_type": "execute_result"
    }
   ],
   "source": [
    "clf_xgb.score(X_test, y_test)"
   ]
  },
  {
   "cell_type": "markdown",
   "metadata": {},
   "source": [
    "- We get a decent model with XGBoost as well. Let's see if we can better this with CV and some hyperparameter tuning.\n",
    "- We will now do a multistep CV tuning the individual learner hyperparameters first and then the model hyperparameters."
   ]
  },
  {
   "cell_type": "code",
   "execution_count": 55,
   "metadata": {
    "collapsed": true,
    "jupyter": {
     "outputs_hidden": true
    },
    "tags": []
   },
   "outputs": [
    {
     "name": "stdout",
     "output_type": "stream",
     "text": [
      "Fitting 3 folds for each of 12 candidates, totalling 36 fits\n",
      "[CV] END ....................max_depth=3, min_child_weight=1; total time=   0.1s\n",
      "[CV] END ....................max_depth=3, min_child_weight=1; total time=   0.1s\n",
      "[CV] END ....................max_depth=3, min_child_weight=1; total time=   0.1s\n",
      "[CV] END ....................max_depth=3, min_child_weight=3; total time=   0.1s\n",
      "[CV] END ....................max_depth=3, min_child_weight=3; total time=   0.1s\n",
      "[CV] END ....................max_depth=3, min_child_weight=3; total time=   0.1s\n",
      "[CV] END ....................max_depth=3, min_child_weight=5; total time=   0.1s\n",
      "[CV] END ....................max_depth=3, min_child_weight=5; total time=   0.1s\n",
      "[CV] END ....................max_depth=3, min_child_weight=5; total time=   0.1s\n",
      "[CV] END ....................max_depth=5, min_child_weight=1; total time=   0.2s\n",
      "[CV] END ....................max_depth=5, min_child_weight=1; total time=   0.2s\n",
      "[CV] END ....................max_depth=5, min_child_weight=1; total time=   0.2s\n",
      "[CV] END ....................max_depth=5, min_child_weight=3; total time=   0.2s\n",
      "[CV] END ....................max_depth=5, min_child_weight=3; total time=   0.2s\n",
      "[CV] END ....................max_depth=5, min_child_weight=3; total time=   0.2s\n",
      "[CV] END ....................max_depth=5, min_child_weight=5; total time=   0.2s\n",
      "[CV] END ....................max_depth=5, min_child_weight=5; total time=   0.2s\n",
      "[CV] END ....................max_depth=5, min_child_weight=5; total time=   0.2s\n",
      "[CV] END ....................max_depth=7, min_child_weight=1; total time=   0.4s\n",
      "[CV] END ....................max_depth=7, min_child_weight=1; total time=   0.5s\n",
      "[CV] END ....................max_depth=7, min_child_weight=1; total time=   0.4s\n",
      "[CV] END ....................max_depth=7, min_child_weight=3; total time=   0.3s\n",
      "[CV] END ....................max_depth=7, min_child_weight=3; total time=   0.3s\n",
      "[CV] END ....................max_depth=7, min_child_weight=3; total time=   0.3s\n",
      "[CV] END ....................max_depth=7, min_child_weight=5; total time=   0.3s\n",
      "[CV] END ....................max_depth=7, min_child_weight=5; total time=   0.3s\n",
      "[CV] END ....................max_depth=7, min_child_weight=5; total time=   0.3s\n",
      "[CV] END ....................max_depth=9, min_child_weight=1; total time=   0.6s\n",
      "[CV] END ....................max_depth=9, min_child_weight=1; total time=   0.6s\n",
      "[CV] END ....................max_depth=9, min_child_weight=1; total time=   0.5s\n",
      "[CV] END ....................max_depth=9, min_child_weight=3; total time=   0.4s\n",
      "[CV] END ....................max_depth=9, min_child_weight=3; total time=   0.4s\n",
      "[CV] END ....................max_depth=9, min_child_weight=3; total time=   0.4s\n",
      "[CV] END ....................max_depth=9, min_child_weight=5; total time=   0.4s\n",
      "[CV] END ....................max_depth=9, min_child_weight=5; total time=   0.5s\n",
      "[CV] END ....................max_depth=9, min_child_weight=5; total time=   0.4s\n"
     ]
    },
    {
     "data": {
      "text/plain": [
       "GridSearchCV(cv=3,\n",
       "             estimator=XGBClassifier(base_score=None, booster=None,\n",
       "                                     colsample_bylevel=None,\n",
       "                                     colsample_bynode=None,\n",
       "                                     colsample_bytree=None,\n",
       "                                     enable_categorical=False,\n",
       "                                     eval_metric='logloss', gamma=None,\n",
       "                                     gpu_id=None, importance_type=None,\n",
       "                                     interaction_constraints=None,\n",
       "                                     learning_rate=None, max_delta_step=None,\n",
       "                                     max_depth=None, min_child_weight=None,\n",
       "                                     missing=nan, mono...constraints=None,\n",
       "                                     n_estimators=100, n_jobs=None,\n",
       "                                     num_parallel_tree=None, predictor=None,\n",
       "                                     random_state=42, reg_alpha=None,\n",
       "                                     reg_lambda=None, scale_pos_weight=None,\n",
       "                                     subsample=None, tree_method=None,\n",
       "                                     validate_parameters=None, verbosity=None),\n",
       "             param_grid={'max_depth': range(3, 10, 2),\n",
       "                         'min_child_weight': range(1, 6, 2)},\n",
       "             return_train_score=True, scoring='accuracy', verbose=2)"
      ]
     },
     "execution_count": 55,
     "metadata": {},
     "output_type": "execute_result"
    }
   ],
   "source": [
    "from sklearn.model_selection import GridSearchCV\n",
    "\n",
    "param_test1 = {\n",
    "    'max_depth':range(3,10,2),\n",
    "    'min_child_weight':range(1,6,2)\n",
    "}\n",
    "\n",
    "clf_xgb_cv = GridSearchCV(estimator = XGBClassifier(random_state = 42, eval_metric = 'logloss'),\n",
    "                               param_grid = param_test1,\n",
    "                               cv = 3,\n",
    "                               return_train_score = True,\n",
    "                               scoring = 'accuracy',\n",
    "                               verbose = 2\n",
    "                              )\n",
    "\n",
    "clf_xgb_cv.fit(X_train, y_train)"
   ]
  },
  {
   "cell_type": "code",
   "execution_count": 56,
   "metadata": {},
   "outputs": [
    {
     "data": {
      "text/plain": [
       "0.7782252050708426"
      ]
     },
     "execution_count": 56,
     "metadata": {},
     "output_type": "execute_result"
    }
   ],
   "source": [
    "clf_xgb_cv.best_score_"
   ]
  },
  {
   "cell_type": "code",
   "execution_count": 57,
   "metadata": {},
   "outputs": [
    {
     "data": {
      "text/plain": [
       "{'max_depth': 3, 'min_child_weight': 3}"
      ]
     },
     "execution_count": 57,
     "metadata": {},
     "output_type": "execute_result"
    }
   ],
   "source": [
    "clf_xgb_cv.best_params_"
   ]
  },
  {
   "cell_type": "code",
   "execution_count": 62,
   "metadata": {
    "collapsed": true,
    "jupyter": {
     "outputs_hidden": true
    },
    "tags": []
   },
   "outputs": [
    {
     "name": "stdout",
     "output_type": "stream",
     "text": [
      "Fitting 3 folds for each of 20 candidates, totalling 60 fits\n",
      "[CV] END ......................gamma=0.0, min_child_weight=6; total time=   0.1s\n",
      "[CV] END ......................gamma=0.0, min_child_weight=6; total time=   0.1s\n",
      "[CV] END ......................gamma=0.0, min_child_weight=6; total time=   0.1s\n",
      "[CV] END ......................gamma=0.0, min_child_weight=8; total time=   0.1s\n",
      "[CV] END ......................gamma=0.0, min_child_weight=8; total time=   0.1s\n",
      "[CV] END ......................gamma=0.0, min_child_weight=8; total time=   0.1s\n",
      "[CV] END .....................gamma=0.0, min_child_weight=10; total time=   0.1s\n",
      "[CV] END .....................gamma=0.0, min_child_weight=10; total time=   0.1s\n",
      "[CV] END .....................gamma=0.0, min_child_weight=10; total time=   0.1s\n",
      "[CV] END .....................gamma=0.0, min_child_weight=12; total time=   0.1s\n",
      "[CV] END .....................gamma=0.0, min_child_weight=12; total time=   0.1s\n",
      "[CV] END .....................gamma=0.0, min_child_weight=12; total time=   0.1s\n",
      "[CV] END ......................gamma=0.1, min_child_weight=6; total time=   0.1s\n",
      "[CV] END ......................gamma=0.1, min_child_weight=6; total time=   0.1s\n",
      "[CV] END ......................gamma=0.1, min_child_weight=6; total time=   0.1s\n",
      "[CV] END ......................gamma=0.1, min_child_weight=8; total time=   0.1s\n",
      "[CV] END ......................gamma=0.1, min_child_weight=8; total time=   0.1s\n",
      "[CV] END ......................gamma=0.1, min_child_weight=8; total time=   0.1s\n",
      "[CV] END .....................gamma=0.1, min_child_weight=10; total time=   0.1s\n",
      "[CV] END .....................gamma=0.1, min_child_weight=10; total time=   0.2s\n",
      "[CV] END .....................gamma=0.1, min_child_weight=10; total time=   0.1s\n",
      "[CV] END .....................gamma=0.1, min_child_weight=12; total time=   0.1s\n",
      "[CV] END .....................gamma=0.1, min_child_weight=12; total time=   0.1s\n",
      "[CV] END .....................gamma=0.1, min_child_weight=12; total time=   0.1s\n",
      "[CV] END ......................gamma=0.2, min_child_weight=6; total time=   0.1s\n",
      "[CV] END ......................gamma=0.2, min_child_weight=6; total time=   0.1s\n",
      "[CV] END ......................gamma=0.2, min_child_weight=6; total time=   0.1s\n",
      "[CV] END ......................gamma=0.2, min_child_weight=8; total time=   0.1s\n",
      "[CV] END ......................gamma=0.2, min_child_weight=8; total time=   0.1s\n",
      "[CV] END ......................gamma=0.2, min_child_weight=8; total time=   0.1s\n",
      "[CV] END .....................gamma=0.2, min_child_weight=10; total time=   0.1s\n",
      "[CV] END .....................gamma=0.2, min_child_weight=10; total time=   0.1s\n",
      "[CV] END .....................gamma=0.2, min_child_weight=10; total time=   0.1s\n",
      "[CV] END .....................gamma=0.2, min_child_weight=12; total time=   0.2s\n",
      "[CV] END .....................gamma=0.2, min_child_weight=12; total time=   0.1s\n",
      "[CV] END .....................gamma=0.2, min_child_weight=12; total time=   0.1s\n",
      "[CV] END ......................gamma=0.3, min_child_weight=6; total time=   0.1s\n",
      "[CV] END ......................gamma=0.3, min_child_weight=6; total time=   0.1s\n",
      "[CV] END ......................gamma=0.3, min_child_weight=6; total time=   0.1s\n",
      "[CV] END ......................gamma=0.3, min_child_weight=8; total time=   0.1s\n",
      "[CV] END ......................gamma=0.3, min_child_weight=8; total time=   0.1s\n",
      "[CV] END ......................gamma=0.3, min_child_weight=8; total time=   0.1s\n",
      "[CV] END .....................gamma=0.3, min_child_weight=10; total time=   0.1s\n",
      "[CV] END .....................gamma=0.3, min_child_weight=10; total time=   0.1s\n",
      "[CV] END .....................gamma=0.3, min_child_weight=10; total time=   0.1s\n",
      "[CV] END .....................gamma=0.3, min_child_weight=12; total time=   0.1s\n",
      "[CV] END .....................gamma=0.3, min_child_weight=12; total time=   0.1s\n",
      "[CV] END .....................gamma=0.3, min_child_weight=12; total time=   0.1s\n",
      "[CV] END ......................gamma=0.4, min_child_weight=6; total time=   0.1s\n",
      "[CV] END ......................gamma=0.4, min_child_weight=6; total time=   0.1s\n",
      "[CV] END ......................gamma=0.4, min_child_weight=6; total time=   0.1s\n",
      "[CV] END ......................gamma=0.4, min_child_weight=8; total time=   0.1s\n",
      "[CV] END ......................gamma=0.4, min_child_weight=8; total time=   0.1s\n",
      "[CV] END ......................gamma=0.4, min_child_weight=8; total time=   0.1s\n",
      "[CV] END .....................gamma=0.4, min_child_weight=10; total time=   0.1s\n",
      "[CV] END .....................gamma=0.4, min_child_weight=10; total time=   0.1s\n",
      "[CV] END .....................gamma=0.4, min_child_weight=10; total time=   0.1s\n",
      "[CV] END .....................gamma=0.4, min_child_weight=12; total time=   0.1s\n",
      "[CV] END .....................gamma=0.4, min_child_weight=12; total time=   0.2s\n",
      "[CV] END .....................gamma=0.4, min_child_weight=12; total time=   0.1s\n"
     ]
    },
    {
     "data": {
      "text/plain": [
       "GridSearchCV(cv=3,\n",
       "             estimator=XGBClassifier(base_score=None, booster=None,\n",
       "                                     colsample_bylevel=None,\n",
       "                                     colsample_bynode=None,\n",
       "                                     colsample_bytree=None,\n",
       "                                     enable_categorical=False,\n",
       "                                     eval_metric='logloss', gamma=None,\n",
       "                                     gpu_id=None, importance_type=None,\n",
       "                                     interaction_constraints=None,\n",
       "                                     learning_rate=None, max_delta_step=None,\n",
       "                                     max_depth=3, min_child_weight=3,\n",
       "                                     missing=nan, monotone_constraints=None,\n",
       "                                     n_estimators=100, n_jobs=None,\n",
       "                                     num_parallel_tree=None, predictor=None,\n",
       "                                     random_state=42, reg_alpha=None,\n",
       "                                     reg_lambda=None, scale_pos_weight=None,\n",
       "                                     subsample=None, tree_method=None,\n",
       "                                     validate_parameters=None, verbosity=None),\n",
       "             param_grid={'gamma': [0.0, 0.1, 0.2, 0.3, 0.4],\n",
       "                         'min_child_weight': [6, 8, 10, 12]},\n",
       "             return_train_score=True, scoring='accuracy', verbose=2)"
      ]
     },
     "execution_count": 62,
     "metadata": {},
     "output_type": "execute_result"
    }
   ],
   "source": [
    "param_test1 = {\n",
    "    'min_child_weight' : [6,8,10,12],\n",
    "    'gamma' : [0.0, 0.1, 0.2, 0.3, 0.4]\n",
    "}\n",
    "\n",
    "clf_xgb_cv = GridSearchCV(estimator = XGBClassifier(random_state = 42, eval_metric = 'logloss',\n",
    "                                                    max_depth = 3, min_child_weight = 3\n",
    "                                                   ),\n",
    "                               param_grid = param_test1,\n",
    "                               cv = 3,\n",
    "                               return_train_score = True,\n",
    "                               scoring = 'accuracy',\n",
    "                               verbose = 2\n",
    "                              )\n",
    "\n",
    "clf_xgb_cv.fit(X_train, y_train)"
   ]
  },
  {
   "cell_type": "code",
   "execution_count": 63,
   "metadata": {},
   "outputs": [
    {
     "data": {
      "text/plain": [
       "0.7809843400447427"
      ]
     },
     "execution_count": 63,
     "metadata": {},
     "output_type": "execute_result"
    }
   ],
   "source": [
    "clf_xgb_cv.best_score_"
   ]
  },
  {
   "cell_type": "code",
   "execution_count": 64,
   "metadata": {},
   "outputs": [
    {
     "data": {
      "text/plain": [
       "{'gamma': 0.4, 'min_child_weight': 8}"
      ]
     },
     "execution_count": 64,
     "metadata": {},
     "output_type": "execute_result"
    }
   ],
   "source": [
    "clf_xgb_cv.best_params_"
   ]
  },
  {
   "cell_type": "code",
   "execution_count": 69,
   "metadata": {
    "collapsed": true,
    "jupyter": {
     "outputs_hidden": true
    },
    "tags": []
   },
   "outputs": [
    {
     "name": "stdout",
     "output_type": "stream",
     "text": [
      "Fitting 3 folds for each of 9 candidates, totalling 27 fits\n",
      "[CV] END ................colsample_bytree=0.5, subsample=0.5; total time=   0.2s\n",
      "[CV] END ................colsample_bytree=0.5, subsample=0.5; total time=   0.1s\n",
      "[CV] END ................colsample_bytree=0.5, subsample=0.5; total time=   0.1s\n",
      "[CV] END ...............colsample_bytree=0.5, subsample=0.75; total time=   0.1s\n",
      "[CV] END ...............colsample_bytree=0.5, subsample=0.75; total time=   0.2s\n",
      "[CV] END ...............colsample_bytree=0.5, subsample=0.75; total time=   0.1s\n",
      "[CV] END ..................colsample_bytree=0.5, subsample=1; total time=   0.1s\n",
      "[CV] END ..................colsample_bytree=0.5, subsample=1; total time=   0.1s\n",
      "[CV] END ..................colsample_bytree=0.5, subsample=1; total time=   0.1s\n",
      "[CV] END ...............colsample_bytree=0.75, subsample=0.5; total time=   0.2s\n",
      "[CV] END ...............colsample_bytree=0.75, subsample=0.5; total time=   0.2s\n",
      "[CV] END ...............colsample_bytree=0.75, subsample=0.5; total time=   0.2s\n",
      "[CV] END ..............colsample_bytree=0.75, subsample=0.75; total time=   0.1s\n",
      "[CV] END ..............colsample_bytree=0.75, subsample=0.75; total time=   0.1s\n",
      "[CV] END ..............colsample_bytree=0.75, subsample=0.75; total time=   0.2s\n",
      "[CV] END .................colsample_bytree=0.75, subsample=1; total time=   0.1s\n",
      "[CV] END .................colsample_bytree=0.75, subsample=1; total time=   0.1s\n",
      "[CV] END .................colsample_bytree=0.75, subsample=1; total time=   0.1s\n",
      "[CV] END ..................colsample_bytree=1, subsample=0.5; total time=   0.2s\n",
      "[CV] END ..................colsample_bytree=1, subsample=0.5; total time=   0.2s\n",
      "[CV] END ..................colsample_bytree=1, subsample=0.5; total time=   0.2s\n",
      "[CV] END .................colsample_bytree=1, subsample=0.75; total time=   0.2s\n",
      "[CV] END .................colsample_bytree=1, subsample=0.75; total time=   0.2s\n",
      "[CV] END .................colsample_bytree=1, subsample=0.75; total time=   0.2s\n",
      "[CV] END ....................colsample_bytree=1, subsample=1; total time=   0.1s\n",
      "[CV] END ....................colsample_bytree=1, subsample=1; total time=   0.1s\n",
      "[CV] END ....................colsample_bytree=1, subsample=1; total time=   0.1s\n"
     ]
    },
    {
     "data": {
      "text/plain": [
       "GridSearchCV(cv=3,\n",
       "             estimator=XGBClassifier(base_score=None, booster=None,\n",
       "                                     colsample_bylevel=None,\n",
       "                                     colsample_bynode=None,\n",
       "                                     colsample_bytree=None,\n",
       "                                     enable_categorical=False,\n",
       "                                     eval_metric='logloss', gamma=0.4,\n",
       "                                     gpu_id=None, importance_type=None,\n",
       "                                     interaction_constraints=None,\n",
       "                                     learning_rate=None, max_delta_step=None,\n",
       "                                     max_depth=3, min_child_weight=8,\n",
       "                                     missing=nan, monotone_constraints=None,\n",
       "                                     n_estimators=100, n_jobs=None,\n",
       "                                     num_parallel_tree=None, predictor=None,\n",
       "                                     random_state=42, reg_alpha=None,\n",
       "                                     reg_lambda=None, scale_pos_weight=None,\n",
       "                                     subsample=None, tree_method=None,\n",
       "                                     validate_parameters=None, verbosity=None),\n",
       "             param_grid={'colsample_bytree': [0.5, 0.75, 1],\n",
       "                         'subsample': [0.5, 0.75, 1]},\n",
       "             return_train_score=True, scoring='accuracy', verbose=2)"
      ]
     },
     "execution_count": 69,
     "metadata": {},
     "output_type": "execute_result"
    }
   ],
   "source": [
    "param_test1 = {\n",
    "    'subsample':[0.5, 0.75, 1],\n",
    "    'colsample_bytree':[0.5, 0.75, 1]\n",
    "}\n",
    "\n",
    "clf_xgb_cv = GridSearchCV(estimator = XGBClassifier(random_state = 42, eval_metric = 'logloss',\n",
    "                                                    max_depth = 3, min_child_weight = 8, \n",
    "                                                    gamma = 0.4\n",
    "                                                   ),\n",
    "                               param_grid = param_test1,\n",
    "                               cv = 3,\n",
    "                               return_train_score = True,\n",
    "                               scoring = 'accuracy',\n",
    "                               verbose = 2\n",
    "                              )\n",
    "\n",
    "clf_xgb_cv.fit(X_train, y_train)"
   ]
  },
  {
   "cell_type": "code",
   "execution_count": 70,
   "metadata": {},
   "outputs": [
    {
     "data": {
      "text/plain": [
       "0.7809843400447427"
      ]
     },
     "execution_count": 70,
     "metadata": {},
     "output_type": "execute_result"
    }
   ],
   "source": [
    "clf_xgb_cv.best_score_"
   ]
  },
  {
   "cell_type": "code",
   "execution_count": 71,
   "metadata": {},
   "outputs": [
    {
     "data": {
      "text/plain": [
       "{'colsample_bytree': 1, 'subsample': 1}"
      ]
     },
     "execution_count": 71,
     "metadata": {},
     "output_type": "execute_result"
    }
   ],
   "source": [
    "clf_xgb_cv.best_params_"
   ]
  },
  {
   "cell_type": "code",
   "execution_count": 72,
   "metadata": {
    "collapsed": true,
    "jupyter": {
     "outputs_hidden": true
    },
    "tags": []
   },
   "outputs": [
    {
     "name": "stdout",
     "output_type": "stream",
     "text": [
      "Fitting 3 folds for each of 36 candidates, totalling 108 fits\n",
      "[CV] END ..................reg_alpha=1e-05, reg_lambda=1e-05; total time=   0.1s\n",
      "[CV] END ..................reg_alpha=1e-05, reg_lambda=1e-05; total time=   0.1s\n",
      "[CV] END ..................reg_alpha=1e-05, reg_lambda=1e-05; total time=   0.1s\n",
      "[CV] END ...................reg_alpha=1e-05, reg_lambda=0.01; total time=   0.1s\n",
      "[CV] END ...................reg_alpha=1e-05, reg_lambda=0.01; total time=   0.1s\n",
      "[CV] END ...................reg_alpha=1e-05, reg_lambda=0.01; total time=   0.1s\n",
      "[CV] END ....................reg_alpha=1e-05, reg_lambda=0.1; total time=   0.1s\n",
      "[CV] END ....................reg_alpha=1e-05, reg_lambda=0.1; total time=   0.1s\n",
      "[CV] END ....................reg_alpha=1e-05, reg_lambda=0.1; total time=   0.2s\n",
      "[CV] END ......................reg_alpha=1e-05, reg_lambda=1; total time=   0.1s\n",
      "[CV] END ......................reg_alpha=1e-05, reg_lambda=1; total time=   0.1s\n",
      "[CV] END ......................reg_alpha=1e-05, reg_lambda=1; total time=   0.1s\n",
      "[CV] END ....................reg_alpha=1e-05, reg_lambda=100; total time=   0.1s\n",
      "[CV] END ....................reg_alpha=1e-05, reg_lambda=100; total time=   0.1s\n",
      "[CV] END ....................reg_alpha=1e-05, reg_lambda=100; total time=   0.1s\n",
      "[CV] END ......................reg_alpha=1e-05, reg_lambda=0; total time=   0.1s\n",
      "[CV] END ......................reg_alpha=1e-05, reg_lambda=0; total time=   0.1s\n",
      "[CV] END ......................reg_alpha=1e-05, reg_lambda=0; total time=   0.1s\n",
      "[CV] END ...................reg_alpha=0.01, reg_lambda=1e-05; total time=   0.1s\n",
      "[CV] END ...................reg_alpha=0.01, reg_lambda=1e-05; total time=   0.1s\n",
      "[CV] END ...................reg_alpha=0.01, reg_lambda=1e-05; total time=   0.1s\n",
      "[CV] END ....................reg_alpha=0.01, reg_lambda=0.01; total time=   0.1s\n",
      "[CV] END ....................reg_alpha=0.01, reg_lambda=0.01; total time=   0.1s\n",
      "[CV] END ....................reg_alpha=0.01, reg_lambda=0.01; total time=   0.1s\n",
      "[CV] END .....................reg_alpha=0.01, reg_lambda=0.1; total time=   0.1s\n",
      "[CV] END .....................reg_alpha=0.01, reg_lambda=0.1; total time=   0.1s\n",
      "[CV] END .....................reg_alpha=0.01, reg_lambda=0.1; total time=   0.1s\n",
      "[CV] END .......................reg_alpha=0.01, reg_lambda=1; total time=   0.1s\n",
      "[CV] END .......................reg_alpha=0.01, reg_lambda=1; total time=   0.1s\n",
      "[CV] END .......................reg_alpha=0.01, reg_lambda=1; total time=   0.1s\n",
      "[CV] END .....................reg_alpha=0.01, reg_lambda=100; total time=   0.1s\n",
      "[CV] END .....................reg_alpha=0.01, reg_lambda=100; total time=   0.2s\n",
      "[CV] END .....................reg_alpha=0.01, reg_lambda=100; total time=   0.1s\n",
      "[CV] END .......................reg_alpha=0.01, reg_lambda=0; total time=   0.1s\n",
      "[CV] END .......................reg_alpha=0.01, reg_lambda=0; total time=   0.1s\n",
      "[CV] END .......................reg_alpha=0.01, reg_lambda=0; total time=   0.1s\n",
      "[CV] END ....................reg_alpha=0.1, reg_lambda=1e-05; total time=   0.1s\n",
      "[CV] END ....................reg_alpha=0.1, reg_lambda=1e-05; total time=   0.1s\n",
      "[CV] END ....................reg_alpha=0.1, reg_lambda=1e-05; total time=   0.1s\n",
      "[CV] END .....................reg_alpha=0.1, reg_lambda=0.01; total time=   0.1s\n",
      "[CV] END .....................reg_alpha=0.1, reg_lambda=0.01; total time=   0.1s\n",
      "[CV] END .....................reg_alpha=0.1, reg_lambda=0.01; total time=   0.1s\n",
      "[CV] END ......................reg_alpha=0.1, reg_lambda=0.1; total time=   0.1s\n",
      "[CV] END ......................reg_alpha=0.1, reg_lambda=0.1; total time=   0.1s\n",
      "[CV] END ......................reg_alpha=0.1, reg_lambda=0.1; total time=   0.1s\n",
      "[CV] END ........................reg_alpha=0.1, reg_lambda=1; total time=   0.1s\n",
      "[CV] END ........................reg_alpha=0.1, reg_lambda=1; total time=   0.1s\n",
      "[CV] END ........................reg_alpha=0.1, reg_lambda=1; total time=   0.1s\n",
      "[CV] END ......................reg_alpha=0.1, reg_lambda=100; total time=   0.1s\n",
      "[CV] END ......................reg_alpha=0.1, reg_lambda=100; total time=   0.1s\n",
      "[CV] END ......................reg_alpha=0.1, reg_lambda=100; total time=   0.1s\n",
      "[CV] END ........................reg_alpha=0.1, reg_lambda=0; total time=   0.1s\n",
      "[CV] END ........................reg_alpha=0.1, reg_lambda=0; total time=   0.1s\n",
      "[CV] END ........................reg_alpha=0.1, reg_lambda=0; total time=   0.1s\n",
      "[CV] END ......................reg_alpha=1, reg_lambda=1e-05; total time=   0.1s\n",
      "[CV] END ......................reg_alpha=1, reg_lambda=1e-05; total time=   0.1s\n",
      "[CV] END ......................reg_alpha=1, reg_lambda=1e-05; total time=   0.1s\n",
      "[CV] END .......................reg_alpha=1, reg_lambda=0.01; total time=   0.1s\n",
      "[CV] END .......................reg_alpha=1, reg_lambda=0.01; total time=   0.1s\n",
      "[CV] END .......................reg_alpha=1, reg_lambda=0.01; total time=   0.1s\n",
      "[CV] END ........................reg_alpha=1, reg_lambda=0.1; total time=   0.1s\n",
      "[CV] END ........................reg_alpha=1, reg_lambda=0.1; total time=   0.1s\n",
      "[CV] END ........................reg_alpha=1, reg_lambda=0.1; total time=   0.1s\n",
      "[CV] END ..........................reg_alpha=1, reg_lambda=1; total time=   0.1s\n",
      "[CV] END ..........................reg_alpha=1, reg_lambda=1; total time=   0.1s\n",
      "[CV] END ..........................reg_alpha=1, reg_lambda=1; total time=   0.1s\n",
      "[CV] END ........................reg_alpha=1, reg_lambda=100; total time=   0.1s\n",
      "[CV] END ........................reg_alpha=1, reg_lambda=100; total time=   0.1s\n",
      "[CV] END ........................reg_alpha=1, reg_lambda=100; total time=   0.2s\n",
      "[CV] END ..........................reg_alpha=1, reg_lambda=0; total time=   0.1s\n",
      "[CV] END ..........................reg_alpha=1, reg_lambda=0; total time=   0.1s\n",
      "[CV] END ..........................reg_alpha=1, reg_lambda=0; total time=   0.1s\n",
      "[CV] END ....................reg_alpha=100, reg_lambda=1e-05; total time=   0.0s\n",
      "[CV] END ....................reg_alpha=100, reg_lambda=1e-05; total time=   0.1s\n",
      "[CV] END ....................reg_alpha=100, reg_lambda=1e-05; total time=   0.1s\n",
      "[CV] END .....................reg_alpha=100, reg_lambda=0.01; total time=   0.0s\n",
      "[CV] END .....................reg_alpha=100, reg_lambda=0.01; total time=   0.1s\n",
      "[CV] END .....................reg_alpha=100, reg_lambda=0.01; total time=   0.2s\n",
      "[CV] END ......................reg_alpha=100, reg_lambda=0.1; total time=   0.0s\n",
      "[CV] END ......................reg_alpha=100, reg_lambda=0.1; total time=   0.1s\n",
      "[CV] END ......................reg_alpha=100, reg_lambda=0.1; total time=   0.1s\n",
      "[CV] END ........................reg_alpha=100, reg_lambda=1; total time=   0.0s\n",
      "[CV] END ........................reg_alpha=100, reg_lambda=1; total time=   0.1s\n",
      "[CV] END ........................reg_alpha=100, reg_lambda=1; total time=   0.1s\n",
      "[CV] END ......................reg_alpha=100, reg_lambda=100; total time=   0.1s\n",
      "[CV] END ......................reg_alpha=100, reg_lambda=100; total time=   0.1s\n",
      "[CV] END ......................reg_alpha=100, reg_lambda=100; total time=   0.1s\n",
      "[CV] END ........................reg_alpha=100, reg_lambda=0; total time=   0.0s\n",
      "[CV] END ........................reg_alpha=100, reg_lambda=0; total time=   0.1s\n",
      "[CV] END ........................reg_alpha=100, reg_lambda=0; total time=   0.1s\n",
      "[CV] END ......................reg_alpha=0, reg_lambda=1e-05; total time=   0.1s\n",
      "[CV] END ......................reg_alpha=0, reg_lambda=1e-05; total time=   0.1s\n",
      "[CV] END ......................reg_alpha=0, reg_lambda=1e-05; total time=   0.1s\n",
      "[CV] END .......................reg_alpha=0, reg_lambda=0.01; total time=   0.2s\n",
      "[CV] END .......................reg_alpha=0, reg_lambda=0.01; total time=   0.2s\n",
      "[CV] END .......................reg_alpha=0, reg_lambda=0.01; total time=   0.2s\n",
      "[CV] END ........................reg_alpha=0, reg_lambda=0.1; total time=   0.2s\n",
      "[CV] END ........................reg_alpha=0, reg_lambda=0.1; total time=   0.2s\n",
      "[CV] END ........................reg_alpha=0, reg_lambda=0.1; total time=   0.2s\n",
      "[CV] END ..........................reg_alpha=0, reg_lambda=1; total time=   0.2s\n",
      "[CV] END ..........................reg_alpha=0, reg_lambda=1; total time=   0.2s\n",
      "[CV] END ..........................reg_alpha=0, reg_lambda=1; total time=   0.2s\n",
      "[CV] END ........................reg_alpha=0, reg_lambda=100; total time=   0.2s\n",
      "[CV] END ........................reg_alpha=0, reg_lambda=100; total time=   0.2s\n",
      "[CV] END ........................reg_alpha=0, reg_lambda=100; total time=   0.2s\n",
      "[CV] END ..........................reg_alpha=0, reg_lambda=0; total time=   0.2s\n",
      "[CV] END ..........................reg_alpha=0, reg_lambda=0; total time=   0.2s\n",
      "[CV] END ..........................reg_alpha=0, reg_lambda=0; total time=   0.3s\n"
     ]
    },
    {
     "data": {
      "text/plain": [
       "GridSearchCV(cv=3,\n",
       "             estimator=XGBClassifier(base_score=None, booster=None,\n",
       "                                     colsample_bylevel=None,\n",
       "                                     colsample_bynode=None,\n",
       "                                     colsample_bytree=None,\n",
       "                                     enable_categorical=False,\n",
       "                                     eval_metric='logloss', gamma=0.4,\n",
       "                                     gpu_id=None, importance_type=None,\n",
       "                                     interaction_constraints=None,\n",
       "                                     learning_rate=None, max_delta_step=None,\n",
       "                                     max_depth=3, min_child_weight=8,\n",
       "                                     missing=nan, monotone_co...\n",
       "                                     n_estimators=100, n_jobs=None,\n",
       "                                     num_parallel_tree=None, predictor=None,\n",
       "                                     random_state=42, reg_alpha=None,\n",
       "                                     reg_lambda=None, scale_pos_weight=None,\n",
       "                                     subsample=None, tree_method=None,\n",
       "                                     validate_parameters=None, verbosity=None),\n",
       "             param_grid={'reg_alpha': [1e-05, 0.01, 0.1, 1, 100, 0],\n",
       "                         'reg_lambda': [1e-05, 0.01, 0.1, 1, 100, 0]},\n",
       "             return_train_score=True, scoring='accuracy', verbose=2)"
      ]
     },
     "execution_count": 72,
     "metadata": {},
     "output_type": "execute_result"
    }
   ],
   "source": [
    "param_test1 = {\n",
    "    'reg_alpha' : [1e-5, 1e-2, 0.1, 1, 100, 0],\n",
    "    'reg_lambda' : [1e-5, 1e-2, 0.1, 1, 100, 0],\n",
    "}\n",
    "\n",
    "clf_xgb_cv = GridSearchCV(estimator = XGBClassifier(random_state = 42, eval_metric = 'logloss',\n",
    "                                                    max_depth = 3, min_child_weight = 8, \n",
    "                                                    gamma = 0.4\n",
    "                                                   ),\n",
    "                               param_grid = param_test1,\n",
    "                               cv = 3,\n",
    "                               return_train_score = True,\n",
    "                               scoring = 'accuracy',\n",
    "                               verbose = 2\n",
    "                              )\n",
    "\n",
    "clf_xgb_cv.fit(X_train, y_train)"
   ]
  },
  {
   "cell_type": "code",
   "execution_count": 73,
   "metadata": {},
   "outputs": [
    {
     "data": {
      "text/plain": [
       "0.786875466070097"
      ]
     },
     "execution_count": 73,
     "metadata": {},
     "output_type": "execute_result"
    }
   ],
   "source": [
    "clf_xgb_cv.best_score_"
   ]
  },
  {
   "cell_type": "code",
   "execution_count": 74,
   "metadata": {},
   "outputs": [
    {
     "data": {
      "text/plain": [
       "{'reg_alpha': 100, 'reg_lambda': 1e-05}"
      ]
     },
     "execution_count": 74,
     "metadata": {},
     "output_type": "execute_result"
    }
   ],
   "source": [
    "clf_xgb_cv.best_params_"
   ]
  },
  {
   "cell_type": "code",
   "execution_count": 75,
   "metadata": {
    "collapsed": true,
    "jupyter": {
     "outputs_hidden": true
    },
    "tags": []
   },
   "outputs": [
    {
     "name": "stdout",
     "output_type": "stream",
     "text": [
      "Fitting 3 folds for each of 25 candidates, totalling 75 fits\n",
      "[CV] END ..............learning_rate=0.0001, n_estimators=50; total time=   0.0s\n",
      "[CV] END ..............learning_rate=0.0001, n_estimators=50; total time=   0.0s\n",
      "[CV] END ..............learning_rate=0.0001, n_estimators=50; total time=   0.0s\n",
      "[CV] END .............learning_rate=0.0001, n_estimators=100; total time=   0.0s\n",
      "[CV] END .............learning_rate=0.0001, n_estimators=100; total time=   0.1s\n",
      "[CV] END .............learning_rate=0.0001, n_estimators=100; total time=   0.1s\n",
      "[CV] END .............learning_rate=0.0001, n_estimators=200; total time=   0.2s\n",
      "[CV] END .............learning_rate=0.0001, n_estimators=200; total time=   0.2s\n",
      "[CV] END .............learning_rate=0.0001, n_estimators=200; total time=   0.2s\n",
      "[CV] END .............learning_rate=0.0001, n_estimators=400; total time=   0.4s\n",
      "[CV] END .............learning_rate=0.0001, n_estimators=400; total time=   0.5s\n",
      "[CV] END .............learning_rate=0.0001, n_estimators=400; total time=   0.6s\n",
      "[CV] END .............learning_rate=0.0001, n_estimators=600; total time=   0.7s\n",
      "[CV] END .............learning_rate=0.0001, n_estimators=600; total time=   0.8s\n",
      "[CV] END .............learning_rate=0.0001, n_estimators=600; total time=   0.8s\n",
      "[CV] END ...............learning_rate=0.001, n_estimators=50; total time=   0.0s\n",
      "[CV] END ...............learning_rate=0.001, n_estimators=50; total time=   0.0s\n",
      "[CV] END ...............learning_rate=0.001, n_estimators=50; total time=   0.0s\n",
      "[CV] END ..............learning_rate=0.001, n_estimators=100; total time=   0.0s\n",
      "[CV] END ..............learning_rate=0.001, n_estimators=100; total time=   0.1s\n",
      "[CV] END ..............learning_rate=0.001, n_estimators=100; total time=   0.1s\n",
      "[CV] END ..............learning_rate=0.001, n_estimators=200; total time=   0.2s\n",
      "[CV] END ..............learning_rate=0.001, n_estimators=200; total time=   0.2s\n",
      "[CV] END ..............learning_rate=0.001, n_estimators=200; total time=   0.2s\n",
      "[CV] END ..............learning_rate=0.001, n_estimators=400; total time=   0.4s\n",
      "[CV] END ..............learning_rate=0.001, n_estimators=400; total time=   0.5s\n",
      "[CV] END ..............learning_rate=0.001, n_estimators=400; total time=   0.5s\n",
      "[CV] END ..............learning_rate=0.001, n_estimators=600; total time=   0.8s\n",
      "[CV] END ..............learning_rate=0.001, n_estimators=600; total time=   1.0s\n",
      "[CV] END ..............learning_rate=0.001, n_estimators=600; total time=   1.0s\n",
      "[CV] END ................learning_rate=0.01, n_estimators=50; total time=   0.0s\n",
      "[CV] END ................learning_rate=0.01, n_estimators=50; total time=   0.0s\n",
      "[CV] END ................learning_rate=0.01, n_estimators=50; total time=   0.0s\n",
      "[CV] END ...............learning_rate=0.01, n_estimators=100; total time=   0.1s\n",
      "[CV] END ...............learning_rate=0.01, n_estimators=100; total time=   0.1s\n",
      "[CV] END ...............learning_rate=0.01, n_estimators=100; total time=   0.1s\n",
      "[CV] END ...............learning_rate=0.01, n_estimators=200; total time=   0.4s\n",
      "[CV] END ...............learning_rate=0.01, n_estimators=200; total time=   0.3s\n",
      "[CV] END ...............learning_rate=0.01, n_estimators=200; total time=   0.3s\n",
      "[CV] END ...............learning_rate=0.01, n_estimators=400; total time=   0.6s\n",
      "[CV] END ...............learning_rate=0.01, n_estimators=400; total time=   0.6s\n",
      "[CV] END ...............learning_rate=0.01, n_estimators=400; total time=   0.6s\n",
      "[CV] END ...............learning_rate=0.01, n_estimators=600; total time=   1.2s\n",
      "[CV] END ...............learning_rate=0.01, n_estimators=600; total time=   1.0s\n",
      "[CV] END ...............learning_rate=0.01, n_estimators=600; total time=   1.3s\n",
      "[CV] END .................learning_rate=0.1, n_estimators=50; total time=   0.0s\n",
      "[CV] END .................learning_rate=0.1, n_estimators=50; total time=   0.1s\n",
      "[CV] END .................learning_rate=0.1, n_estimators=50; total time=   0.0s\n",
      "[CV] END ................learning_rate=0.1, n_estimators=100; total time=   0.1s\n",
      "[CV] END ................learning_rate=0.1, n_estimators=100; total time=   0.1s\n",
      "[CV] END ................learning_rate=0.1, n_estimators=100; total time=   0.2s\n",
      "[CV] END ................learning_rate=0.1, n_estimators=200; total time=   0.5s\n",
      "[CV] END ................learning_rate=0.1, n_estimators=200; total time=   0.5s\n",
      "[CV] END ................learning_rate=0.1, n_estimators=200; total time=   0.5s\n",
      "[CV] END ................learning_rate=0.1, n_estimators=400; total time=   1.1s\n",
      "[CV] END ................learning_rate=0.1, n_estimators=400; total time=   0.9s\n",
      "[CV] END ................learning_rate=0.1, n_estimators=400; total time=   0.8s\n",
      "[CV] END ................learning_rate=0.1, n_estimators=600; total time=   1.3s\n",
      "[CV] END ................learning_rate=0.1, n_estimators=600; total time=   1.4s\n",
      "[CV] END ................learning_rate=0.1, n_estimators=600; total time=   1.5s\n",
      "[CV] END ...................learning_rate=1, n_estimators=50; total time=   0.0s\n",
      "[CV] END ...................learning_rate=1, n_estimators=50; total time=   0.0s\n",
      "[CV] END ...................learning_rate=1, n_estimators=50; total time=   0.0s\n",
      "[CV] END ..................learning_rate=1, n_estimators=100; total time=   0.0s\n",
      "[CV] END ..................learning_rate=1, n_estimators=100; total time=   0.0s\n",
      "[CV] END ..................learning_rate=1, n_estimators=100; total time=   0.0s\n",
      "[CV] END ..................learning_rate=1, n_estimators=200; total time=   0.2s\n",
      "[CV] END ..................learning_rate=1, n_estimators=200; total time=   0.1s\n",
      "[CV] END ..................learning_rate=1, n_estimators=200; total time=   0.2s\n",
      "[CV] END ..................learning_rate=1, n_estimators=400; total time=   0.3s\n",
      "[CV] END ..................learning_rate=1, n_estimators=400; total time=   0.4s\n",
      "[CV] END ..................learning_rate=1, n_estimators=400; total time=   0.5s\n",
      "[CV] END ..................learning_rate=1, n_estimators=600; total time=   0.7s\n",
      "[CV] END ..................learning_rate=1, n_estimators=600; total time=   0.6s\n",
      "[CV] END ..................learning_rate=1, n_estimators=600; total time=   0.6s\n"
     ]
    },
    {
     "data": {
      "text/plain": [
       "GridSearchCV(cv=3,\n",
       "             estimator=XGBClassifier(base_score=None, booster=None,\n",
       "                                     colsample_bylevel=None,\n",
       "                                     colsample_bynode=None,\n",
       "                                     colsample_bytree=None,\n",
       "                                     enable_categorical=False,\n",
       "                                     eval_metric='logloss', gamma=0.4,\n",
       "                                     gpu_id=None, importance_type=None,\n",
       "                                     interaction_constraints=None,\n",
       "                                     learning_rate=None, max_delta_step=None,\n",
       "                                     max_depth=3, min_child_weight=8,\n",
       "                                     missing=nan, monotone_co...\n",
       "                                     n_estimators=100, n_jobs=None,\n",
       "                                     num_parallel_tree=None, predictor=None,\n",
       "                                     random_state=42, reg_alpha=100,\n",
       "                                     reg_lambda=1e-05, scale_pos_weight=None,\n",
       "                                     subsample=None, tree_method=None,\n",
       "                                     validate_parameters=None, verbosity=None),\n",
       "             param_grid={'learning_rate': [0.0001, 0.001, 0.01, 0.1, 1],\n",
       "                         'n_estimators': [50, 100, 200, 400, 600]},\n",
       "             return_train_score=True, scoring='accuracy', verbose=2)"
      ]
     },
     "execution_count": 75,
     "metadata": {},
     "output_type": "execute_result"
    }
   ],
   "source": [
    "param_test1 = {\n",
    "    'n_estimators': [50, 100, 200, 400, 600],\n",
    "    'learning_rate': [0.0001, 0.001, 0.01, 0.1, 1]\n",
    "}\n",
    "\n",
    "clf_xgb_cv = GridSearchCV(estimator = XGBClassifier(random_state = 42, eval_metric = 'logloss',\n",
    "                                                    max_depth = 3, min_child_weight = 8, \n",
    "                                                    gamma = 0.4, reg_alpha = 100, reg_lambda = 1e-05\n",
    "                                                   ),\n",
    "                               param_grid = param_test1,\n",
    "                               cv = 3,\n",
    "                               return_train_score = True,\n",
    "                               scoring = 'accuracy',\n",
    "                               verbose = 2\n",
    "                              )\n",
    "\n",
    "clf_xgb_cv.fit(X_train, y_train) "
   ]
  },
  {
   "cell_type": "code",
   "execution_count": 76,
   "metadata": {},
   "outputs": [
    {
     "data": {
      "text/plain": [
       "0.786875466070097"
      ]
     },
     "execution_count": 76,
     "metadata": {},
     "output_type": "execute_result"
    }
   ],
   "source": [
    "clf_xgb_cv.best_score_"
   ]
  },
  {
   "cell_type": "code",
   "execution_count": 77,
   "metadata": {},
   "outputs": [
    {
     "data": {
      "text/plain": [
       "{'learning_rate': 0.01, 'n_estimators': 100}"
      ]
     },
     "execution_count": 77,
     "metadata": {},
     "output_type": "execute_result"
    }
   ],
   "source": [
    "clf_xgb_cv.best_params_"
   ]
  },
  {
   "cell_type": "markdown",
   "metadata": {},
   "source": [
    "- We now have final model built for XGBoost. Let's compare train and test accuracies."
   ]
  },
  {
   "cell_type": "code",
   "execution_count": 78,
   "metadata": {},
   "outputs": [
    {
     "data": {
      "text/plain": [
       "0.786875466070097"
      ]
     },
     "execution_count": 78,
     "metadata": {},
     "output_type": "execute_result"
    }
   ],
   "source": [
    "clf_xgb_cv.score(X_train, y_train)"
   ]
  },
  {
   "cell_type": "code",
   "execution_count": 79,
   "metadata": {},
   "outputs": [
    {
     "data": {
      "text/plain": [
       "0.7717466945024356"
      ]
     },
     "execution_count": 79,
     "metadata": {},
     "output_type": "execute_result"
    }
   ],
   "source": [
    "clf_xgb_cv.score(X_test, y_test)"
   ]
  },
  {
   "cell_type": "markdown",
   "metadata": {
    "jp-MarkdownHeadingCollapsed": true,
    "tags": []
   },
   "source": [
    "## 6. KNN Classifier"
   ]
  },
  {
   "cell_type": "markdown",
   "metadata": {},
   "source": [
    "- We have repeatedly seen that the two most important features in the dataset are `city_development_index` and `log_training_hours`.\n",
    "- We will first build a kNN classifier using all featues and then using only the two important features.\n",
    "- Also, since this is a distance based algorithm, it is important to scale the features first."
   ]
  },
  {
   "cell_type": "code",
   "execution_count": 57,
   "metadata": {},
   "outputs": [
    {
     "data": {
      "text/plain": [
       "array([[0.35129741, 0.        , 1.        , 0.        , 1.        ,\n",
       "        1.        , 0.5       , 0.5       , 0.63414285],\n",
       "       [0.94211577, 1.        , 1.        , 0.        , 0.5       ,\n",
       "        1.        , 1.        , 1.        , 0.66548514],\n",
       "       [0.35129741, 0.        , 1.        , 0.        , 0.5       ,\n",
       "        1.        , 0.25      , 0.5       , 0.84324928],\n",
       "       [0.46706587, 1.        , 0.        , 1.        , 0.5       ,\n",
       "        1.        , 0.        , 0.        , 0.65439054],\n",
       "       [0.35129741, 1.        , 0.        , 1.        , 0.        ,\n",
       "        0.        , 0.5       , 0.        , 0.72536137]])"
      ]
     },
     "execution_count": 57,
     "metadata": {},
     "output_type": "execute_result"
    }
   ],
   "source": [
    "# Niormalizing Data - MinMaxScaler\n",
    "from sklearn.preprocessing import MinMaxScaler\n",
    "\n",
    "norm = MinMaxScaler().fit(X_train)\n",
    "\n",
    "# transform training data\n",
    "X_train_norm = norm.transform(X_train)\n",
    "\n",
    "# transform testing dataabs\n",
    "X_test_norm = norm.transform(X_test)\n",
    "\n",
    "X_train_norm[:5]"
   ]
  },
  {
   "cell_type": "code",
   "execution_count": 51,
   "metadata": {},
   "outputs": [
    {
     "data": {
      "text/plain": [
       "KNeighborsClassifier()"
      ]
     },
     "execution_count": 51,
     "metadata": {},
     "output_type": "execute_result"
    }
   ],
   "source": [
    "from sklearn.neighbors import KNeighborsClassifier\n",
    "\n",
    "clf_knn = KNeighborsClassifier()\n",
    "clf_knn.fit(X_train_norm, y_train)"
   ]
  },
  {
   "cell_type": "code",
   "execution_count": 60,
   "metadata": {},
   "outputs": [
    {
     "data": {
      "text/plain": [
       "0.7419972164231037"
      ]
     },
     "execution_count": 60,
     "metadata": {},
     "output_type": "execute_result"
    }
   ],
   "source": [
    "clf_knn.score(X_test_norm, y_test)"
   ]
  },
  {
   "cell_type": "markdown",
   "metadata": {},
   "source": [
    "-Now, let's try using only the top two features."
   ]
  },
  {
   "cell_type": "code",
   "execution_count": 63,
   "metadata": {},
   "outputs": [
    {
     "data": {
      "text/plain": [
       "array([[0.35129741, 0.63414285],\n",
       "       [0.94211577, 0.66548514],\n",
       "       [0.35129741, 0.84324928],\n",
       "       ...,\n",
       "       [0.88822355, 0.69502734],\n",
       "       [0.35129741, 0.4766264 ],\n",
       "       [0.83433134, 0.67250271]])"
      ]
     },
     "execution_count": 63,
     "metadata": {},
     "output_type": "execute_result"
    }
   ],
   "source": [
    "X_train_norm[:, [0,-1]]"
   ]
  },
  {
   "cell_type": "code",
   "execution_count": 64,
   "metadata": {},
   "outputs": [
    {
     "data": {
      "text/plain": [
       "KNeighborsClassifier()"
      ]
     },
     "execution_count": 64,
     "metadata": {},
     "output_type": "execute_result"
    }
   ],
   "source": [
    "clf_knn = KNeighborsClassifier()\n",
    "clf_knn.fit(X_train_norm[:, [0,-1]], y_train)"
   ]
  },
  {
   "cell_type": "code",
   "execution_count": 65,
   "metadata": {},
   "outputs": [
    {
     "data": {
      "text/plain": [
       "0.7350382741823243"
      ]
     },
     "execution_count": 65,
     "metadata": {},
     "output_type": "execute_result"
    }
   ],
   "source": [
    "clf_knn.score(X_test_norm[:, [0,-1]], y_test)"
   ]
  },
  {
   "cell_type": "markdown",
   "metadata": {},
   "source": [
    "- We see there is no improvement. Let's continue with the earlier approach with all features and check with some hyperparameter tuning."
   ]
  },
  {
   "cell_type": "code",
   "execution_count": 76,
   "metadata": {
    "collapsed": true,
    "jupyter": {
     "outputs_hidden": true
    },
    "tags": []
   },
   "outputs": [
    {
     "name": "stdout",
     "output_type": "stream",
     "text": [
      "Fitting 3 folds for each of 40 candidates, totalling 120 fits\n",
      "[CV] END ................n_neighbors=3, p=1, weights=uniform; total time=   0.0s\n",
      "[CV] END ................n_neighbors=3, p=1, weights=uniform; total time=   0.0s\n",
      "[CV] END ................n_neighbors=3, p=1, weights=uniform; total time=   0.0s\n",
      "[CV] END ...............n_neighbors=3, p=1, weights=distance; total time=   0.0s\n",
      "[CV] END ...............n_neighbors=3, p=1, weights=distance; total time=   0.0s\n",
      "[CV] END ...............n_neighbors=3, p=1, weights=distance; total time=   0.0s\n",
      "[CV] END ................n_neighbors=3, p=2, weights=uniform; total time=   0.0s\n",
      "[CV] END ................n_neighbors=3, p=2, weights=uniform; total time=   0.0s\n",
      "[CV] END ................n_neighbors=3, p=2, weights=uniform; total time=   0.0s\n",
      "[CV] END ...............n_neighbors=3, p=2, weights=distance; total time=   0.0s\n",
      "[CV] END ...............n_neighbors=3, p=2, weights=distance; total time=   0.0s\n",
      "[CV] END ...............n_neighbors=3, p=2, weights=distance; total time=   0.0s\n",
      "[CV] END ................n_neighbors=6, p=1, weights=uniform; total time=   0.0s\n",
      "[CV] END ................n_neighbors=6, p=1, weights=uniform; total time=   0.0s\n",
      "[CV] END ................n_neighbors=6, p=1, weights=uniform; total time=   0.0s\n",
      "[CV] END ...............n_neighbors=6, p=1, weights=distance; total time=   0.0s\n",
      "[CV] END ...............n_neighbors=6, p=1, weights=distance; total time=   0.0s\n",
      "[CV] END ...............n_neighbors=6, p=1, weights=distance; total time=   0.0s\n",
      "[CV] END ................n_neighbors=6, p=2, weights=uniform; total time=   0.0s\n",
      "[CV] END ................n_neighbors=6, p=2, weights=uniform; total time=   0.0s\n",
      "[CV] END ................n_neighbors=6, p=2, weights=uniform; total time=   0.0s\n",
      "[CV] END ...............n_neighbors=6, p=2, weights=distance; total time=   0.0s\n",
      "[CV] END ...............n_neighbors=6, p=2, weights=distance; total time=   0.0s\n",
      "[CV] END ...............n_neighbors=6, p=2, weights=distance; total time=   0.0s\n",
      "[CV] END ................n_neighbors=9, p=1, weights=uniform; total time=   0.0s\n",
      "[CV] END ................n_neighbors=9, p=1, weights=uniform; total time=   0.0s\n",
      "[CV] END ................n_neighbors=9, p=1, weights=uniform; total time=   0.0s\n",
      "[CV] END ...............n_neighbors=9, p=1, weights=distance; total time=   0.0s\n",
      "[CV] END ...............n_neighbors=9, p=1, weights=distance; total time=   0.0s\n",
      "[CV] END ...............n_neighbors=9, p=1, weights=distance; total time=   0.0s\n",
      "[CV] END ................n_neighbors=9, p=2, weights=uniform; total time=   0.0s\n",
      "[CV] END ................n_neighbors=9, p=2, weights=uniform; total time=   0.0s\n",
      "[CV] END ................n_neighbors=9, p=2, weights=uniform; total time=   0.1s\n",
      "[CV] END ...............n_neighbors=9, p=2, weights=distance; total time=   0.0s\n",
      "[CV] END ...............n_neighbors=9, p=2, weights=distance; total time=   0.0s\n",
      "[CV] END ...............n_neighbors=9, p=2, weights=distance; total time=   0.0s\n",
      "[CV] END ...............n_neighbors=12, p=1, weights=uniform; total time=   0.0s\n",
      "[CV] END ...............n_neighbors=12, p=1, weights=uniform; total time=   0.0s\n",
      "[CV] END ...............n_neighbors=12, p=1, weights=uniform; total time=   0.0s\n",
      "[CV] END ..............n_neighbors=12, p=1, weights=distance; total time=   0.0s\n",
      "[CV] END ..............n_neighbors=12, p=1, weights=distance; total time=   0.0s\n",
      "[CV] END ..............n_neighbors=12, p=1, weights=distance; total time=   0.0s\n",
      "[CV] END ...............n_neighbors=12, p=2, weights=uniform; total time=   0.0s\n",
      "[CV] END ...............n_neighbors=12, p=2, weights=uniform; total time=   0.0s\n",
      "[CV] END ...............n_neighbors=12, p=2, weights=uniform; total time=   0.0s\n",
      "[CV] END ..............n_neighbors=12, p=2, weights=distance; total time=   0.0s\n",
      "[CV] END ..............n_neighbors=12, p=2, weights=distance; total time=   0.0s\n",
      "[CV] END ..............n_neighbors=12, p=2, weights=distance; total time=   0.0s\n",
      "[CV] END ...............n_neighbors=15, p=1, weights=uniform; total time=   0.0s\n",
      "[CV] END ...............n_neighbors=15, p=1, weights=uniform; total time=   0.0s\n",
      "[CV] END ...............n_neighbors=15, p=1, weights=uniform; total time=   0.0s\n",
      "[CV] END ..............n_neighbors=15, p=1, weights=distance; total time=   0.0s\n",
      "[CV] END ..............n_neighbors=15, p=1, weights=distance; total time=   0.0s\n",
      "[CV] END ..............n_neighbors=15, p=1, weights=distance; total time=   0.0s\n",
      "[CV] END ...............n_neighbors=15, p=2, weights=uniform; total time=   0.0s\n",
      "[CV] END ...............n_neighbors=15, p=2, weights=uniform; total time=   0.0s\n",
      "[CV] END ...............n_neighbors=15, p=2, weights=uniform; total time=   0.0s\n",
      "[CV] END ..............n_neighbors=15, p=2, weights=distance; total time=   0.0s\n",
      "[CV] END ..............n_neighbors=15, p=2, weights=distance; total time=   0.0s\n",
      "[CV] END ..............n_neighbors=15, p=2, weights=distance; total time=   0.0s\n",
      "[CV] END ...............n_neighbors=18, p=1, weights=uniform; total time=   0.0s\n",
      "[CV] END ...............n_neighbors=18, p=1, weights=uniform; total time=   0.0s\n",
      "[CV] END ...............n_neighbors=18, p=1, weights=uniform; total time=   0.0s\n",
      "[CV] END ..............n_neighbors=18, p=1, weights=distance; total time=   0.0s\n",
      "[CV] END ..............n_neighbors=18, p=1, weights=distance; total time=   0.0s\n",
      "[CV] END ..............n_neighbors=18, p=1, weights=distance; total time=   0.0s\n",
      "[CV] END ...............n_neighbors=18, p=2, weights=uniform; total time=   0.0s\n",
      "[CV] END ...............n_neighbors=18, p=2, weights=uniform; total time=   0.0s\n",
      "[CV] END ...............n_neighbors=18, p=2, weights=uniform; total time=   0.0s\n",
      "[CV] END ..............n_neighbors=18, p=2, weights=distance; total time=   0.0s\n",
      "[CV] END ..............n_neighbors=18, p=2, weights=distance; total time=   0.0s\n",
      "[CV] END ..............n_neighbors=18, p=2, weights=distance; total time=   0.0s\n",
      "[CV] END ...............n_neighbors=21, p=1, weights=uniform; total time=   0.0s\n",
      "[CV] END ...............n_neighbors=21, p=1, weights=uniform; total time=   0.0s\n",
      "[CV] END ...............n_neighbors=21, p=1, weights=uniform; total time=   0.0s\n",
      "[CV] END ..............n_neighbors=21, p=1, weights=distance; total time=   0.0s\n",
      "[CV] END ..............n_neighbors=21, p=1, weights=distance; total time=   0.0s\n",
      "[CV] END ..............n_neighbors=21, p=1, weights=distance; total time=   0.0s\n",
      "[CV] END ...............n_neighbors=21, p=2, weights=uniform; total time=   0.0s\n",
      "[CV] END ...............n_neighbors=21, p=2, weights=uniform; total time=   0.0s\n",
      "[CV] END ...............n_neighbors=21, p=2, weights=uniform; total time=   0.0s\n",
      "[CV] END ..............n_neighbors=21, p=2, weights=distance; total time=   0.0s\n",
      "[CV] END ..............n_neighbors=21, p=2, weights=distance; total time=   0.0s\n",
      "[CV] END ..............n_neighbors=21, p=2, weights=distance; total time=   0.0s\n",
      "[CV] END ...............n_neighbors=24, p=1, weights=uniform; total time=   0.0s\n",
      "[CV] END ...............n_neighbors=24, p=1, weights=uniform; total time=   0.0s\n",
      "[CV] END ...............n_neighbors=24, p=1, weights=uniform; total time=   0.0s\n",
      "[CV] END ..............n_neighbors=24, p=1, weights=distance; total time=   0.0s\n",
      "[CV] END ..............n_neighbors=24, p=1, weights=distance; total time=   0.0s\n",
      "[CV] END ..............n_neighbors=24, p=1, weights=distance; total time=   0.0s\n",
      "[CV] END ...............n_neighbors=24, p=2, weights=uniform; total time=   0.0s\n",
      "[CV] END ...............n_neighbors=24, p=2, weights=uniform; total time=   0.0s\n",
      "[CV] END ...............n_neighbors=24, p=2, weights=uniform; total time=   0.0s\n",
      "[CV] END ..............n_neighbors=24, p=2, weights=distance; total time=   0.0s\n",
      "[CV] END ..............n_neighbors=24, p=2, weights=distance; total time=   0.0s\n",
      "[CV] END ..............n_neighbors=24, p=2, weights=distance; total time=   0.0s\n",
      "[CV] END ...............n_neighbors=27, p=1, weights=uniform; total time=   0.0s\n",
      "[CV] END ...............n_neighbors=27, p=1, weights=uniform; total time=   0.0s\n",
      "[CV] END ...............n_neighbors=27, p=1, weights=uniform; total time=   0.0s\n",
      "[CV] END ..............n_neighbors=27, p=1, weights=distance; total time=   0.0s\n",
      "[CV] END ..............n_neighbors=27, p=1, weights=distance; total time=   0.0s\n",
      "[CV] END ..............n_neighbors=27, p=1, weights=distance; total time=   0.0s\n",
      "[CV] END ...............n_neighbors=27, p=2, weights=uniform; total time=   0.0s\n",
      "[CV] END ...............n_neighbors=27, p=2, weights=uniform; total time=   0.0s\n",
      "[CV] END ...............n_neighbors=27, p=2, weights=uniform; total time=   0.0s\n",
      "[CV] END ..............n_neighbors=27, p=2, weights=distance; total time=   0.0s\n",
      "[CV] END ..............n_neighbors=27, p=2, weights=distance; total time=   0.0s\n",
      "[CV] END ..............n_neighbors=27, p=2, weights=distance; total time=   0.0s\n",
      "[CV] END ...............n_neighbors=30, p=1, weights=uniform; total time=   0.0s\n",
      "[CV] END ...............n_neighbors=30, p=1, weights=uniform; total time=   0.0s\n",
      "[CV] END ...............n_neighbors=30, p=1, weights=uniform; total time=   0.1s\n",
      "[CV] END ..............n_neighbors=30, p=1, weights=distance; total time=   0.0s\n",
      "[CV] END ..............n_neighbors=30, p=1, weights=distance; total time=   0.0s\n",
      "[CV] END ..............n_neighbors=30, p=1, weights=distance; total time=   0.0s\n",
      "[CV] END ...............n_neighbors=30, p=2, weights=uniform; total time=   0.0s\n",
      "[CV] END ...............n_neighbors=30, p=2, weights=uniform; total time=   0.0s\n",
      "[CV] END ...............n_neighbors=30, p=2, weights=uniform; total time=   0.0s\n",
      "[CV] END ..............n_neighbors=30, p=2, weights=distance; total time=   0.0s\n",
      "[CV] END ..............n_neighbors=30, p=2, weights=distance; total time=   0.0s\n",
      "[CV] END ..............n_neighbors=30, p=2, weights=distance; total time=   0.0s\n"
     ]
    },
    {
     "data": {
      "text/plain": [
       "GridSearchCV(cv=3, estimator=KNeighborsClassifier(),\n",
       "             param_grid={'n_neighbors': array([ 3,  6,  9, 12, 15, 18, 21, 24, 27, 30]),\n",
       "                         'p': [1, 2], 'weights': ['uniform', 'distance']},\n",
       "             scoring='accuracy', verbose=2)"
      ]
     },
     "execution_count": 76,
     "metadata": {},
     "output_type": "execute_result"
    }
   ],
   "source": [
    "from sklearn.model_selection import GridSearchCV\n",
    "\n",
    "params = {'n_neighbors': np.arange(3, 31, 3),\n",
    "          'weights': ['uniform', 'distance'],\n",
    "          'p' : [1, 2]      # p = 1, Manhattan; p = 2, Euclidean distance\n",
    "         }\n",
    "\n",
    "clf_knn_cv = GridSearchCV(estimator = KNeighborsClassifier(),\n",
    "                          param_grid = params,\n",
    "                          cv = 3,\n",
    "                          scoring = 'accuracy',\n",
    "                          verbose = 2\n",
    "                         )\n",
    "\n",
    "clf_knn_cv.fit(X_train_norm[:, [0,-1]], y_train)"
   ]
  },
  {
   "cell_type": "code",
   "execution_count": 77,
   "metadata": {},
   "outputs": [
    {
     "data": {
      "text/plain": [
       "{'n_neighbors': 27, 'p': 2, 'weights': 'uniform'}"
      ]
     },
     "execution_count": 77,
     "metadata": {},
     "output_type": "execute_result"
    }
   ],
   "source": [
    "clf_knn_cv.best_params_"
   ]
  },
  {
   "cell_type": "code",
   "execution_count": 78,
   "metadata": {},
   "outputs": [
    {
     "data": {
      "text/plain": [
       "0.7787472035794183"
      ]
     },
     "execution_count": 78,
     "metadata": {},
     "output_type": "execute_result"
    }
   ],
   "source": [
    "clf_knn_cv.best_score_"
   ]
  },
  {
   "cell_type": "code",
   "execution_count": 80,
   "metadata": {},
   "outputs": [
    {
     "data": {
      "text/plain": [
       "0.7684411969380655"
      ]
     },
     "execution_count": 80,
     "metadata": {},
     "output_type": "execute_result"
    }
   ],
   "source": [
    "clf_knn_cv.score(X_test_norm[:, [0,-1]], y_test)"
   ]
  },
  {
   "cell_type": "markdown",
   "metadata": {
    "jp-MarkdownHeadingCollapsed": true,
    "tags": []
   },
   "source": [
    "## 7. Naive Bayes Classifier"
   ]
  },
  {
   "cell_type": "code",
   "execution_count": 46,
   "metadata": {},
   "outputs": [
    {
     "data": {
      "text/plain": [
       "MultinomialNB()"
      ]
     },
     "execution_count": 46,
     "metadata": {},
     "output_type": "execute_result"
    }
   ],
   "source": [
    "from sklearn.naive_bayes import MultinomialNB\n",
    "\n",
    "clf_nb = MultinomialNB()\n",
    "clf_nb.fit(X_train, y_train)"
   ]
  },
  {
   "cell_type": "code",
   "execution_count": 48,
   "metadata": {},
   "outputs": [
    {
     "data": {
      "text/plain": [
       "{'alpha': 1.0, 'class_prior': None, 'fit_prior': True}"
      ]
     },
     "execution_count": 48,
     "metadata": {},
     "output_type": "execute_result"
    }
   ],
   "source": [
    "clf_nb.get_params()"
   ]
  },
  {
   "cell_type": "code",
   "execution_count": 49,
   "metadata": {},
   "outputs": [
    {
     "data": {
      "text/plain": [
       "0.7517524235645041"
      ]
     },
     "execution_count": 49,
     "metadata": {},
     "output_type": "execute_result"
    }
   ],
   "source": [
    "clf_nb.score(X_train, y_train)"
   ]
  },
  {
   "cell_type": "code",
   "execution_count": 50,
   "metadata": {},
   "outputs": [
    {
     "data": {
      "text/plain": [
       "0.7480862908837856"
      ]
     },
     "execution_count": 50,
     "metadata": {},
     "output_type": "execute_result"
    }
   ],
   "source": [
    "clf_nb.score(X_test, y_test)"
   ]
  },
  {
   "cell_type": "code",
   "execution_count": 53,
   "metadata": {},
   "outputs": [
    {
     "name": "stdout",
     "output_type": "stream",
     "text": [
      "Fitting 3 folds for each of 5 candidates, totalling 15 fits\n"
     ]
    },
    {
     "data": {
      "text/plain": [
       "GridSearchCV(cv=3, estimator=MultinomialNB(),\n",
       "             param_grid={'alpha': [0.1, 1, 10, 100, 1000]}, scoring='accuracy',\n",
       "             verbose=1)"
      ]
     },
     "execution_count": 53,
     "metadata": {},
     "output_type": "execute_result"
    }
   ],
   "source": [
    "# Grid Search to find alpha\n",
    "from sklearn.model_selection import GridSearchCV\n",
    "\n",
    "params = {'alpha' : [0.1, 1, 10, 100, 1000]}\n",
    "\n",
    "clf_nb_cv = GridSearchCV(estimator = MultinomialNB(),\n",
    "                          param_grid = params,\n",
    "                          cv = 3,\n",
    "                          scoring = 'accuracy',\n",
    "                          verbose = 1\n",
    "                         )\n",
    "\n",
    "clf_nb_cv.fit(X_train, y_train)"
   ]
  },
  {
   "cell_type": "code",
   "execution_count": 54,
   "metadata": {},
   "outputs": [
    {
     "data": {
      "text/plain": [
       "{'alpha': 0.1}"
      ]
     },
     "execution_count": 54,
     "metadata": {},
     "output_type": "execute_result"
    }
   ],
   "source": [
    "clf_nb_cv.best_params_"
   ]
  },
  {
   "cell_type": "code",
   "execution_count": 55,
   "metadata": {},
   "outputs": [
    {
     "data": {
      "text/plain": [
       "0.7517524235645041"
      ]
     },
     "execution_count": 55,
     "metadata": {},
     "output_type": "execute_result"
    }
   ],
   "source": [
    "clf_nb_cv.best_score_"
   ]
  },
  {
   "cell_type": "markdown",
   "metadata": {
    "jp-MarkdownHeadingCollapsed": true,
    "tags": []
   },
   "source": [
    "## 8. Gaussian Naive Bayes"
   ]
  },
  {
   "cell_type": "code",
   "execution_count": 56,
   "metadata": {},
   "outputs": [
    {
     "data": {
      "text/plain": [
       "GaussianNB()"
      ]
     },
     "execution_count": 56,
     "metadata": {},
     "output_type": "execute_result"
    }
   ],
   "source": [
    "from sklearn.naive_bayes import GaussianNB\n",
    "\n",
    "clk_gaussNB = GaussianNB()\n",
    "clk_gaussNB.fit(X_train, y_train)"
   ]
  },
  {
   "cell_type": "code",
   "execution_count": 57,
   "metadata": {},
   "outputs": [
    {
     "data": {
      "text/plain": [
       "0.767710663683818"
      ]
     },
     "execution_count": 57,
     "metadata": {},
     "output_type": "execute_result"
    }
   ],
   "source": [
    "clk_gaussNB.score(X_train, y_train)"
   ]
  },
  {
   "cell_type": "code",
   "execution_count": 58,
   "metadata": {},
   "outputs": [
    {
     "data": {
      "text/plain": [
       "0.755741127348643"
      ]
     },
     "execution_count": 58,
     "metadata": {},
     "output_type": "execute_result"
    }
   ],
   "source": [
    "clk_gaussNB.score(X_test, y_test)"
   ]
  },
  {
   "cell_type": "code",
   "execution_count": 63,
   "metadata": {},
   "outputs": [
    {
     "name": "stdout",
     "output_type": "stream",
     "text": [
      "Fitting 3 folds for each of 9 candidates, totalling 27 fits\n"
     ]
    },
    {
     "data": {
      "text/plain": [
       "GridSearchCV(cv=3, estimator=GaussianNB(),\n",
       "             param_grid={'var_smoothing': [0, 1e-20, 1e-15, 1e-09, 1e-06, 0.001,\n",
       "                                           0.1, 1, 10]},\n",
       "             scoring='accuracy', verbose=1)"
      ]
     },
     "execution_count": 63,
     "metadata": {},
     "output_type": "execute_result"
    }
   ],
   "source": [
    "# CV to find smooting parameter\n",
    "params = {'var_smoothing' : [0, 1e-20, 1e-15, 1e-9, 1e-6, 0.001, 0.1, 1, 10]}\n",
    "\n",
    "clk_gaussNB_cv = GridSearchCV(estimator = GaussianNB(),\n",
    "                          param_grid = params,\n",
    "                          cv = 3,\n",
    "                          scoring = 'accuracy',\n",
    "                          verbose = 1\n",
    "                         )\n",
    "\n",
    "clk_gaussNB_cv.fit(X_train, y_train)"
   ]
  },
  {
   "cell_type": "code",
   "execution_count": 64,
   "metadata": {},
   "outputs": [
    {
     "data": {
      "text/plain": [
       "{'var_smoothing': 0}"
      ]
     },
     "execution_count": 64,
     "metadata": {},
     "output_type": "execute_result"
    }
   ],
   "source": [
    "clk_gaussNB_cv.best_params_"
   ]
  },
  {
   "cell_type": "code",
   "execution_count": 67,
   "metadata": {},
   "outputs": [
    {
     "data": {
      "text/plain": [
       "0.767710663683818"
      ]
     },
     "execution_count": 67,
     "metadata": {},
     "output_type": "execute_result"
    }
   ],
   "source": [
    "clk_gaussNB_cv.score(X_train, y_train)"
   ]
  },
  {
   "cell_type": "code",
   "execution_count": 68,
   "metadata": {},
   "outputs": [
    {
     "data": {
      "text/plain": [
       "0.755741127348643"
      ]
     },
     "execution_count": 68,
     "metadata": {},
     "output_type": "execute_result"
    }
   ],
   "source": [
    "clk_gaussNB_cv.score(X_test, y_test)"
   ]
  },
  {
   "cell_type": "markdown",
   "metadata": {
    "tags": []
   },
   "source": [
    "## 9. SVM Classifier"
   ]
  },
  {
   "cell_type": "markdown",
   "metadata": {},
   "source": [
    "- Since SVM is a distance based algorithm, it is important to first normalize the features (mean = 0 and SD = 1)"
   ]
  },
  {
   "cell_type": "code",
   "execution_count": 45,
   "metadata": {},
   "outputs": [
    {
     "data": {
      "text/plain": [
       "array([[0.35129741, 0.        , 1.        , 0.        , 1.        ,\n",
       "        1.        , 0.5       , 0.5       , 0.63414285],\n",
       "       [0.94211577, 1.        , 1.        , 0.        , 0.5       ,\n",
       "        1.        , 1.        , 1.        , 0.66548514],\n",
       "       [0.35129741, 0.        , 1.        , 0.        , 0.5       ,\n",
       "        1.        , 0.25      , 0.5       , 0.84324928],\n",
       "       [0.46706587, 1.        , 0.        , 1.        , 0.5       ,\n",
       "        1.        , 0.        , 0.        , 0.65439054],\n",
       "       [0.35129741, 1.        , 0.        , 1.        , 0.        ,\n",
       "        0.        , 0.5       , 0.        , 0.72536137]])"
      ]
     },
     "execution_count": 45,
     "metadata": {},
     "output_type": "execute_result"
    }
   ],
   "source": [
    "# Niormalizing Data - MinMaxScaler\n",
    "from sklearn.preprocessing import MinMaxScaler\n",
    "\n",
    "norm = MinMaxScaler().fit(X_train)\n",
    "\n",
    "# transform training data\n",
    "X_train_norm = norm.transform(X_train)\n",
    "\n",
    "# transform testing dataabs\n",
    "X_test_norm = norm.transform(X_test)\n",
    "\n",
    "X_train_norm[:5]"
   ]
  },
  {
   "cell_type": "markdown",
   "metadata": {},
   "source": [
    "- Applying SVM in SKLearn can be done in two ways - \n",
    "    1. If simple SVC (Linear Classifier) is to be applied, use `sklearn.svm.LinearSVC()`\n",
    "    2. If kernels are to be used, i.e. SVM, then use `sklearn.svm.SVC()`\n",
    "    3. Another algorithm in the SVM family is the `sklearn.svm.NuSVC()` with hyperparameter `nu`\n",
    "    \n",
    "- Note that Linear SVC can also be applied using `SVC()` but use `LinearSVC()` because - \n",
    "    1. it has more flexibility in the choice of penalties (no penalty for Linear SVC in `SVC()`) and loss functions and \n",
    "    2. it should scale better to large numbers of samples."
   ]
  },
  {
   "cell_type": "markdown",
   "metadata": {
    "jp-MarkdownHeadingCollapsed": true,
    "tags": []
   },
   "source": [
    "### 1. `LinearSVC()`"
   ]
  },
  {
   "cell_type": "code",
   "execution_count": 52,
   "metadata": {},
   "outputs": [
    {
     "data": {
      "text/plain": [
       "LinearSVC(random_state=42)"
      ]
     },
     "execution_count": 52,
     "metadata": {},
     "output_type": "execute_result"
    }
   ],
   "source": [
    "# Linear SVC\n",
    "from sklearn.svm import LinearSVC\n",
    "\n",
    "clf_lin_svc = LinearSVC(random_state=42)\n",
    "clf_lin_svc.fit(X_train_norm, y_train)"
   ]
  },
  {
   "cell_type": "code",
   "execution_count": 53,
   "metadata": {},
   "outputs": [
    {
     "data": {
      "text/plain": [
       "0.7718866517524235"
      ]
     },
     "execution_count": 53,
     "metadata": {},
     "output_type": "execute_result"
    }
   ],
   "source": [
    "clf_lin_svc.score(X_train_norm, y_train)"
   ]
  },
  {
   "cell_type": "code",
   "execution_count": 54,
   "metadata": {},
   "outputs": [
    {
     "data": {
      "text/plain": [
       "0.7576548364648573"
      ]
     },
     "execution_count": 54,
     "metadata": {},
     "output_type": "execute_result"
    }
   ],
   "source": [
    "clf_lin_svc.score(X_test_norm, y_test)"
   ]
  },
  {
   "cell_type": "markdown",
   "metadata": {
    "jp-MarkdownHeadingCollapsed": true,
    "tags": []
   },
   "source": [
    "### 2. `SVC(kernel = 'linear')`"
   ]
  },
  {
   "cell_type": "code",
   "execution_count": 55,
   "metadata": {},
   "outputs": [
    {
     "data": {
      "text/plain": [
       "SVC(kernel='linear', random_state=42)"
      ]
     },
     "execution_count": 55,
     "metadata": {},
     "output_type": "execute_result"
    }
   ],
   "source": [
    "# SVM Linear\n",
    "from sklearn.svm import SVC\n",
    "\n",
    "clf_svc_lin = SVC(random_state=42, kernel='linear')\n",
    "clf_svc_lin.fit(X_train_norm, y_train)"
   ]
  },
  {
   "cell_type": "code",
   "execution_count": 56,
   "metadata": {},
   "outputs": [
    {
     "data": {
      "text/plain": [
       "0.7517524235645041"
      ]
     },
     "execution_count": 56,
     "metadata": {},
     "output_type": "execute_result"
    }
   ],
   "source": [
    "clf_svc_lin.score(X_train_norm, y_train)"
   ]
  },
  {
   "cell_type": "code",
   "execution_count": 57,
   "metadata": {},
   "outputs": [
    {
     "data": {
      "text/plain": [
       "0.7480862908837856"
      ]
     },
     "execution_count": 57,
     "metadata": {},
     "output_type": "execute_result"
    }
   ],
   "source": [
    "clf_svc_lin.score(X_test_norm, y_test)"
   ]
  },
  {
   "cell_type": "markdown",
   "metadata": {
    "jp-MarkdownHeadingCollapsed": true,
    "tags": []
   },
   "source": [
    "### 3. `SVC(kernel = 'poly')`"
   ]
  },
  {
   "cell_type": "code",
   "execution_count": 58,
   "metadata": {},
   "outputs": [
    {
     "data": {
      "text/plain": [
       "SVC(kernel='poly', random_state=42)"
      ]
     },
     "execution_count": 58,
     "metadata": {},
     "output_type": "execute_result"
    }
   ],
   "source": [
    "# SVM Poly\n",
    "from sklearn.svm import SVC\n",
    "\n",
    "clf_svc_poly = SVC(random_state=42, kernel='poly')\n",
    "clf_svc_poly.fit(X_train_norm, y_train)"
   ]
  },
  {
   "cell_type": "code",
   "execution_count": 59,
   "metadata": {},
   "outputs": [
    {
     "data": {
      "text/plain": [
       "0.7746457867263237"
      ]
     },
     "execution_count": 59,
     "metadata": {},
     "output_type": "execute_result"
    }
   ],
   "source": [
    "clf_svc_poly.score(X_train_norm, y_train)"
   ]
  },
  {
   "cell_type": "code",
   "execution_count": 60,
   "metadata": {},
   "outputs": [
    {
     "data": {
      "text/plain": [
       "0.7559151009046625"
      ]
     },
     "execution_count": 60,
     "metadata": {},
     "output_type": "execute_result"
    }
   ],
   "source": [
    "clf_svc_poly.score(X_test_norm, y_test)"
   ]
  },
  {
   "cell_type": "markdown",
   "metadata": {
    "jp-MarkdownHeadingCollapsed": true,
    "tags": []
   },
   "source": [
    "### 4. `SVC(kernel = 'rbf')`"
   ]
  },
  {
   "cell_type": "code",
   "execution_count": 61,
   "metadata": {},
   "outputs": [
    {
     "data": {
      "text/plain": [
       "SVC(random_state=42)"
      ]
     },
     "execution_count": 61,
     "metadata": {},
     "output_type": "execute_result"
    }
   ],
   "source": [
    "# SVM Radial Basis Function\n",
    "from sklearn.svm import SVC\n",
    "\n",
    "clf_svc_rbf = SVC(random_state=42, kernel='rbf')\n",
    "clf_svc_rbf.fit(X_train_norm, y_train)"
   ]
  },
  {
   "cell_type": "code",
   "execution_count": 62,
   "metadata": {},
   "outputs": [
    {
     "data": {
      "text/plain": [
       "0.7802386278896346"
      ]
     },
     "execution_count": 62,
     "metadata": {},
     "output_type": "execute_result"
    }
   ],
   "source": [
    "clf_svc_rbf.score(X_train_norm, y_train)"
   ]
  },
  {
   "cell_type": "code",
   "execution_count": 63,
   "metadata": {},
   "outputs": [
    {
     "data": {
      "text/plain": [
       "0.7604384133611691"
      ]
     },
     "execution_count": 63,
     "metadata": {},
     "output_type": "execute_result"
    }
   ],
   "source": [
    "clf_svc_rbf.score(X_test_norm, y_test)"
   ]
  },
  {
   "cell_type": "markdown",
   "metadata": {
    "jp-MarkdownHeadingCollapsed": true,
    "tags": []
   },
   "source": [
    "### 5. `SVC(kernel = 'sigmoid')`"
   ]
  },
  {
   "cell_type": "code",
   "execution_count": 64,
   "metadata": {},
   "outputs": [
    {
     "data": {
      "text/plain": [
       "SVC(kernel='sigmoid', random_state=42)"
      ]
     },
     "execution_count": 64,
     "metadata": {},
     "output_type": "execute_result"
    }
   ],
   "source": [
    "# SVM Sigmoid (not used since we already have Logistic Regression)\n",
    "from sklearn.svm import SVC\n",
    "\n",
    "clf_svc_sigmoid = SVC(random_state=42, kernel='sigmoid')\n",
    "clf_svc_sigmoid.fit(X_train_norm, y_train)"
   ]
  },
  {
   "cell_type": "code",
   "execution_count": 65,
   "metadata": {},
   "outputs": [
    {
     "data": {
      "text/plain": [
       "0.5866517524235645"
      ]
     },
     "execution_count": 65,
     "metadata": {},
     "output_type": "execute_result"
    }
   ],
   "source": [
    "clf_svc_sigmoid.score(X_train_norm, y_train)"
   ]
  },
  {
   "cell_type": "code",
   "execution_count": 66,
   "metadata": {},
   "outputs": [
    {
     "data": {
      "text/plain": [
       "0.5882045929018789"
      ]
     },
     "execution_count": 66,
     "metadata": {},
     "output_type": "execute_result"
    }
   ],
   "source": [
    "clf_svc_sigmoid.score(X_test_norm, y_test)"
   ]
  },
  {
   "cell_type": "markdown",
   "metadata": {
    "tags": []
   },
   "source": [
    "### 6. Hyperparameter Tuning for SVM - `C`"
   ]
  },
  {
   "cell_type": "code",
   "execution_count": null,
   "metadata": {},
   "outputs": [
    {
     "name": "stdout",
     "output_type": "stream",
     "text": [
      "Fitting 2 folds for each of 50 candidates, totalling 100 fits\n"
     ]
    }
   ],
   "source": [
    "from sklearn.model_selection import RandomizedSearchCV\n",
    "from sklearn.svm import SVC\n",
    "\n",
    "params = {'C' : [0.1, 1, 10, 100, 1000],\n",
    "          'kernel' : ['linear', 'poly', 'rbf', 'sigmoid'],\n",
    "          'degree' : [2, 3, 4, 5, 10],    # only used for poly kernel\n",
    "          'gamma' : [1, 0.1, 0.01, 0.001, 0.0001]      # scaling for poly, rbf and sigmoid\n",
    "         }\n",
    "\n",
    "clf_svm_cv = RandomizedSearchCV(estimator = SVC(random_state=42),\n",
    "                                param_distributions = params,\n",
    "                                scoring = 'accuracy',\n",
    "                                verbose = 3,\n",
    "                                cv = 2,\n",
    "                                n_iter = 50,\n",
    "                                random_state = 42\n",
    "                               )\n",
    "\n",
    "clf_svm_cv.fit(X_train_norm, y_train)"
   ]
  },
  {
   "cell_type": "code",
   "execution_count": null,
   "metadata": {},
   "outputs": [],
   "source": [
    "clf_svm_cv.score(X_train_norm, y_train)"
   ]
  },
  {
   "cell_type": "code",
   "execution_count": null,
   "metadata": {},
   "outputs": [],
   "source": [
    "clf_svm_cv.score(X_test_norm, y_test)"
   ]
  },
  {
   "cell_type": "markdown",
   "metadata": {},
   "source": [
    "## 10. "
   ]
  },
  {
   "cell_type": "code",
   "execution_count": null,
   "metadata": {},
   "outputs": [],
   "source": []
  }
 ],
 "metadata": {
  "kernelspec": {
   "display_name": "Python 3",
   "language": "python",
   "name": "python3"
  },
  "language_info": {
   "codemirror_mode": {
    "name": "ipython",
    "version": 3
   },
   "file_extension": ".py",
   "mimetype": "text/x-python",
   "name": "python",
   "nbconvert_exporter": "python",
   "pygments_lexer": "ipython3",
   "version": "3.9.5"
  }
 },
 "nbformat": 4,
 "nbformat_minor": 4
}
