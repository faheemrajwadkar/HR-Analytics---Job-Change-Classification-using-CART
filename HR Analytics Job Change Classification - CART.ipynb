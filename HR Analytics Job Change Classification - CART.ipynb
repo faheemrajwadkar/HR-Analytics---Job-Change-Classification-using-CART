{
 "cells": [
  {
   "cell_type": "code",
   "execution_count": 115,
   "metadata": {},
   "outputs": [],
   "source": [
    "import pandas as pd\n",
    "import numpy as np\n",
    "import seaborn as sns\n",
    "import matplotlib.pyplot as plt\n",
    "\n",
    "# hide warnings\n",
    "import warnings\n",
    "warnings.filterwarnings('ignore')\n",
    "\n",
    "# print all columns\n",
    "pd.set_option('display.max_columns', None)\n",
    "pd.set_option('display.max_rows', None)"
   ]
  },
  {
   "cell_type": "markdown",
   "metadata": {},
   "source": [
    "Ref - https://www.kaggle.com/arashnic/hr-analytics-job-change-of-data-scientists?select=aug_train.csv"
   ]
  },
  {
   "cell_type": "code",
   "execution_count": 116,
   "metadata": {},
   "outputs": [
    {
     "data": {
      "text/html": [
       "<div>\n",
       "<style scoped>\n",
       "    .dataframe tbody tr th:only-of-type {\n",
       "        vertical-align: middle;\n",
       "    }\n",
       "\n",
       "    .dataframe tbody tr th {\n",
       "        vertical-align: top;\n",
       "    }\n",
       "\n",
       "    .dataframe thead th {\n",
       "        text-align: right;\n",
       "    }\n",
       "</style>\n",
       "<table border=\"1\" class=\"dataframe\">\n",
       "  <thead>\n",
       "    <tr style=\"text-align: right;\">\n",
       "      <th></th>\n",
       "      <th>enrollee_id</th>\n",
       "      <th>city</th>\n",
       "      <th>city_development_index</th>\n",
       "      <th>gender</th>\n",
       "      <th>relevent_experience</th>\n",
       "      <th>enrolled_university</th>\n",
       "      <th>education_level</th>\n",
       "      <th>major_discipline</th>\n",
       "      <th>experience</th>\n",
       "      <th>company_size</th>\n",
       "      <th>company_type</th>\n",
       "      <th>last_new_job</th>\n",
       "      <th>training_hours</th>\n",
       "      <th>target</th>\n",
       "    </tr>\n",
       "  </thead>\n",
       "  <tbody>\n",
       "    <tr>\n",
       "      <th>0</th>\n",
       "      <td>8949</td>\n",
       "      <td>city_103</td>\n",
       "      <td>0.920</td>\n",
       "      <td>Male</td>\n",
       "      <td>Has relevent experience</td>\n",
       "      <td>no_enrollment</td>\n",
       "      <td>Graduate</td>\n",
       "      <td>STEM</td>\n",
       "      <td>&gt;20</td>\n",
       "      <td>NaN</td>\n",
       "      <td>NaN</td>\n",
       "      <td>1</td>\n",
       "      <td>36</td>\n",
       "      <td>1.0</td>\n",
       "    </tr>\n",
       "    <tr>\n",
       "      <th>1</th>\n",
       "      <td>29725</td>\n",
       "      <td>city_40</td>\n",
       "      <td>0.776</td>\n",
       "      <td>Male</td>\n",
       "      <td>No relevent experience</td>\n",
       "      <td>no_enrollment</td>\n",
       "      <td>Graduate</td>\n",
       "      <td>STEM</td>\n",
       "      <td>15</td>\n",
       "      <td>50-99</td>\n",
       "      <td>Pvt Ltd</td>\n",
       "      <td>&gt;4</td>\n",
       "      <td>47</td>\n",
       "      <td>0.0</td>\n",
       "    </tr>\n",
       "    <tr>\n",
       "      <th>2</th>\n",
       "      <td>11561</td>\n",
       "      <td>city_21</td>\n",
       "      <td>0.624</td>\n",
       "      <td>NaN</td>\n",
       "      <td>No relevent experience</td>\n",
       "      <td>Full time course</td>\n",
       "      <td>Graduate</td>\n",
       "      <td>STEM</td>\n",
       "      <td>5</td>\n",
       "      <td>NaN</td>\n",
       "      <td>NaN</td>\n",
       "      <td>never</td>\n",
       "      <td>83</td>\n",
       "      <td>0.0</td>\n",
       "    </tr>\n",
       "    <tr>\n",
       "      <th>3</th>\n",
       "      <td>33241</td>\n",
       "      <td>city_115</td>\n",
       "      <td>0.789</td>\n",
       "      <td>NaN</td>\n",
       "      <td>No relevent experience</td>\n",
       "      <td>NaN</td>\n",
       "      <td>Graduate</td>\n",
       "      <td>Business Degree</td>\n",
       "      <td>&lt;1</td>\n",
       "      <td>NaN</td>\n",
       "      <td>Pvt Ltd</td>\n",
       "      <td>never</td>\n",
       "      <td>52</td>\n",
       "      <td>1.0</td>\n",
       "    </tr>\n",
       "    <tr>\n",
       "      <th>4</th>\n",
       "      <td>666</td>\n",
       "      <td>city_162</td>\n",
       "      <td>0.767</td>\n",
       "      <td>Male</td>\n",
       "      <td>Has relevent experience</td>\n",
       "      <td>no_enrollment</td>\n",
       "      <td>Masters</td>\n",
       "      <td>STEM</td>\n",
       "      <td>&gt;20</td>\n",
       "      <td>50-99</td>\n",
       "      <td>Funded Startup</td>\n",
       "      <td>4</td>\n",
       "      <td>8</td>\n",
       "      <td>0.0</td>\n",
       "    </tr>\n",
       "  </tbody>\n",
       "</table>\n",
       "</div>"
      ],
      "text/plain": [
       "   enrollee_id      city  city_development_index gender  \\\n",
       "0         8949  city_103                   0.920   Male   \n",
       "1        29725   city_40                   0.776   Male   \n",
       "2        11561   city_21                   0.624    NaN   \n",
       "3        33241  city_115                   0.789    NaN   \n",
       "4          666  city_162                   0.767   Male   \n",
       "\n",
       "       relevent_experience enrolled_university education_level  \\\n",
       "0  Has relevent experience       no_enrollment        Graduate   \n",
       "1   No relevent experience       no_enrollment        Graduate   \n",
       "2   No relevent experience    Full time course        Graduate   \n",
       "3   No relevent experience                 NaN        Graduate   \n",
       "4  Has relevent experience       no_enrollment         Masters   \n",
       "\n",
       "  major_discipline experience company_size    company_type last_new_job  \\\n",
       "0             STEM        >20          NaN             NaN            1   \n",
       "1             STEM         15        50-99         Pvt Ltd           >4   \n",
       "2             STEM          5          NaN             NaN        never   \n",
       "3  Business Degree         <1          NaN         Pvt Ltd        never   \n",
       "4             STEM        >20        50-99  Funded Startup            4   \n",
       "\n",
       "   training_hours  target  \n",
       "0              36     1.0  \n",
       "1              47     0.0  \n",
       "2              83     0.0  \n",
       "3              52     1.0  \n",
       "4               8     0.0  "
      ]
     },
     "execution_count": 116,
     "metadata": {},
     "output_type": "execute_result"
    }
   ],
   "source": [
    "# import data\n",
    "df = pd.read_csv(\"aug_train.csv\")\n",
    "df.head()"
   ]
  },
  {
   "cell_type": "markdown",
   "metadata": {},
   "source": [
    "#### Features\n",
    "- enrollee_id : Unique ID for candidate\n",
    "- city: City code\n",
    "- city_ development _index : Developement index of the city (scaled)\n",
    "- gender: Gender of candidate\n",
    "- relevent_experience: Relevant experience of candidate\n",
    "- enrolled_university: Type of University course enrolled if any\n",
    "- education_level: Education level of candidate\n",
    "- major_discipline :Education major discipline of candidate\n",
    "- experience: Candidate total experience in years\n",
    "- company_size: No of employees in current employer's company\n",
    "- company_type : Type of current employer\n",
    "- lastnewjob: Difference in years between previous job and current job\n",
    "- training_hours: training hours completed\n",
    "- target: 0 – Not looking for job change, 1 – Looking for a job change"
   ]
  },
  {
   "cell_type": "markdown",
   "metadata": {
    "tags": []
   },
   "source": [
    "# EDA"
   ]
  },
  {
   "cell_type": "code",
   "execution_count": 117,
   "metadata": {},
   "outputs": [
    {
     "data": {
      "text/plain": [
       "(19158, 14)"
      ]
     },
     "execution_count": 117,
     "metadata": {},
     "output_type": "execute_result"
    }
   ],
   "source": [
    "df.shape"
   ]
  },
  {
   "cell_type": "code",
   "execution_count": 118,
   "metadata": {},
   "outputs": [
    {
     "data": {
      "text/html": [
       "<div>\n",
       "<style scoped>\n",
       "    .dataframe tbody tr th:only-of-type {\n",
       "        vertical-align: middle;\n",
       "    }\n",
       "\n",
       "    .dataframe tbody tr th {\n",
       "        vertical-align: top;\n",
       "    }\n",
       "\n",
       "    .dataframe thead th {\n",
       "        text-align: right;\n",
       "    }\n",
       "</style>\n",
       "<table border=\"1\" class=\"dataframe\">\n",
       "  <thead>\n",
       "    <tr style=\"text-align: right;\">\n",
       "      <th></th>\n",
       "      <th>enrollee_id</th>\n",
       "      <th>city</th>\n",
       "      <th>city_development_index</th>\n",
       "      <th>gender</th>\n",
       "      <th>relevent_experience</th>\n",
       "      <th>enrolled_university</th>\n",
       "      <th>education_level</th>\n",
       "      <th>major_discipline</th>\n",
       "      <th>experience</th>\n",
       "      <th>company_size</th>\n",
       "      <th>company_type</th>\n",
       "      <th>last_new_job</th>\n",
       "      <th>training_hours</th>\n",
       "      <th>target</th>\n",
       "    </tr>\n",
       "  </thead>\n",
       "  <tbody>\n",
       "    <tr>\n",
       "      <th>count</th>\n",
       "      <td>19158.000000</td>\n",
       "      <td>19158</td>\n",
       "      <td>19158.000000</td>\n",
       "      <td>14650</td>\n",
       "      <td>19158</td>\n",
       "      <td>18772</td>\n",
       "      <td>18698</td>\n",
       "      <td>16345</td>\n",
       "      <td>19093</td>\n",
       "      <td>13220</td>\n",
       "      <td>13018</td>\n",
       "      <td>18735</td>\n",
       "      <td>19158.000000</td>\n",
       "      <td>19158.000000</td>\n",
       "    </tr>\n",
       "    <tr>\n",
       "      <th>unique</th>\n",
       "      <td>NaN</td>\n",
       "      <td>123</td>\n",
       "      <td>NaN</td>\n",
       "      <td>3</td>\n",
       "      <td>2</td>\n",
       "      <td>3</td>\n",
       "      <td>5</td>\n",
       "      <td>6</td>\n",
       "      <td>22</td>\n",
       "      <td>8</td>\n",
       "      <td>6</td>\n",
       "      <td>6</td>\n",
       "      <td>NaN</td>\n",
       "      <td>NaN</td>\n",
       "    </tr>\n",
       "    <tr>\n",
       "      <th>top</th>\n",
       "      <td>NaN</td>\n",
       "      <td>city_103</td>\n",
       "      <td>NaN</td>\n",
       "      <td>Male</td>\n",
       "      <td>Has relevent experience</td>\n",
       "      <td>no_enrollment</td>\n",
       "      <td>Graduate</td>\n",
       "      <td>STEM</td>\n",
       "      <td>&gt;20</td>\n",
       "      <td>50-99</td>\n",
       "      <td>Pvt Ltd</td>\n",
       "      <td>1</td>\n",
       "      <td>NaN</td>\n",
       "      <td>NaN</td>\n",
       "    </tr>\n",
       "    <tr>\n",
       "      <th>freq</th>\n",
       "      <td>NaN</td>\n",
       "      <td>4355</td>\n",
       "      <td>NaN</td>\n",
       "      <td>13221</td>\n",
       "      <td>13792</td>\n",
       "      <td>13817</td>\n",
       "      <td>11598</td>\n",
       "      <td>14492</td>\n",
       "      <td>3286</td>\n",
       "      <td>3083</td>\n",
       "      <td>9817</td>\n",
       "      <td>8040</td>\n",
       "      <td>NaN</td>\n",
       "      <td>NaN</td>\n",
       "    </tr>\n",
       "    <tr>\n",
       "      <th>mean</th>\n",
       "      <td>16875.358179</td>\n",
       "      <td>NaN</td>\n",
       "      <td>0.828848</td>\n",
       "      <td>NaN</td>\n",
       "      <td>NaN</td>\n",
       "      <td>NaN</td>\n",
       "      <td>NaN</td>\n",
       "      <td>NaN</td>\n",
       "      <td>NaN</td>\n",
       "      <td>NaN</td>\n",
       "      <td>NaN</td>\n",
       "      <td>NaN</td>\n",
       "      <td>65.366896</td>\n",
       "      <td>0.249348</td>\n",
       "    </tr>\n",
       "    <tr>\n",
       "      <th>std</th>\n",
       "      <td>9616.292592</td>\n",
       "      <td>NaN</td>\n",
       "      <td>0.123362</td>\n",
       "      <td>NaN</td>\n",
       "      <td>NaN</td>\n",
       "      <td>NaN</td>\n",
       "      <td>NaN</td>\n",
       "      <td>NaN</td>\n",
       "      <td>NaN</td>\n",
       "      <td>NaN</td>\n",
       "      <td>NaN</td>\n",
       "      <td>NaN</td>\n",
       "      <td>60.058462</td>\n",
       "      <td>0.432647</td>\n",
       "    </tr>\n",
       "    <tr>\n",
       "      <th>min</th>\n",
       "      <td>1.000000</td>\n",
       "      <td>NaN</td>\n",
       "      <td>0.448000</td>\n",
       "      <td>NaN</td>\n",
       "      <td>NaN</td>\n",
       "      <td>NaN</td>\n",
       "      <td>NaN</td>\n",
       "      <td>NaN</td>\n",
       "      <td>NaN</td>\n",
       "      <td>NaN</td>\n",
       "      <td>NaN</td>\n",
       "      <td>NaN</td>\n",
       "      <td>1.000000</td>\n",
       "      <td>0.000000</td>\n",
       "    </tr>\n",
       "    <tr>\n",
       "      <th>25%</th>\n",
       "      <td>8554.250000</td>\n",
       "      <td>NaN</td>\n",
       "      <td>0.740000</td>\n",
       "      <td>NaN</td>\n",
       "      <td>NaN</td>\n",
       "      <td>NaN</td>\n",
       "      <td>NaN</td>\n",
       "      <td>NaN</td>\n",
       "      <td>NaN</td>\n",
       "      <td>NaN</td>\n",
       "      <td>NaN</td>\n",
       "      <td>NaN</td>\n",
       "      <td>23.000000</td>\n",
       "      <td>0.000000</td>\n",
       "    </tr>\n",
       "    <tr>\n",
       "      <th>50%</th>\n",
       "      <td>16982.500000</td>\n",
       "      <td>NaN</td>\n",
       "      <td>0.903000</td>\n",
       "      <td>NaN</td>\n",
       "      <td>NaN</td>\n",
       "      <td>NaN</td>\n",
       "      <td>NaN</td>\n",
       "      <td>NaN</td>\n",
       "      <td>NaN</td>\n",
       "      <td>NaN</td>\n",
       "      <td>NaN</td>\n",
       "      <td>NaN</td>\n",
       "      <td>47.000000</td>\n",
       "      <td>0.000000</td>\n",
       "    </tr>\n",
       "    <tr>\n",
       "      <th>75%</th>\n",
       "      <td>25169.750000</td>\n",
       "      <td>NaN</td>\n",
       "      <td>0.920000</td>\n",
       "      <td>NaN</td>\n",
       "      <td>NaN</td>\n",
       "      <td>NaN</td>\n",
       "      <td>NaN</td>\n",
       "      <td>NaN</td>\n",
       "      <td>NaN</td>\n",
       "      <td>NaN</td>\n",
       "      <td>NaN</td>\n",
       "      <td>NaN</td>\n",
       "      <td>88.000000</td>\n",
       "      <td>0.000000</td>\n",
       "    </tr>\n",
       "    <tr>\n",
       "      <th>max</th>\n",
       "      <td>33380.000000</td>\n",
       "      <td>NaN</td>\n",
       "      <td>0.949000</td>\n",
       "      <td>NaN</td>\n",
       "      <td>NaN</td>\n",
       "      <td>NaN</td>\n",
       "      <td>NaN</td>\n",
       "      <td>NaN</td>\n",
       "      <td>NaN</td>\n",
       "      <td>NaN</td>\n",
       "      <td>NaN</td>\n",
       "      <td>NaN</td>\n",
       "      <td>336.000000</td>\n",
       "      <td>1.000000</td>\n",
       "    </tr>\n",
       "  </tbody>\n",
       "</table>\n",
       "</div>"
      ],
      "text/plain": [
       "         enrollee_id      city  city_development_index gender  \\\n",
       "count   19158.000000     19158            19158.000000  14650   \n",
       "unique           NaN       123                     NaN      3   \n",
       "top              NaN  city_103                     NaN   Male   \n",
       "freq             NaN      4355                     NaN  13221   \n",
       "mean    16875.358179       NaN                0.828848    NaN   \n",
       "std      9616.292592       NaN                0.123362    NaN   \n",
       "min         1.000000       NaN                0.448000    NaN   \n",
       "25%      8554.250000       NaN                0.740000    NaN   \n",
       "50%     16982.500000       NaN                0.903000    NaN   \n",
       "75%     25169.750000       NaN                0.920000    NaN   \n",
       "max     33380.000000       NaN                0.949000    NaN   \n",
       "\n",
       "            relevent_experience enrolled_university education_level  \\\n",
       "count                     19158               18772           18698   \n",
       "unique                        2                   3               5   \n",
       "top     Has relevent experience       no_enrollment        Graduate   \n",
       "freq                      13792               13817           11598   \n",
       "mean                        NaN                 NaN             NaN   \n",
       "std                         NaN                 NaN             NaN   \n",
       "min                         NaN                 NaN             NaN   \n",
       "25%                         NaN                 NaN             NaN   \n",
       "50%                         NaN                 NaN             NaN   \n",
       "75%                         NaN                 NaN             NaN   \n",
       "max                         NaN                 NaN             NaN   \n",
       "\n",
       "       major_discipline experience company_size company_type last_new_job  \\\n",
       "count             16345      19093        13220        13018        18735   \n",
       "unique                6         22            8            6            6   \n",
       "top                STEM        >20        50-99      Pvt Ltd            1   \n",
       "freq              14492       3286         3083         9817         8040   \n",
       "mean                NaN        NaN          NaN          NaN          NaN   \n",
       "std                 NaN        NaN          NaN          NaN          NaN   \n",
       "min                 NaN        NaN          NaN          NaN          NaN   \n",
       "25%                 NaN        NaN          NaN          NaN          NaN   \n",
       "50%                 NaN        NaN          NaN          NaN          NaN   \n",
       "75%                 NaN        NaN          NaN          NaN          NaN   \n",
       "max                 NaN        NaN          NaN          NaN          NaN   \n",
       "\n",
       "        training_hours        target  \n",
       "count     19158.000000  19158.000000  \n",
       "unique             NaN           NaN  \n",
       "top                NaN           NaN  \n",
       "freq               NaN           NaN  \n",
       "mean         65.366896      0.249348  \n",
       "std          60.058462      0.432647  \n",
       "min           1.000000      0.000000  \n",
       "25%          23.000000      0.000000  \n",
       "50%          47.000000      0.000000  \n",
       "75%          88.000000      0.000000  \n",
       "max         336.000000      1.000000  "
      ]
     },
     "execution_count": 118,
     "metadata": {},
     "output_type": "execute_result"
    }
   ],
   "source": [
    "df.describe(include='all')"
   ]
  },
  {
   "cell_type": "code",
   "execution_count": 119,
   "metadata": {},
   "outputs": [
    {
     "data": {
      "text/html": [
       "<div>\n",
       "<style scoped>\n",
       "    .dataframe tbody tr th:only-of-type {\n",
       "        vertical-align: middle;\n",
       "    }\n",
       "\n",
       "    .dataframe tbody tr th {\n",
       "        vertical-align: top;\n",
       "    }\n",
       "\n",
       "    .dataframe thead th {\n",
       "        text-align: right;\n",
       "    }\n",
       "</style>\n",
       "<table border=\"1\" class=\"dataframe\">\n",
       "  <thead>\n",
       "    <tr style=\"text-align: right;\">\n",
       "      <th></th>\n",
       "      <th>city_development_index</th>\n",
       "      <th>gender</th>\n",
       "      <th>relevent_experience</th>\n",
       "      <th>enrolled_university</th>\n",
       "      <th>education_level</th>\n",
       "      <th>major_discipline</th>\n",
       "      <th>experience</th>\n",
       "      <th>company_size</th>\n",
       "      <th>company_type</th>\n",
       "      <th>last_new_job</th>\n",
       "      <th>training_hours</th>\n",
       "      <th>target</th>\n",
       "    </tr>\n",
       "  </thead>\n",
       "  <tbody>\n",
       "    <tr>\n",
       "      <th>0</th>\n",
       "      <td>0.920</td>\n",
       "      <td>Male</td>\n",
       "      <td>Has relevent experience</td>\n",
       "      <td>no_enrollment</td>\n",
       "      <td>Graduate</td>\n",
       "      <td>STEM</td>\n",
       "      <td>&gt;20</td>\n",
       "      <td>NaN</td>\n",
       "      <td>NaN</td>\n",
       "      <td>1</td>\n",
       "      <td>36</td>\n",
       "      <td>1.0</td>\n",
       "    </tr>\n",
       "    <tr>\n",
       "      <th>1</th>\n",
       "      <td>0.776</td>\n",
       "      <td>Male</td>\n",
       "      <td>No relevent experience</td>\n",
       "      <td>no_enrollment</td>\n",
       "      <td>Graduate</td>\n",
       "      <td>STEM</td>\n",
       "      <td>15</td>\n",
       "      <td>50-99</td>\n",
       "      <td>Pvt Ltd</td>\n",
       "      <td>&gt;4</td>\n",
       "      <td>47</td>\n",
       "      <td>0.0</td>\n",
       "    </tr>\n",
       "    <tr>\n",
       "      <th>2</th>\n",
       "      <td>0.624</td>\n",
       "      <td>NaN</td>\n",
       "      <td>No relevent experience</td>\n",
       "      <td>Full time course</td>\n",
       "      <td>Graduate</td>\n",
       "      <td>STEM</td>\n",
       "      <td>5</td>\n",
       "      <td>NaN</td>\n",
       "      <td>NaN</td>\n",
       "      <td>never</td>\n",
       "      <td>83</td>\n",
       "      <td>0.0</td>\n",
       "    </tr>\n",
       "    <tr>\n",
       "      <th>3</th>\n",
       "      <td>0.789</td>\n",
       "      <td>NaN</td>\n",
       "      <td>No relevent experience</td>\n",
       "      <td>NaN</td>\n",
       "      <td>Graduate</td>\n",
       "      <td>Business Degree</td>\n",
       "      <td>&lt;1</td>\n",
       "      <td>NaN</td>\n",
       "      <td>Pvt Ltd</td>\n",
       "      <td>never</td>\n",
       "      <td>52</td>\n",
       "      <td>1.0</td>\n",
       "    </tr>\n",
       "    <tr>\n",
       "      <th>4</th>\n",
       "      <td>0.767</td>\n",
       "      <td>Male</td>\n",
       "      <td>Has relevent experience</td>\n",
       "      <td>no_enrollment</td>\n",
       "      <td>Masters</td>\n",
       "      <td>STEM</td>\n",
       "      <td>&gt;20</td>\n",
       "      <td>50-99</td>\n",
       "      <td>Funded Startup</td>\n",
       "      <td>4</td>\n",
       "      <td>8</td>\n",
       "      <td>0.0</td>\n",
       "    </tr>\n",
       "  </tbody>\n",
       "</table>\n",
       "</div>"
      ],
      "text/plain": [
       "   city_development_index gender      relevent_experience enrolled_university  \\\n",
       "0                   0.920   Male  Has relevent experience       no_enrollment   \n",
       "1                   0.776   Male   No relevent experience       no_enrollment   \n",
       "2                   0.624    NaN   No relevent experience    Full time course   \n",
       "3                   0.789    NaN   No relevent experience                 NaN   \n",
       "4                   0.767   Male  Has relevent experience       no_enrollment   \n",
       "\n",
       "  education_level major_discipline experience company_size    company_type  \\\n",
       "0        Graduate             STEM        >20          NaN             NaN   \n",
       "1        Graduate             STEM         15        50-99         Pvt Ltd   \n",
       "2        Graduate             STEM          5          NaN             NaN   \n",
       "3        Graduate  Business Degree         <1          NaN         Pvt Ltd   \n",
       "4         Masters             STEM        >20        50-99  Funded Startup   \n",
       "\n",
       "  last_new_job  training_hours  target  \n",
       "0            1              36     1.0  \n",
       "1           >4              47     0.0  \n",
       "2        never              83     0.0  \n",
       "3        never              52     1.0  \n",
       "4            4               8     0.0  "
      ]
     },
     "execution_count": 119,
     "metadata": {},
     "output_type": "execute_result"
    }
   ],
   "source": [
    "# drop unnecessary columns\n",
    "df.drop(['enrollee_id', 'city'], axis = 1, inplace=True)\n",
    "df.head()"
   ]
  },
  {
   "cell_type": "markdown",
   "metadata": {},
   "source": [
    "## Investigating Categorical Variables"
   ]
  },
  {
   "cell_type": "markdown",
   "metadata": {
    "jp-MarkdownHeadingCollapsed": true,
    "tags": []
   },
   "source": [
    "### `gender`"
   ]
  },
  {
   "cell_type": "code",
   "execution_count": 149,
   "metadata": {},
   "outputs": [
    {
     "data": {
      "text/plain": [
       "Male_Yes    13221\n",
       "Male_No      5937\n",
       "Name: gender, dtype: int64"
      ]
     },
     "execution_count": 149,
     "metadata": {},
     "output_type": "execute_result"
    }
   ],
   "source": [
    "# value_counts\n",
    "df['gender'].value_counts(dropna = False)"
   ]
  },
  {
   "cell_type": "markdown",
   "metadata": {},
   "source": [
    "Since `number of females << number of males`, we will convert this into a binary feature - **`Male_Yes`** and **`Male_No`**`"
   ]
  },
  {
   "cell_type": "code",
   "execution_count": 121,
   "metadata": {},
   "outputs": [
    {
     "data": {
      "text/plain": [
       "Male_Yes    13221\n",
       "Male_No      5937\n",
       "Name: gender, dtype: int64"
      ]
     },
     "execution_count": 121,
     "metadata": {},
     "output_type": "execute_result"
    }
   ],
   "source": [
    "df['gender'] = df['gender'].map(lambda x : \"Male_Yes\" if x == 'Male' else \"Male_No\")\n",
    "df['gender'].value_counts(dropna = False)"
   ]
  },
  {
   "cell_type": "markdown",
   "metadata": {
    "tags": []
   },
   "source": [
    "### `relevant_experience`"
   ]
  },
  {
   "cell_type": "code",
   "execution_count": 122,
   "metadata": {},
   "outputs": [
    {
     "data": {
      "text/plain": [
       "Has relevent experience    13792\n",
       "No relevent experience      5366\n",
       "Name: relevent_experience, dtype: int64"
      ]
     },
     "execution_count": 122,
     "metadata": {},
     "output_type": "execute_result"
    }
   ],
   "source": [
    "# value_counts\n",
    "df['relevent_experience'].value_counts(dropna = False)"
   ]
  },
  {
   "cell_type": "code",
   "execution_count": 123,
   "metadata": {},
   "outputs": [
    {
     "data": {
      "text/plain": [
       "Yes    13792\n",
       "No      5366\n",
       "Name: relevent_experience, dtype: int64"
      ]
     },
     "execution_count": 123,
     "metadata": {},
     "output_type": "execute_result"
    }
   ],
   "source": [
    "# minimiozing values for relevent_experience\n",
    "df['relevent_experience'] = df['relevent_experience'].map(lambda x : \"Yes\" if x == 'Has relevent experience' else \"No\")\n",
    "df['relevent_experience'].value_counts(dropna = False)"
   ]
  },
  {
   "cell_type": "markdown",
   "metadata": {
    "jp-MarkdownHeadingCollapsed": true,
    "tags": []
   },
   "source": [
    "### Academics - `enrolled_university`, `education_level`, `major_discipline`"
   ]
  },
  {
   "cell_type": "code",
   "execution_count": 124,
   "metadata": {},
   "outputs": [
    {
     "data": {
      "text/plain": [
       "city_development_index       0\n",
       "gender                       0\n",
       "relevent_experience          0\n",
       "enrolled_university        386\n",
       "education_level            460\n",
       "major_discipline          2813\n",
       "experience                  65\n",
       "company_size              5938\n",
       "company_type              6140\n",
       "last_new_job               423\n",
       "training_hours               0\n",
       "target                       0\n",
       "dtype: int64"
      ]
     },
     "execution_count": 124,
     "metadata": {},
     "output_type": "execute_result"
    }
   ],
   "source": [
    "df.isna().sum()"
   ]
  },
  {
   "cell_type": "code",
   "execution_count": 125,
   "metadata": {},
   "outputs": [
    {
     "data": {
      "text/plain": [
       "no_enrollment       13817\n",
       "Full time course     3757\n",
       "Part time course     1198\n",
       "NaN                   386\n",
       "Name: enrolled_university, dtype: int64"
      ]
     },
     "execution_count": 125,
     "metadata": {},
     "output_type": "execute_result"
    }
   ],
   "source": [
    "# value_counts\n",
    "df['enrolled_university'].value_counts(dropna = False)"
   ]
  },
  {
   "cell_type": "code",
   "execution_count": 126,
   "metadata": {},
   "outputs": [
    {
     "data": {
      "text/plain": [
       "Graduate          11598\n",
       "Masters            4361\n",
       "High School        2017\n",
       "NaN                 460\n",
       "Phd                 414\n",
       "Primary School      308\n",
       "Name: education_level, dtype: int64"
      ]
     },
     "execution_count": 126,
     "metadata": {},
     "output_type": "execute_result"
    }
   ],
   "source": [
    "df['education_level'].value_counts(dropna = False)"
   ]
  },
  {
   "cell_type": "code",
   "execution_count": 127,
   "metadata": {},
   "outputs": [
    {
     "data": {
      "text/plain": [
       "STEM               14492\n",
       "NaN                 2813\n",
       "Humanities           669\n",
       "Other                381\n",
       "Business Degree      327\n",
       "Arts                 253\n",
       "No Major             223\n",
       "Name: major_discipline, dtype: int64"
      ]
     },
     "execution_count": 127,
     "metadata": {},
     "output_type": "execute_result"
    }
   ],
   "source": [
    "df['major_discipline'].value_counts(dropna = False)"
   ]
  },
  {
   "cell_type": "markdown",
   "metadata": {},
   "source": [
    "- Let's check distribution of values when one of the three variables is NULL"
   ]
  },
  {
   "cell_type": "code",
   "execution_count": 128,
   "metadata": {},
   "outputs": [
    {
     "name": "stdout",
     "output_type": "stream",
     "text": [
      "when enrolled_university is null\n",
      "Graduate          171\n",
      "NaN               100\n",
      "Masters            53\n",
      "High School        47\n",
      "Primary School      9\n",
      "Phd                 6\n",
      "Name: education_level, dtype: int64\n",
      "\n",
      "when enrolled_university is null\n",
      "STEM               208\n",
      "NaN                157\n",
      "Humanities           9\n",
      "No Major             4\n",
      "Other                4\n",
      "Arts                 2\n",
      "Business Degree      2\n",
      "Name: major_discipline, dtype: int64\n",
      "\n",
      "when education_level is null\n",
      "no_enrollment       270\n",
      "NaN                 100\n",
      "Full time course     69\n",
      "Part time course     21\n",
      "Name: enrolled_university, dtype: int64\n",
      "\n",
      "when education_level is null\n",
      "NaN    460\n",
      "Name: major_discipline, dtype: int64\n",
      "\n",
      "when major_discipline is null\n",
      "no_enrollment       1481\n",
      "Full time course     976\n",
      "Part time course     199\n",
      "NaN                  157\n",
      "Name: enrolled_university, dtype: int64\n",
      "\n",
      "when major_discipline is null\n",
      "High School       2017\n",
      "NaN                460\n",
      "Primary School     308\n",
      "Graduate            22\n",
      "Masters              6\n",
      "Name: education_level, dtype: int64\n",
      "\n"
     ]
    }
   ],
   "source": [
    "for i in ['enrolled_university', 'education_level', 'major_discipline']:\n",
    "    for j in ['enrolled_university', 'education_level', 'major_discipline']:\n",
    "        if i != j:\n",
    "            print(\"when %s is null\" % (i))\n",
    "            print(df.loc[df[i].isna(), j].value_counts(dropna = False))\n",
    "            print()\n",
    "        else:\n",
    "            continue"
   ]
  },
  {
   "cell_type": "code",
   "execution_count": 129,
   "metadata": {},
   "outputs": [
    {
     "name": "stdout",
     "output_type": "stream",
     "text": [
      "when `enrolled_university` is NULL, `education_level` -\n"
     ]
    },
    {
     "data": {
      "image/png": "[encoded data removed]",
      "text/plain": [
       "<Figure size 432x288 with 1 Axes>"
      ]
     },
     "metadata": {
      "needs_background": "light"
     },
     "output_type": "display_data"
    },
    {
     "name": "stdout",
     "output_type": "stream",
     "text": [
      "\n",
      "when `enrolled_university` is NULL, `major_discipline` -\n"
     ]
    },
    {
     "data": {
      "image/png": "[encoded data removed]",
      "text/plain": [
       "<Figure size 432x288 with 1 Axes>"
      ]
     },
     "metadata": {
      "needs_background": "light"
     },
     "output_type": "display_data"
    },
    {
     "name": "stdout",
     "output_type": "stream",
     "text": [
      "\n",
      "when `education_level` is NULL, `enrolled_university` -\n"
     ]
    },
    {
     "data": {
      "image/png": "[encoded data removed]",
      "text/plain": [
       "<Figure size 432x288 with 1 Axes>"
      ]
     },
     "metadata": {
      "needs_background": "light"
     },
     "output_type": "display_data"
    },
    {
     "name": "stdout",
     "output_type": "stream",
     "text": [
      "\n",
      "when `education_level` is NULL, `major_discipline` -\n"
     ]
    },
    {
     "data": {
      "image/png": "[encoded data removed]",
      "text/plain": [
       "<Figure size 432x288 with 1 Axes>"
      ]
     },
     "metadata": {
      "needs_background": "light"
     },
     "output_type": "display_data"
    },
    {
     "name": "stdout",
     "output_type": "stream",
     "text": [
      "\n",
      "when `major_discipline` is NULL, `enrolled_university` -\n"
     ]
    },
    {
     "data": {
      "image/png": "[encoded data removed]",
      "text/plain": [
       "<Figure size 432x288 with 1 Axes>"
      ]
     },
     "metadata": {
      "needs_background": "light"
     },
     "output_type": "display_data"
    },
    {
     "name": "stdout",
     "output_type": "stream",
     "text": [
      "\n",
      "when `major_discipline` is NULL, `education_level` -\n"
     ]
    },
    {
     "data": {
      "image/png": "[encoded data removed]",
      "text/plain": [
       "<Figure size 432x288 with 1 Axes>"
      ]
     },
     "metadata": {
      "needs_background": "light"
     },
     "output_type": "display_data"
    },
    {
     "name": "stdout",
     "output_type": "stream",
     "text": [
      "\n"
     ]
    }
   ],
   "source": [
    "for i in ['enrolled_university', 'education_level', 'major_discipline']:\n",
    "    for j in ['enrolled_university', 'education_level', 'major_discipline']:\n",
    "        if i != j:\n",
    "            print(\"when `%s` is NULL, `%s` -\" % (i, j))\n",
    "            sns.countplot(df.loc[df[i].isna(), j].fillna(\"N/A\"))\n",
    "            plt.show()\n",
    "            print()\n",
    "        else:\n",
    "            continue"
   ]
  },
  {
   "cell_type": "code",
   "execution_count": 130,
   "metadata": {
    "tags": []
   },
   "outputs": [
    {
     "data": {
      "text/html": [
       "<div>\n",
       "<style scoped>\n",
       "    .dataframe tbody tr th:only-of-type {\n",
       "        vertical-align: middle;\n",
       "    }\n",
       "\n",
       "    .dataframe tbody tr th {\n",
       "        vertical-align: top;\n",
       "    }\n",
       "\n",
       "    .dataframe thead th {\n",
       "        text-align: right;\n",
       "    }\n",
       "</style>\n",
       "<table border=\"1\" class=\"dataframe\">\n",
       "  <thead>\n",
       "    <tr style=\"text-align: right;\">\n",
       "      <th>enrolled_university</th>\n",
       "      <th>Full time course</th>\n",
       "      <th>N/A</th>\n",
       "      <th>Part time course</th>\n",
       "      <th>no_enrollment</th>\n",
       "    </tr>\n",
       "    <tr>\n",
       "      <th>education_level</th>\n",
       "      <th></th>\n",
       "      <th></th>\n",
       "      <th></th>\n",
       "      <th></th>\n",
       "    </tr>\n",
       "  </thead>\n",
       "  <tbody>\n",
       "    <tr>\n",
       "      <th>Graduate</th>\n",
       "      <td>2209</td>\n",
       "      <td>171</td>\n",
       "      <td>784</td>\n",
       "      <td>8434</td>\n",
       "    </tr>\n",
       "    <tr>\n",
       "      <th>High School</th>\n",
       "      <td>864</td>\n",
       "      <td>47</td>\n",
       "      <td>166</td>\n",
       "      <td>940</td>\n",
       "    </tr>\n",
       "    <tr>\n",
       "      <th>Masters</th>\n",
       "      <td>557</td>\n",
       "      <td>53</td>\n",
       "      <td>204</td>\n",
       "      <td>3547</td>\n",
       "    </tr>\n",
       "    <tr>\n",
       "      <th>N/A</th>\n",
       "      <td>69</td>\n",
       "      <td>100</td>\n",
       "      <td>21</td>\n",
       "      <td>270</td>\n",
       "    </tr>\n",
       "    <tr>\n",
       "      <th>Phd</th>\n",
       "      <td>25</td>\n",
       "      <td>6</td>\n",
       "      <td>12</td>\n",
       "      <td>371</td>\n",
       "    </tr>\n",
       "    <tr>\n",
       "      <th>Primary School</th>\n",
       "      <td>33</td>\n",
       "      <td>9</td>\n",
       "      <td>11</td>\n",
       "      <td>255</td>\n",
       "    </tr>\n",
       "  </tbody>\n",
       "</table>\n",
       "</div>"
      ],
      "text/plain": [
       "enrolled_university  Full time course  N/A  Part time course  no_enrollment\n",
       "education_level                                                            \n",
       "Graduate                         2209  171               784           8434\n",
       "High School                       864   47               166            940\n",
       "Masters                           557   53               204           3547\n",
       "N/A                                69  100                21            270\n",
       "Phd                                25    6                12            371\n",
       "Primary School                     33    9                11            255"
      ]
     },
     "execution_count": 130,
     "metadata": {},
     "output_type": "execute_result"
    }
   ],
   "source": [
    "pd.crosstab(df['education_level'].fillna(\"N/A\"), df['enrolled_university'].fillna(\"N/A\"))"
   ]
  },
  {
   "cell_type": "markdown",
   "metadata": {
    "tags": []
   },
   "source": [
    "#### Observations - \n",
    "1. ***`enrolled_university`*** -  \n",
    "- Majority of NULLS have **`education_level` == *graduation or higher*** , so we can assume that they did not enroll to any university course. Remaining values can be assumed as \"not enrolled\" too.  \n",
    "- To further solidify our assumption, we will take a look at the crosstab above as well. We observe that `education_level` == NULL has maximum values against `enrolled_university` = \"no enrollment\". While, for `enrolled_university` == NULL has maximum values in `education_level` = \"Graduate\".\n",
    "\n",
    "2. ***`education_level`*** - We plan to make this variable have 3 categories - \"High School or Lower\", \"Graduation\" and \"Post Graduation\". We can then club NULLS with \"High School or Lower\" category since their `major_discipline` is also NULL (heavy majority of the cases where `major_discipline` is NULL have `education_level` up to High School only). \n",
    "\n",
    "3. ***`major_discipline`*** - We plan to make this a binary variable - \"STEM\" and \"Non-STEM\". Now, heavy majority of the cases where Major Discipline is NULL have education up to High School only. So, we will simply put NULLS into \"Non-STEM\" category."
   ]
  },
  {
   "cell_type": "code",
   "execution_count": 131,
   "metadata": {},
   "outputs": [
    {
     "data": {
      "text/plain": [
       "<AxesSubplot:xlabel='enrolled_university', ylabel='count'>"
      ]
     },
     "execution_count": 131,
     "metadata": {},
     "output_type": "execute_result"
    },
    {
     "data": {
      "image/png": "[encoded data removed]",
      "text/plain": [
       "<Figure size 432x288 with 1 Axes>"
      ]
     },
     "metadata": {
      "needs_background": "light"
     },
     "output_type": "display_data"
    }
   ],
   "source": [
    "# enrolled_university\n",
    "df['enrolled_university'] = df['enrolled_university'].fillna(\"no_enrollment\")\n",
    "sns.countplot(df['enrolled_university'])"
   ]
  },
  {
   "cell_type": "markdown",
   "metadata": {},
   "source": [
    "- The variable `enrolled_university` is also extremely skewed which is why we will merge \"Full Time\" and \"Part Time\" into one category i.e. **enrolled**."
   ]
  },
  {
   "cell_type": "code",
   "execution_count": 132,
   "metadata": {},
   "outputs": [
    {
     "data": {
      "text/plain": [
       "<AxesSubplot:xlabel='enrolled_university', ylabel='count'>"
      ]
     },
     "execution_count": 132,
     "metadata": {},
     "output_type": "execute_result"
    },
    {
     "data": {
      "image/png": "[encoded data removed]",
      "text/plain": [
       "<Figure size 432x288 with 1 Axes>"
      ]
     },
     "metadata": {
      "needs_background": "light"
     },
     "output_type": "display_data"
    }
   ],
   "source": [
    "df['enrolled_university'] = df['enrolled_university'].map(lambda x : \"No\" if x == \"no_enrollment\" else \"Yes\")\n",
    "sns.countplot(df['enrolled_university'])"
   ]
  },
  {
   "cell_type": "code",
   "execution_count": 133,
   "metadata": {},
   "outputs": [
    {
     "data": {
      "text/plain": [
       "Graduate          11598\n",
       "Masters            4361\n",
       "High School        2017\n",
       "Phd                 414\n",
       "Primary School      308\n",
       "Name: education_level, dtype: int64"
      ]
     },
     "execution_count": 133,
     "metadata": {},
     "output_type": "execute_result"
    }
   ],
   "source": [
    "# education_level\n",
    "df['education_level'].value_counts()"
   ]
  },
  {
   "cell_type": "code",
   "execution_count": 134,
   "metadata": {},
   "outputs": [],
   "source": [
    "def education(x):\n",
    "    if x in ['Masters', 'Phd']:\n",
    "        return \"Post Graduate\"\n",
    "    elif x == \"Graduate\":\n",
    "        return \"Graduate\"\n",
    "    else:\n",
    "        return \"Non-Graduate\""
   ]
  },
  {
   "cell_type": "code",
   "execution_count": 135,
   "metadata": {},
   "outputs": [
    {
     "data": {
      "text/plain": [
       "<AxesSubplot:xlabel='education_level', ylabel='count'>"
      ]
     },
     "execution_count": 135,
     "metadata": {},
     "output_type": "execute_result"
    },
    {
     "data": {
      "image/png": "[encoded data removed]",
      "text/plain": [
       "<Figure size 432x288 with 1 Axes>"
      ]
     },
     "metadata": {
      "needs_background": "light"
     },
     "output_type": "display_data"
    }
   ],
   "source": [
    "df['education_level'] = df['education_level'].map(education)\n",
    "sns.countplot(df['education_level'])"
   ]
  },
  {
   "cell_type": "code",
   "execution_count": 136,
   "metadata": {},
   "outputs": [
    {
     "data": {
      "text/plain": [
       "<AxesSubplot:xlabel='major_discipline', ylabel='count'>"
      ]
     },
     "execution_count": 136,
     "metadata": {},
     "output_type": "execute_result"
    },
    {
     "data": {
      "image/png": "[encoded data removed]",
      "text/plain": [
       "<Figure size 432x288 with 1 Axes>"
      ]
     },
     "metadata": {
      "needs_background": "light"
     },
     "output_type": "display_data"
    }
   ],
   "source": [
    "# major_discipline\n",
    "df['major_discipline'] = df['major_discipline'].map(lambda x : \"STEM\" if x == \"STEM\" else \"Non-STEM\")\n",
    "sns.countplot(df['major_discipline'])"
   ]
  },
  {
   "cell_type": "markdown",
   "metadata": {},
   "source": [
    "### `experience`"
   ]
  },
  {
   "cell_type": "code",
   "execution_count": 137,
   "metadata": {},
   "outputs": [
    {
     "data": {
      "text/plain": [
       ">20    3286\n",
       "5      1430\n",
       "4      1403\n",
       "3      1354\n",
       "6      1216\n",
       "2      1127\n",
       "7      1028\n",
       "10      985\n",
       "9       980\n",
       "8       802\n",
       "15      686\n",
       "11      664\n",
       "14      586\n",
       "1       549\n",
       "<1      522\n",
       "16      508\n",
       "12      494\n",
       "13      399\n",
       "17      342\n",
       "19      304\n",
       "18      280\n",
       "20      148\n",
       "NaN      65\n",
       "Name: experience, dtype: int64"
      ]
     },
     "execution_count": 137,
     "metadata": {},
     "output_type": "execute_result"
    }
   ],
   "source": [
    "# value_counts\n",
    "df['experience'].value_counts(dropna = False)"
   ]
  },
  {
   "cell_type": "markdown",
   "metadata": {},
   "source": [
    "#### Observations - \n",
    "1. NULLS - There are only 65 NULLS, we can equate them to 0 because this is the information which companies usually have or we can simply remove the rows. We will do the former.\n",
    "2. We can probably use this as a categorical variable by using ranges of experience, which is also commonly seen in job requirements. We can use the below groups - \n",
    "        - 0 to 2\n",
    "        - 3 to 6\n",
    "        - 7 to 10\n",
    "        - 10 to 20\n",
    "        - 20 and above"
   ]
  },
  {
   "cell_type": "code",
   "execution_count": 138,
   "metadata": {},
   "outputs": [],
   "source": [
    "def experience_groups(x):\n",
    "    if (x in [np.nan, '1', '2']):\n",
    "        return \"0 to 2\"\n",
    "    elif x in ['3', '4', '5', '6']:\n",
    "        return \"3 to 6\"\n",
    "    elif x in ['7', '8', '9', '10']:\n",
    "        return \"7 to 10\"\n",
    "    elif x == \">20\":\n",
    "        return \"20+\"\n",
    "    else:\n",
    "        return \"10 to 20\""
   ]
  },
  {
   "cell_type": "code",
   "execution_count": 139,
   "metadata": {},
   "outputs": [
    {
     "data": {
      "text/plain": [
       "3 to 6      5403\n",
       "10 to 20    4933\n",
       "7 to 10     3795\n",
       "20+         3286\n",
       "0 to 2      1741\n",
       "Name: experience, dtype: int64"
      ]
     },
     "execution_count": 139,
     "metadata": {},
     "output_type": "execute_result"
    }
   ],
   "source": [
    "df['experience'] = df['experience'].map(experience_groups)\n",
    "df['experience'].value_counts(dropna = False)"
   ]
  },
  {
   "cell_type": "markdown",
   "metadata": {},
   "source": [
    "###  `last_new_job`"
   ]
  },
  {
   "cell_type": "code",
   "execution_count": 140,
   "metadata": {},
   "outputs": [
    {
     "data": {
      "text/plain": [
       "1        8040\n",
       ">4       3290\n",
       "2        2900\n",
       "never    2452\n",
       "4        1029\n",
       "3        1024\n",
       "NaN       423\n",
       "Name: last_new_job, dtype: int64"
      ]
     },
     "execution_count": 140,
     "metadata": {},
     "output_type": "execute_result"
    }
   ],
   "source": [
    "# value_counts\n",
    "df['last_new_job'].value_counts(dropna = False)"
   ]
  },
  {
   "cell_type": "code",
   "execution_count": 141,
   "metadata": {},
   "outputs": [
    {
     "data": {
      "text/plain": [
       "<AxesSubplot:xlabel='last_new_job', ylabel='count'>"
      ]
     },
     "execution_count": 141,
     "metadata": {},
     "output_type": "execute_result"
    },
    {
     "data": {
      "image/png": "[encoded data removed]",
      "text/plain": [
       "<Figure size 432x288 with 1 Axes>"
      ]
     },
     "metadata": {
      "needs_background": "light"
     },
     "output_type": "display_data"
    }
   ],
   "source": [
    "sns.countplot(df['last_new_job'].fillna(\"N/A\"), hue = df['target'])"
   ]
  },
  {
   "cell_type": "markdown",
   "metadata": {},
   "source": [
    "- There are 423 NULLs in this variable and these can be equated to \"never\" since this is the information the company usually has.\n",
    "- Based on the frequency distribution above, we can create the below groups - \n",
    "        - \"1\"\n",
    "        - \"2 or more\"\n",
    "        - \"never\""
   ]
  },
  {
   "cell_type": "code",
   "execution_count": 142,
   "metadata": {},
   "outputs": [],
   "source": [
    "def last_job_groups(x):\n",
    "    if x in [np.nan, 'never']:\n",
    "        return \"never\"\n",
    "    elif x == \"1\":\n",
    "        return \"1\"\n",
    "    else:\n",
    "        return \"2 or more\""
   ]
  },
  {
   "cell_type": "code",
   "execution_count": 143,
   "metadata": {},
   "outputs": [
    {
     "data": {
      "text/plain": [
       "2 or more    8243\n",
       "1            8040\n",
       "never        2875\n",
       "Name: last_new_job, dtype: int64"
      ]
     },
     "execution_count": 143,
     "metadata": {},
     "output_type": "execute_result"
    }
   ],
   "source": [
    "df['last_new_job'] = df['last_new_job'].map(last_job_groups)\n",
    "df['last_new_job'].value_counts(dropna = False)"
   ]
  },
  {
   "cell_type": "code",
   "execution_count": 144,
   "metadata": {},
   "outputs": [
    {
     "data": {
      "text/html": [
       "<div>\n",
       "<style scoped>\n",
       "    .dataframe tbody tr th:only-of-type {\n",
       "        vertical-align: middle;\n",
       "    }\n",
       "\n",
       "    .dataframe tbody tr th {\n",
       "        vertical-align: top;\n",
       "    }\n",
       "\n",
       "    .dataframe thead th {\n",
       "        text-align: right;\n",
       "    }\n",
       "</style>\n",
       "<table border=\"1\" class=\"dataframe\">\n",
       "  <thead>\n",
       "    <tr style=\"text-align: right;\">\n",
       "      <th></th>\n",
       "      <th>city_development_index</th>\n",
       "      <th>gender</th>\n",
       "      <th>relevent_experience</th>\n",
       "      <th>enrolled_university</th>\n",
       "      <th>education_level</th>\n",
       "      <th>major_discipline</th>\n",
       "      <th>experience</th>\n",
       "      <th>company_size</th>\n",
       "      <th>company_type</th>\n",
       "      <th>last_new_job</th>\n",
       "      <th>training_hours</th>\n",
       "      <th>target</th>\n",
       "    </tr>\n",
       "  </thead>\n",
       "  <tbody>\n",
       "    <tr>\n",
       "      <th>0</th>\n",
       "      <td>0.920</td>\n",
       "      <td>Male_Yes</td>\n",
       "      <td>Yes</td>\n",
       "      <td>No</td>\n",
       "      <td>Graduate</td>\n",
       "      <td>STEM</td>\n",
       "      <td>20+</td>\n",
       "      <td>NaN</td>\n",
       "      <td>NaN</td>\n",
       "      <td>1</td>\n",
       "      <td>36</td>\n",
       "      <td>1.0</td>\n",
       "    </tr>\n",
       "    <tr>\n",
       "      <th>1</th>\n",
       "      <td>0.776</td>\n",
       "      <td>Male_Yes</td>\n",
       "      <td>No</td>\n",
       "      <td>No</td>\n",
       "      <td>Graduate</td>\n",
       "      <td>STEM</td>\n",
       "      <td>10 to 20</td>\n",
       "      <td>50-99</td>\n",
       "      <td>Pvt Ltd</td>\n",
       "      <td>2 or more</td>\n",
       "      <td>47</td>\n",
       "      <td>0.0</td>\n",
       "    </tr>\n",
       "    <tr>\n",
       "      <th>2</th>\n",
       "      <td>0.624</td>\n",
       "      <td>Male_No</td>\n",
       "      <td>No</td>\n",
       "      <td>Yes</td>\n",
       "      <td>Graduate</td>\n",
       "      <td>STEM</td>\n",
       "      <td>3 to 6</td>\n",
       "      <td>NaN</td>\n",
       "      <td>NaN</td>\n",
       "      <td>never</td>\n",
       "      <td>83</td>\n",
       "      <td>0.0</td>\n",
       "    </tr>\n",
       "    <tr>\n",
       "      <th>3</th>\n",
       "      <td>0.789</td>\n",
       "      <td>Male_No</td>\n",
       "      <td>No</td>\n",
       "      <td>No</td>\n",
       "      <td>Graduate</td>\n",
       "      <td>Non-STEM</td>\n",
       "      <td>10 to 20</td>\n",
       "      <td>NaN</td>\n",
       "      <td>Pvt Ltd</td>\n",
       "      <td>never</td>\n",
       "      <td>52</td>\n",
       "      <td>1.0</td>\n",
       "    </tr>\n",
       "    <tr>\n",
       "      <th>4</th>\n",
       "      <td>0.767</td>\n",
       "      <td>Male_Yes</td>\n",
       "      <td>Yes</td>\n",
       "      <td>No</td>\n",
       "      <td>Post Graduate</td>\n",
       "      <td>STEM</td>\n",
       "      <td>20+</td>\n",
       "      <td>50-99</td>\n",
       "      <td>Funded Startup</td>\n",
       "      <td>2 or more</td>\n",
       "      <td>8</td>\n",
       "      <td>0.0</td>\n",
       "    </tr>\n",
       "  </tbody>\n",
       "</table>\n",
       "</div>"
      ],
      "text/plain": [
       "   city_development_index    gender relevent_experience enrolled_university  \\\n",
       "0                   0.920  Male_Yes                 Yes                  No   \n",
       "1                   0.776  Male_Yes                  No                  No   \n",
       "2                   0.624   Male_No                  No                 Yes   \n",
       "3                   0.789   Male_No                  No                  No   \n",
       "4                   0.767  Male_Yes                 Yes                  No   \n",
       "\n",
       "  education_level major_discipline experience company_size    company_type  \\\n",
       "0        Graduate             STEM        20+          NaN             NaN   \n",
       "1        Graduate             STEM   10 to 20        50-99         Pvt Ltd   \n",
       "2        Graduate             STEM     3 to 6          NaN             NaN   \n",
       "3        Graduate         Non-STEM   10 to 20          NaN         Pvt Ltd   \n",
       "4   Post Graduate             STEM        20+        50-99  Funded Startup   \n",
       "\n",
       "  last_new_job  training_hours  target  \n",
       "0            1              36     1.0  \n",
       "1    2 or more              47     0.0  \n",
       "2        never              83     0.0  \n",
       "3        never              52     1.0  \n",
       "4    2 or more               8     0.0  "
      ]
     },
     "execution_count": 144,
     "metadata": {},
     "output_type": "execute_result"
    }
   ],
   "source": [
    "df.head()"
   ]
  },
  {
   "cell_type": "markdown",
   "metadata": {},
   "source": [
    "### `company_size` and `company_type`"
   ]
  },
  {
   "cell_type": "code",
   "execution_count": 145,
   "metadata": {},
   "outputs": [
    {
     "data": {
      "text/plain": [
       "NaN          0.309949\n",
       "50-99        0.160925\n",
       "100-500      0.134200\n",
       "10000+       0.105387\n",
       "10/49        0.076783\n",
       "1000-4999    0.069318\n",
       "<10          0.068274\n",
       "500-999      0.045777\n",
       "5000-9999    0.029387\n",
       "Name: company_size, dtype: float64"
      ]
     },
     "execution_count": 145,
     "metadata": {},
     "output_type": "execute_result"
    }
   ],
   "source": [
    "# value_counts\n",
    "df['company_size'].value_counts(dropna = False, normalize = True)"
   ]
  },
  {
   "cell_type": "code",
   "execution_count": 146,
   "metadata": {},
   "outputs": [
    {
     "data": {
      "text/plain": [
       "Pvt Ltd                0.512423\n",
       "NaN                    0.320493\n",
       "Funded Startup         0.052250\n",
       "Public Sector          0.049849\n",
       "Early Stage Startup    0.031475\n",
       "NGO                    0.027195\n",
       "Other                  0.006316\n",
       "Name: company_type, dtype: float64"
      ]
     },
     "execution_count": 146,
     "metadata": {},
     "output_type": "execute_result"
    }
   ],
   "source": [
    "# value_counts\n",
    "df['company_type'].value_counts(dropna = False, normalize = True)"
   ]
  },
  {
   "cell_type": "markdown",
   "metadata": {},
   "source": [
    "- Over 30% of data is missing for both the variables, so we will drop these features."
   ]
  },
  {
   "cell_type": "code",
   "execution_count": 147,
   "metadata": {},
   "outputs": [],
   "source": [
    "df.drop(['company_size', 'company_type'], axis = 1, inplace=True)"
   ]
  },
  {
   "cell_type": "code",
   "execution_count": 148,
   "metadata": {},
   "outputs": [
    {
     "data": {
      "text/html": [
       "<div>\n",
       "<style scoped>\n",
       "    .dataframe tbody tr th:only-of-type {\n",
       "        vertical-align: middle;\n",
       "    }\n",
       "\n",
       "    .dataframe tbody tr th {\n",
       "        vertical-align: top;\n",
       "    }\n",
       "\n",
       "    .dataframe thead th {\n",
       "        text-align: right;\n",
       "    }\n",
       "</style>\n",
       "<table border=\"1\" class=\"dataframe\">\n",
       "  <thead>\n",
       "    <tr style=\"text-align: right;\">\n",
       "      <th></th>\n",
       "      <th>city_development_index</th>\n",
       "      <th>gender</th>\n",
       "      <th>relevent_experience</th>\n",
       "      <th>enrolled_university</th>\n",
       "      <th>education_level</th>\n",
       "      <th>major_discipline</th>\n",
       "      <th>experience</th>\n",
       "      <th>last_new_job</th>\n",
       "      <th>training_hours</th>\n",
       "      <th>target</th>\n",
       "    </tr>\n",
       "  </thead>\n",
       "  <tbody>\n",
       "    <tr>\n",
       "      <th>0</th>\n",
       "      <td>0.920</td>\n",
       "      <td>Male_Yes</td>\n",
       "      <td>Yes</td>\n",
       "      <td>No</td>\n",
       "      <td>Graduate</td>\n",
       "      <td>STEM</td>\n",
       "      <td>20+</td>\n",
       "      <td>1</td>\n",
       "      <td>36</td>\n",
       "      <td>1.0</td>\n",
       "    </tr>\n",
       "    <tr>\n",
       "      <th>1</th>\n",
       "      <td>0.776</td>\n",
       "      <td>Male_Yes</td>\n",
       "      <td>No</td>\n",
       "      <td>No</td>\n",
       "      <td>Graduate</td>\n",
       "      <td>STEM</td>\n",
       "      <td>10 to 20</td>\n",
       "      <td>2 or more</td>\n",
       "      <td>47</td>\n",
       "      <td>0.0</td>\n",
       "    </tr>\n",
       "    <tr>\n",
       "      <th>2</th>\n",
       "      <td>0.624</td>\n",
       "      <td>Male_No</td>\n",
       "      <td>No</td>\n",
       "      <td>Yes</td>\n",
       "      <td>Graduate</td>\n",
       "      <td>STEM</td>\n",
       "      <td>3 to 6</td>\n",
       "      <td>never</td>\n",
       "      <td>83</td>\n",
       "      <td>0.0</td>\n",
       "    </tr>\n",
       "    <tr>\n",
       "      <th>3</th>\n",
       "      <td>0.789</td>\n",
       "      <td>Male_No</td>\n",
       "      <td>No</td>\n",
       "      <td>No</td>\n",
       "      <td>Graduate</td>\n",
       "      <td>Non-STEM</td>\n",
       "      <td>10 to 20</td>\n",
       "      <td>never</td>\n",
       "      <td>52</td>\n",
       "      <td>1.0</td>\n",
       "    </tr>\n",
       "    <tr>\n",
       "      <th>4</th>\n",
       "      <td>0.767</td>\n",
       "      <td>Male_Yes</td>\n",
       "      <td>Yes</td>\n",
       "      <td>No</td>\n",
       "      <td>Post Graduate</td>\n",
       "      <td>STEM</td>\n",
       "      <td>20+</td>\n",
       "      <td>2 or more</td>\n",
       "      <td>8</td>\n",
       "      <td>0.0</td>\n",
       "    </tr>\n",
       "  </tbody>\n",
       "</table>\n",
       "</div>"
      ],
      "text/plain": [
       "   city_development_index    gender relevent_experience enrolled_university  \\\n",
       "0                   0.920  Male_Yes                 Yes                  No   \n",
       "1                   0.776  Male_Yes                  No                  No   \n",
       "2                   0.624   Male_No                  No                 Yes   \n",
       "3                   0.789   Male_No                  No                  No   \n",
       "4                   0.767  Male_Yes                 Yes                  No   \n",
       "\n",
       "  education_level major_discipline experience last_new_job  training_hours  \\\n",
       "0        Graduate             STEM        20+            1              36   \n",
       "1        Graduate             STEM   10 to 20    2 or more              47   \n",
       "2        Graduate             STEM     3 to 6        never              83   \n",
       "3        Graduate         Non-STEM   10 to 20        never              52   \n",
       "4   Post Graduate             STEM        20+    2 or more               8   \n",
       "\n",
       "   target  \n",
       "0     1.0  \n",
       "1     0.0  \n",
       "2     0.0  \n",
       "3     1.0  \n",
       "4     0.0  "
      ]
     },
     "execution_count": 148,
     "metadata": {},
     "output_type": "execute_result"
    }
   ],
   "source": [
    "df.head()"
   ]
  },
  {
   "cell_type": "markdown",
   "metadata": {},
   "source": [
    "## Investigating Numerical Variables"
   ]
  },
  {
   "cell_type": "code",
   "execution_count": 150,
   "metadata": {},
   "outputs": [],
   "source": [
    "# function to get normality plots\n",
    "def prob_plots(x):\n",
    "    from scipy.stats import probplot\n",
    "    fig, ax = plt.subplots(1, 3, figsize = (18, 6))\n",
    "\n",
    "    res = probplot(x, plot = ax[0])\n",
    "    ax[0].set_title(\"Q-Q Plot\")\n",
    "\n",
    "    ax[1] = sns.kdeplot(x, fill = True, ax = ax[1])\n",
    "    ax[1].set_title(\"KDE (PDF) Plot\")\n",
    "\n",
    "    ax[2] = sns.ecdfplot(x, ax = ax[2])\n",
    "    ax[2].set_title(\"KDE (PDF) Plot\")"
   ]
  },
  {
   "cell_type": "markdown",
   "metadata": {},
   "source": [
    "### `city_development_index`"
   ]
  },
  {
   "cell_type": "code",
   "execution_count": 162,
   "metadata": {},
   "outputs": [
    {
     "data": {
      "image/png": "[encoded data removed]",
      "text/plain": [
       "<Figure size 1296x432 with 3 Axes>"
      ]
     },
     "metadata": {
      "needs_background": "light"
     },
     "output_type": "display_data"
    }
   ],
   "source": [
    "prob_plots(df['city_development_index'])"
   ]
  },
  {
   "cell_type": "code",
   "execution_count": 153,
   "metadata": {},
   "outputs": [
    {
     "data": {
      "text/plain": [
       "<AxesSubplot:xlabel='target', ylabel='city_development_index'>"
      ]
     },
     "execution_count": 153,
     "metadata": {},
     "output_type": "execute_result"
    },
    {
     "data": {
      "image/png": "[encoded data removed]",
      "text/plain": [
       "<Figure size 432x288 with 1 Axes>"
      ]
     },
     "metadata": {
      "needs_background": "light"
     },
     "output_type": "display_data"
    }
   ],
   "source": [
    "sns.boxplot(y = df['city_development_index'], x = df['target'])"
   ]
  },
  {
   "cell_type": "markdown",
   "metadata": {},
   "source": [
    "- It seems that a higher median `city_development_index` relates to employees being more probable to stay in their current jobs.\n",
    "- We will keep the variable as is for now."
   ]
  },
  {
   "cell_type": "code",
   "execution_count": 179,
   "metadata": {},
   "outputs": [
    {
     "data": {
      "text/plain": [
       "<AxesSubplot:ylabel='city_development_index'>"
      ]
     },
     "execution_count": 179,
     "metadata": {},
     "output_type": "execute_result"
    },
    {
     "data": {
      "image/png": "[encoded data removed]",
      "text/plain": [
       "<Figure size 432x288 with 1 Axes>"
      ]
     },
     "metadata": {
      "needs_background": "light"
     },
     "output_type": "display_data"
    }
   ],
   "source": [
    "# check for outliers\n",
    "sns.boxplot(y = df['city_development_index'])"
   ]
  },
  {
   "cell_type": "markdown",
   "metadata": {},
   "source": [
    "### `training_hours`"
   ]
  },
  {
   "cell_type": "code",
   "execution_count": 183,
   "metadata": {},
   "outputs": [
    {
     "data": {
      "image/png": "[encoded data removed]",
      "text/plain": [
       "<Figure size 1296x432 with 3 Axes>"
      ]
     },
     "metadata": {
      "needs_background": "light"
     },
     "output_type": "display_data"
    }
   ],
   "source": [
    "prob_plots(df['training_hours'])"
   ]
  },
  {
   "cell_type": "code",
   "execution_count": 180,
   "metadata": {},
   "outputs": [
    {
     "data": {
      "text/plain": [
       "<AxesSubplot:xlabel='target', ylabel='training_hours'>"
      ]
     },
     "execution_count": 180,
     "metadata": {},
     "output_type": "execute_result"
    },
    {
     "data": {
      "image/png": "[encoded data removed]",
      "text/plain": [
       "<Figure size 432x288 with 1 Axes>"
      ]
     },
     "metadata": {
      "needs_background": "light"
     },
     "output_type": "display_data"
    }
   ],
   "source": [
    "sns.boxplot(y = df['training_hours'], x = df['target'])"
   ]
  },
  {
   "cell_type": "markdown",
   "metadata": {},
   "source": [
    "- It seems the feature has too many outliers, or rather extreme values, in it. Hence, we will try applying a log transformation to see if that effect is reduced. "
   ]
  },
  {
   "cell_type": "code",
   "execution_count": 184,
   "metadata": {},
   "outputs": [
    {
     "data": {
      "text/plain": [
       "<AxesSubplot:xlabel='target', ylabel='training_hours'>"
      ]
     },
     "execution_count": 184,
     "metadata": {},
     "output_type": "execute_result"
    },
    {
     "data": {
      "image/png": "[encoded data removed]",
      "text/plain": [
       "<Figure size 432x288 with 1 Axes>"
      ]
     },
     "metadata": {
      "needs_background": "light"
     },
     "output_type": "display_data"
    }
   ],
   "source": [
    "# check for outliers\n",
    "sns.boxplot(y = np.log(df['training_hours']), x = df['target'])"
   ]
  },
  {
   "cell_type": "markdown",
   "metadata": {},
   "source": [
    "- This looks much better. We will move ahead with the transformation."
   ]
  },
  {
   "cell_type": "code",
   "execution_count": 185,
   "metadata": {},
   "outputs": [
    {
     "data": {
      "text/html": [
       "<div>\n",
       "<style scoped>\n",
       "    .dataframe tbody tr th:only-of-type {\n",
       "        vertical-align: middle;\n",
       "    }\n",
       "\n",
       "    .dataframe tbody tr th {\n",
       "        vertical-align: top;\n",
       "    }\n",
       "\n",
       "    .dataframe thead th {\n",
       "        text-align: right;\n",
       "    }\n",
       "</style>\n",
       "<table border=\"1\" class=\"dataframe\">\n",
       "  <thead>\n",
       "    <tr style=\"text-align: right;\">\n",
       "      <th></th>\n",
       "      <th>city_development_index</th>\n",
       "      <th>gender</th>\n",
       "      <th>relevent_experience</th>\n",
       "      <th>enrolled_university</th>\n",
       "      <th>education_level</th>\n",
       "      <th>major_discipline</th>\n",
       "      <th>experience</th>\n",
       "      <th>last_new_job</th>\n",
       "      <th>target</th>\n",
       "      <th>log_training_hours</th>\n",
       "    </tr>\n",
       "  </thead>\n",
       "  <tbody>\n",
       "    <tr>\n",
       "      <th>0</th>\n",
       "      <td>0.920</td>\n",
       "      <td>Male_Yes</td>\n",
       "      <td>Yes</td>\n",
       "      <td>No</td>\n",
       "      <td>Graduate</td>\n",
       "      <td>STEM</td>\n",
       "      <td>20+</td>\n",
       "      <td>1</td>\n",
       "      <td>1.0</td>\n",
       "      <td>3.583519</td>\n",
       "    </tr>\n",
       "    <tr>\n",
       "      <th>1</th>\n",
       "      <td>0.776</td>\n",
       "      <td>Male_Yes</td>\n",
       "      <td>No</td>\n",
       "      <td>No</td>\n",
       "      <td>Graduate</td>\n",
       "      <td>STEM</td>\n",
       "      <td>10 to 20</td>\n",
       "      <td>2 or more</td>\n",
       "      <td>0.0</td>\n",
       "      <td>3.850148</td>\n",
       "    </tr>\n",
       "    <tr>\n",
       "      <th>2</th>\n",
       "      <td>0.624</td>\n",
       "      <td>Male_No</td>\n",
       "      <td>No</td>\n",
       "      <td>Yes</td>\n",
       "      <td>Graduate</td>\n",
       "      <td>STEM</td>\n",
       "      <td>3 to 6</td>\n",
       "      <td>never</td>\n",
       "      <td>0.0</td>\n",
       "      <td>4.418841</td>\n",
       "    </tr>\n",
       "    <tr>\n",
       "      <th>3</th>\n",
       "      <td>0.789</td>\n",
       "      <td>Male_No</td>\n",
       "      <td>No</td>\n",
       "      <td>No</td>\n",
       "      <td>Graduate</td>\n",
       "      <td>Non-STEM</td>\n",
       "      <td>10 to 20</td>\n",
       "      <td>never</td>\n",
       "      <td>1.0</td>\n",
       "      <td>3.951244</td>\n",
       "    </tr>\n",
       "    <tr>\n",
       "      <th>4</th>\n",
       "      <td>0.767</td>\n",
       "      <td>Male_Yes</td>\n",
       "      <td>Yes</td>\n",
       "      <td>No</td>\n",
       "      <td>Post Graduate</td>\n",
       "      <td>STEM</td>\n",
       "      <td>20+</td>\n",
       "      <td>2 or more</td>\n",
       "      <td>0.0</td>\n",
       "      <td>2.079442</td>\n",
       "    </tr>\n",
       "  </tbody>\n",
       "</table>\n",
       "</div>"
      ],
      "text/plain": [
       "   city_development_index    gender relevent_experience enrolled_university  \\\n",
       "0                   0.920  Male_Yes                 Yes                  No   \n",
       "1                   0.776  Male_Yes                  No                  No   \n",
       "2                   0.624   Male_No                  No                 Yes   \n",
       "3                   0.789   Male_No                  No                  No   \n",
       "4                   0.767  Male_Yes                 Yes                  No   \n",
       "\n",
       "  education_level major_discipline experience last_new_job  target  \\\n",
       "0        Graduate             STEM        20+            1     1.0   \n",
       "1        Graduate             STEM   10 to 20    2 or more     0.0   \n",
       "2        Graduate             STEM     3 to 6        never     0.0   \n",
       "3        Graduate         Non-STEM   10 to 20        never     1.0   \n",
       "4   Post Graduate             STEM        20+    2 or more     0.0   \n",
       "\n",
       "   log_training_hours  \n",
       "0            3.583519  \n",
       "1            3.850148  \n",
       "2            4.418841  \n",
       "3            3.951244  \n",
       "4            2.079442  "
      ]
     },
     "execution_count": 185,
     "metadata": {},
     "output_type": "execute_result"
    }
   ],
   "source": [
    "df['log_training_hours'] = np.log(df['training_hours'])\n",
    "df.drop('training_hours', axis = 1, inplace = True)\n",
    "df.head()"
   ]
  },
  {
   "cell_type": "markdown",
   "metadata": {},
   "source": [
    "## Check for multicollinearity between two numeric variables."
   ]
  },
  {
   "cell_type": "code",
   "execution_count": 191,
   "metadata": {},
   "outputs": [
    {
     "data": {
      "image/png": "[encoded data removed]",
      "text/plain": [
       "<Figure size 576x432 with 2 Axes>"
      ]
     },
     "metadata": {
      "needs_background": "light"
     },
     "output_type": "display_data"
    }
   ],
   "source": [
    "df.drop('target', axis = 1).corr()\n",
    "\n",
    "# correlation plot\n",
    "plt.figure(figsize=(8,6))\n",
    "sns.set_context('paper', font_scale=1.5)\n",
    "\n",
    "corr = df.drop('target', axis = 1).corr()\n",
    "\n",
    "hm = sns.heatmap(corr, cmap=\"coolwarm\", annot=True, vmin = -1, vmax = 1, fmt='.3f')\n",
    "hm.set_xticklabels(labels=corr.columns.values, rotation=90)\n",
    "hm.set_yticklabels(labels=corr.columns.values, rotation=0);"
   ]
  },
  {
   "cell_type": "markdown",
   "metadata": {},
   "source": [
    "# Model Training"
   ]
  },
  {
   "cell_type": "markdown",
   "metadata": {},
   "source": [
    "### Data Preparation for sklearn"
   ]
  },
  {
   "cell_type": "code",
   "execution_count": 192,
   "metadata": {},
   "outputs": [
    {
     "data": {
      "text/html": [
       "<div>\n",
       "<style scoped>\n",
       "    .dataframe tbody tr th:only-of-type {\n",
       "        vertical-align: middle;\n",
       "    }\n",
       "\n",
       "    .dataframe tbody tr th {\n",
       "        vertical-align: top;\n",
       "    }\n",
       "\n",
       "    .dataframe thead th {\n",
       "        text-align: right;\n",
       "    }\n",
       "</style>\n",
       "<table border=\"1\" class=\"dataframe\">\n",
       "  <thead>\n",
       "    <tr style=\"text-align: right;\">\n",
       "      <th></th>\n",
       "      <th>city_development_index</th>\n",
       "      <th>target</th>\n",
       "      <th>log_training_hours</th>\n",
       "      <th>gender_Male_Yes</th>\n",
       "      <th>relevent_experience_Yes</th>\n",
       "      <th>enrolled_university_Yes</th>\n",
       "      <th>education_level_Non-Graduate</th>\n",
       "      <th>education_level_Post Graduate</th>\n",
       "      <th>major_discipline_STEM</th>\n",
       "      <th>experience_10 to 20</th>\n",
       "      <th>experience_20+</th>\n",
       "      <th>experience_3 to 6</th>\n",
       "      <th>experience_7 to 10</th>\n",
       "      <th>last_new_job_2 or more</th>\n",
       "      <th>last_new_job_never</th>\n",
       "    </tr>\n",
       "  </thead>\n",
       "  <tbody>\n",
       "    <tr>\n",
       "      <th>0</th>\n",
       "      <td>0.920</td>\n",
       "      <td>1.0</td>\n",
       "      <td>3.583519</td>\n",
       "      <td>1</td>\n",
       "      <td>1</td>\n",
       "      <td>0</td>\n",
       "      <td>0</td>\n",
       "      <td>0</td>\n",
       "      <td>1</td>\n",
       "      <td>0</td>\n",
       "      <td>1</td>\n",
       "      <td>0</td>\n",
       "      <td>0</td>\n",
       "      <td>0</td>\n",
       "      <td>0</td>\n",
       "    </tr>\n",
       "    <tr>\n",
       "      <th>1</th>\n",
       "      <td>0.776</td>\n",
       "      <td>0.0</td>\n",
       "      <td>3.850148</td>\n",
       "      <td>1</td>\n",
       "      <td>0</td>\n",
       "      <td>0</td>\n",
       "      <td>0</td>\n",
       "      <td>0</td>\n",
       "      <td>1</td>\n",
       "      <td>1</td>\n",
       "      <td>0</td>\n",
       "      <td>0</td>\n",
       "      <td>0</td>\n",
       "      <td>1</td>\n",
       "      <td>0</td>\n",
       "    </tr>\n",
       "    <tr>\n",
       "      <th>2</th>\n",
       "      <td>0.624</td>\n",
       "      <td>0.0</td>\n",
       "      <td>4.418841</td>\n",
       "      <td>0</td>\n",
       "      <td>0</td>\n",
       "      <td>1</td>\n",
       "      <td>0</td>\n",
       "      <td>0</td>\n",
       "      <td>1</td>\n",
       "      <td>0</td>\n",
       "      <td>0</td>\n",
       "      <td>1</td>\n",
       "      <td>0</td>\n",
       "      <td>0</td>\n",
       "      <td>1</td>\n",
       "    </tr>\n",
       "    <tr>\n",
       "      <th>3</th>\n",
       "      <td>0.789</td>\n",
       "      <td>1.0</td>\n",
       "      <td>3.951244</td>\n",
       "      <td>0</td>\n",
       "      <td>0</td>\n",
       "      <td>0</td>\n",
       "      <td>0</td>\n",
       "      <td>0</td>\n",
       "      <td>0</td>\n",
       "      <td>1</td>\n",
       "      <td>0</td>\n",
       "      <td>0</td>\n",
       "      <td>0</td>\n",
       "      <td>0</td>\n",
       "      <td>1</td>\n",
       "    </tr>\n",
       "    <tr>\n",
       "      <th>4</th>\n",
       "      <td>0.767</td>\n",
       "      <td>0.0</td>\n",
       "      <td>2.079442</td>\n",
       "      <td>1</td>\n",
       "      <td>1</td>\n",
       "      <td>0</td>\n",
       "      <td>0</td>\n",
       "      <td>1</td>\n",
       "      <td>1</td>\n",
       "      <td>0</td>\n",
       "      <td>1</td>\n",
       "      <td>0</td>\n",
       "      <td>0</td>\n",
       "      <td>1</td>\n",
       "      <td>0</td>\n",
       "    </tr>\n",
       "  </tbody>\n",
       "</table>\n",
       "</div>"
      ],
      "text/plain": [
       "   city_development_index  target  log_training_hours  gender_Male_Yes  \\\n",
       "0                   0.920     1.0            3.583519                1   \n",
       "1                   0.776     0.0            3.850148                1   \n",
       "2                   0.624     0.0            4.418841                0   \n",
       "3                   0.789     1.0            3.951244                0   \n",
       "4                   0.767     0.0            2.079442                1   \n",
       "\n",
       "   relevent_experience_Yes  enrolled_university_Yes  \\\n",
       "0                        1                        0   \n",
       "1                        0                        0   \n",
       "2                        0                        1   \n",
       "3                        0                        0   \n",
       "4                        1                        0   \n",
       "\n",
       "   education_level_Non-Graduate  education_level_Post Graduate  \\\n",
       "0                             0                              0   \n",
       "1                             0                              0   \n",
       "2                             0                              0   \n",
       "3                             0                              0   \n",
       "4                             0                              1   \n",
       "\n",
       "   major_discipline_STEM  experience_10 to 20  experience_20+  \\\n",
       "0                      1                    0               1   \n",
       "1                      1                    1               0   \n",
       "2                      1                    0               0   \n",
       "3                      0                    1               0   \n",
       "4                      1                    0               1   \n",
       "\n",
       "   experience_3 to 6  experience_7 to 10  last_new_job_2 or more  \\\n",
       "0                  0                   0                       0   \n",
       "1                  0                   0                       1   \n",
       "2                  1                   0                       0   \n",
       "3                  0                   0                       0   \n",
       "4                  0                   0                       1   \n",
       "\n",
       "   last_new_job_never  \n",
       "0                   0  \n",
       "1                   0  \n",
       "2                   1  \n",
       "3                   1  \n",
       "4                   0  "
      ]
     },
     "execution_count": 192,
     "metadata": {},
     "output_type": "execute_result"
    }
   ],
   "source": [
    "# add dummies\n",
    "df = pd.get_dummies(df, drop_first=True)\n",
    "df.head()"
   ]
  },
  {
   "cell_type": "code",
   "execution_count": 194,
   "metadata": {},
   "outputs": [
    {
     "name": "stdout",
     "output_type": "stream",
     "text": [
      "X_train = (13410, 14)\n",
      "X_test = (5748, 14)\n",
      "y_train = (13410,)\n",
      "y_test = (5748,)\n"
     ]
    }
   ],
   "source": [
    "# train test split\n",
    "from sklearn.model_selection import train_test_split\n",
    "\n",
    "X = df.drop('target', axis = 1)\n",
    "y = df['target']\n",
    "X_train, X_test, y_train, y_test = train_test_split(X, y, test_size=0.3, random_state=42)\n",
    "\n",
    "print('X_train =', X_train.shape)\n",
    "print('X_test =', X_test.shape)\n",
    "print('y_train =', y_train.shape)\n",
    "print('y_test =', y_test.shape)"
   ]
  },
  {
   "cell_type": "markdown",
   "metadata": {},
   "source": [
    "## 1. Decision Trees"
   ]
  },
  {
   "cell_type": "code",
   "execution_count": 203,
   "metadata": {},
   "outputs": [],
   "source": [
    "# build tree\n",
    "from sklearn import tree\n",
    "clf = tree.DecisionTreeClassifier(random_state = 42).fit(X_train, y_train)"
   ]
  },
  {
   "cell_type": "code",
   "execution_count": 204,
   "metadata": {},
   "outputs": [
    {
     "data": {
      "text/plain": [
       "0.9803877703206563"
      ]
     },
     "execution_count": 204,
     "metadata": {},
     "output_type": "execute_result"
    }
   ],
   "source": [
    "# check score on training set\n",
    "clf.score(X_train, y_train)"
   ]
  },
  {
   "cell_type": "code",
   "execution_count": 205,
   "metadata": {},
   "outputs": [
    {
     "data": {
      "text/plain": [
       "0.680062630480167"
      ]
     },
     "execution_count": 205,
     "metadata": {},
     "output_type": "execute_result"
    }
   ],
   "source": [
    "# check score on testing set\n",
    "clf.score(X_test, y_test)"
   ]
  },
  {
   "cell_type": "markdown",
   "metadata": {},
   "source": [
    "We can see that the model has overfit. We will now tryh to regularize this Decision Tree to eliminate overfitting."
   ]
  },
  {
   "cell_type": "code",
   "execution_count": 222,
   "metadata": {},
   "outputs": [
    {
     "data": {
      "text/plain": [
       "GridSearchCV(cv=5, estimator=DecisionTreeClassifier(random_state=42),\n",
       "             param_grid={'criterion': ['gini', 'entropy'],\n",
       "                         'max_depth': [2, 5, 10, 15, 25],\n",
       "                         'max_leaf_nodes': [5, 10, 20, 30, 40],\n",
       "                         'min_samples_leaf': [1, 5, 10, 15, 20],\n",
       "                         'min_samples_split': [2, 10, 20, 30, 40]},\n",
       "             return_train_score='True', scoring='accuracy')"
      ]
     },
     "execution_count": 222,
     "metadata": {},
     "output_type": "execute_result"
    }
   ],
   "source": [
    "from sklearn.model_selection import GridSearchCV\n",
    "\n",
    "cv_parameters = {\"criterion\": [\"gini\", \"entropy\"],\n",
    "              \"min_samples_split\": [2, 10, 20, 30, 40],\n",
    "              \"max_depth\": [2, 5, 10, 15, 25],\n",
    "              \"min_samples_leaf\": [1, 5, 10, 15, 20],\n",
    "              \"max_leaf_nodes\": [5, 10, 20, 30, 40],\n",
    "              }\n",
    "\n",
    "dt_classifier = GridSearchCV(estimator=tree.DecisionTreeClassifier(random_state = 42), \n",
    "                                  param_grid=cv_parameters,\n",
    "                                  cv = 5,\n",
    "                                  scoring = 'accuracy',\n",
    "                                  return_train_score = 'True')\n",
    "dt_classifier.fit(X_train, y_train)"
   ]
  },
  {
   "cell_type": "code",
   "execution_count": 223,
   "metadata": {},
   "outputs": [
    {
     "data": {
      "text/plain": [
       "0.7868754660700968"
      ]
     },
     "execution_count": 223,
     "metadata": {},
     "output_type": "execute_result"
    }
   ],
   "source": [
    "dt_classifier.best_score_"
   ]
  },
  {
   "cell_type": "code",
   "execution_count": 224,
   "metadata": {},
   "outputs": [
    {
     "data": {
      "text/html": [
       "<div>\n",
       "<style scoped>\n",
       "    .dataframe tbody tr th:only-of-type {\n",
       "        vertical-align: middle;\n",
       "    }\n",
       "\n",
       "    .dataframe tbody tr th {\n",
       "        vertical-align: top;\n",
       "    }\n",
       "\n",
       "    .dataframe thead th {\n",
       "        text-align: right;\n",
       "    }\n",
       "</style>\n",
       "<table border=\"1\" class=\"dataframe\">\n",
       "  <thead>\n",
       "    <tr style=\"text-align: right;\">\n",
       "      <th></th>\n",
       "      <th>param_criterion</th>\n",
       "      <th>param_max_depth</th>\n",
       "      <th>param_max_leaf_nodes</th>\n",
       "      <th>param_min_samples_leaf</th>\n",
       "      <th>param_min_samples_split</th>\n",
       "      <th>mean_test_score</th>\n",
       "      <th>mean_train_score</th>\n",
       "      <th>std_test_score</th>\n",
       "      <th>std_train_score</th>\n",
       "    </tr>\n",
       "  </thead>\n",
       "  <tbody>\n",
       "    <tr>\n",
       "      <th>891</th>\n",
       "      <td>entropy</td>\n",
       "      <td>10</td>\n",
       "      <td>5</td>\n",
       "      <td>15</td>\n",
       "      <td>10</td>\n",
       "      <td>0.786875</td>\n",
       "      <td>0.786875</td>\n",
       "      <td>0.005427</td>\n",
       "      <td>0.001357</td>\n",
       "    </tr>\n",
       "    <tr>\n",
       "      <th>888</th>\n",
       "      <td>entropy</td>\n",
       "      <td>10</td>\n",
       "      <td>5</td>\n",
       "      <td>10</td>\n",
       "      <td>30</td>\n",
       "      <td>0.786875</td>\n",
       "      <td>0.786875</td>\n",
       "      <td>0.005427</td>\n",
       "      <td>0.001357</td>\n",
       "    </tr>\n",
       "    <tr>\n",
       "      <th>876</th>\n",
       "      <td>entropy</td>\n",
       "      <td>10</td>\n",
       "      <td>5</td>\n",
       "      <td>1</td>\n",
       "      <td>10</td>\n",
       "      <td>0.786875</td>\n",
       "      <td>0.786875</td>\n",
       "      <td>0.005427</td>\n",
       "      <td>0.001357</td>\n",
       "    </tr>\n",
       "    <tr>\n",
       "      <th>877</th>\n",
       "      <td>entropy</td>\n",
       "      <td>10</td>\n",
       "      <td>5</td>\n",
       "      <td>1</td>\n",
       "      <td>20</td>\n",
       "      <td>0.786875</td>\n",
       "      <td>0.786875</td>\n",
       "      <td>0.005427</td>\n",
       "      <td>0.001357</td>\n",
       "    </tr>\n",
       "    <tr>\n",
       "      <th>878</th>\n",
       "      <td>entropy</td>\n",
       "      <td>10</td>\n",
       "      <td>5</td>\n",
       "      <td>1</td>\n",
       "      <td>30</td>\n",
       "      <td>0.786875</td>\n",
       "      <td>0.786875</td>\n",
       "      <td>0.005427</td>\n",
       "      <td>0.001357</td>\n",
       "    </tr>\n",
       "    <tr>\n",
       "      <th>879</th>\n",
       "      <td>entropy</td>\n",
       "      <td>10</td>\n",
       "      <td>5</td>\n",
       "      <td>1</td>\n",
       "      <td>40</td>\n",
       "      <td>0.786875</td>\n",
       "      <td>0.786875</td>\n",
       "      <td>0.005427</td>\n",
       "      <td>0.001357</td>\n",
       "    </tr>\n",
       "    <tr>\n",
       "      <th>880</th>\n",
       "      <td>entropy</td>\n",
       "      <td>10</td>\n",
       "      <td>5</td>\n",
       "      <td>5</td>\n",
       "      <td>2</td>\n",
       "      <td>0.786875</td>\n",
       "      <td>0.786875</td>\n",
       "      <td>0.005427</td>\n",
       "      <td>0.001357</td>\n",
       "    </tr>\n",
       "    <tr>\n",
       "      <th>881</th>\n",
       "      <td>entropy</td>\n",
       "      <td>10</td>\n",
       "      <td>5</td>\n",
       "      <td>5</td>\n",
       "      <td>10</td>\n",
       "      <td>0.786875</td>\n",
       "      <td>0.786875</td>\n",
       "      <td>0.005427</td>\n",
       "      <td>0.001357</td>\n",
       "    </tr>\n",
       "    <tr>\n",
       "      <th>882</th>\n",
       "      <td>entropy</td>\n",
       "      <td>10</td>\n",
       "      <td>5</td>\n",
       "      <td>5</td>\n",
       "      <td>20</td>\n",
       "      <td>0.786875</td>\n",
       "      <td>0.786875</td>\n",
       "      <td>0.005427</td>\n",
       "      <td>0.001357</td>\n",
       "    </tr>\n",
       "    <tr>\n",
       "      <th>883</th>\n",
       "      <td>entropy</td>\n",
       "      <td>10</td>\n",
       "      <td>5</td>\n",
       "      <td>5</td>\n",
       "      <td>30</td>\n",
       "      <td>0.786875</td>\n",
       "      <td>0.786875</td>\n",
       "      <td>0.005427</td>\n",
       "      <td>0.001357</td>\n",
       "    </tr>\n",
       "    <tr>\n",
       "      <th>884</th>\n",
       "      <td>entropy</td>\n",
       "      <td>10</td>\n",
       "      <td>5</td>\n",
       "      <td>5</td>\n",
       "      <td>40</td>\n",
       "      <td>0.786875</td>\n",
       "      <td>0.786875</td>\n",
       "      <td>0.005427</td>\n",
       "      <td>0.001357</td>\n",
       "    </tr>\n",
       "    <tr>\n",
       "      <th>885</th>\n",
       "      <td>entropy</td>\n",
       "      <td>10</td>\n",
       "      <td>5</td>\n",
       "      <td>10</td>\n",
       "      <td>2</td>\n",
       "      <td>0.786875</td>\n",
       "      <td>0.786875</td>\n",
       "      <td>0.005427</td>\n",
       "      <td>0.001357</td>\n",
       "    </tr>\n",
       "    <tr>\n",
       "      <th>886</th>\n",
       "      <td>entropy</td>\n",
       "      <td>10</td>\n",
       "      <td>5</td>\n",
       "      <td>10</td>\n",
       "      <td>10</td>\n",
       "      <td>0.786875</td>\n",
       "      <td>0.786875</td>\n",
       "      <td>0.005427</td>\n",
       "      <td>0.001357</td>\n",
       "    </tr>\n",
       "    <tr>\n",
       "      <th>887</th>\n",
       "      <td>entropy</td>\n",
       "      <td>10</td>\n",
       "      <td>5</td>\n",
       "      <td>10</td>\n",
       "      <td>20</td>\n",
       "      <td>0.786875</td>\n",
       "      <td>0.786875</td>\n",
       "      <td>0.005427</td>\n",
       "      <td>0.001357</td>\n",
       "    </tr>\n",
       "    <tr>\n",
       "      <th>889</th>\n",
       "      <td>entropy</td>\n",
       "      <td>10</td>\n",
       "      <td>5</td>\n",
       "      <td>10</td>\n",
       "      <td>40</td>\n",
       "      <td>0.786875</td>\n",
       "      <td>0.786875</td>\n",
       "      <td>0.005427</td>\n",
       "      <td>0.001357</td>\n",
       "    </tr>\n",
       "    <tr>\n",
       "      <th>799</th>\n",
       "      <td>entropy</td>\n",
       "      <td>5</td>\n",
       "      <td>10</td>\n",
       "      <td>20</td>\n",
       "      <td>40</td>\n",
       "      <td>0.786875</td>\n",
       "      <td>0.786875</td>\n",
       "      <td>0.005427</td>\n",
       "      <td>0.001357</td>\n",
       "    </tr>\n",
       "    <tr>\n",
       "      <th>890</th>\n",
       "      <td>entropy</td>\n",
       "      <td>10</td>\n",
       "      <td>5</td>\n",
       "      <td>15</td>\n",
       "      <td>2</td>\n",
       "      <td>0.786875</td>\n",
       "      <td>0.786875</td>\n",
       "      <td>0.005427</td>\n",
       "      <td>0.001357</td>\n",
       "    </tr>\n",
       "    <tr>\n",
       "      <th>892</th>\n",
       "      <td>entropy</td>\n",
       "      <td>10</td>\n",
       "      <td>5</td>\n",
       "      <td>15</td>\n",
       "      <td>20</td>\n",
       "      <td>0.786875</td>\n",
       "      <td>0.786875</td>\n",
       "      <td>0.005427</td>\n",
       "      <td>0.001357</td>\n",
       "    </tr>\n",
       "    <tr>\n",
       "      <th>893</th>\n",
       "      <td>entropy</td>\n",
       "      <td>10</td>\n",
       "      <td>5</td>\n",
       "      <td>15</td>\n",
       "      <td>30</td>\n",
       "      <td>0.786875</td>\n",
       "      <td>0.786875</td>\n",
       "      <td>0.005427</td>\n",
       "      <td>0.001357</td>\n",
       "    </tr>\n",
       "    <tr>\n",
       "      <th>894</th>\n",
       "      <td>entropy</td>\n",
       "      <td>10</td>\n",
       "      <td>5</td>\n",
       "      <td>15</td>\n",
       "      <td>40</td>\n",
       "      <td>0.786875</td>\n",
       "      <td>0.786875</td>\n",
       "      <td>0.005427</td>\n",
       "      <td>0.001357</td>\n",
       "    </tr>\n",
       "  </tbody>\n",
       "</table>\n",
       "</div>"
      ],
      "text/plain": [
       "    param_criterion param_max_depth param_max_leaf_nodes  \\\n",
       "891         entropy              10                    5   \n",
       "888         entropy              10                    5   \n",
       "876         entropy              10                    5   \n",
       "877         entropy              10                    5   \n",
       "878         entropy              10                    5   \n",
       "879         entropy              10                    5   \n",
       "880         entropy              10                    5   \n",
       "881         entropy              10                    5   \n",
       "882         entropy              10                    5   \n",
       "883         entropy              10                    5   \n",
       "884         entropy              10                    5   \n",
       "885         entropy              10                    5   \n",
       "886         entropy              10                    5   \n",
       "887         entropy              10                    5   \n",
       "889         entropy              10                    5   \n",
       "799         entropy               5                   10   \n",
       "890         entropy              10                    5   \n",
       "892         entropy              10                    5   \n",
       "893         entropy              10                    5   \n",
       "894         entropy              10                    5   \n",
       "\n",
       "    param_min_samples_leaf param_min_samples_split  mean_test_score  \\\n",
       "891                     15                      10         0.786875   \n",
       "888                     10                      30         0.786875   \n",
       "876                      1                      10         0.786875   \n",
       "877                      1                      20         0.786875   \n",
       "878                      1                      30         0.786875   \n",
       "879                      1                      40         0.786875   \n",
       "880                      5                       2         0.786875   \n",
       "881                      5                      10         0.786875   \n",
       "882                      5                      20         0.786875   \n",
       "883                      5                      30         0.786875   \n",
       "884                      5                      40         0.786875   \n",
       "885                     10                       2         0.786875   \n",
       "886                     10                      10         0.786875   \n",
       "887                     10                      20         0.786875   \n",
       "889                     10                      40         0.786875   \n",
       "799                     20                      40         0.786875   \n",
       "890                     15                       2         0.786875   \n",
       "892                     15                      20         0.786875   \n",
       "893                     15                      30         0.786875   \n",
       "894                     15                      40         0.786875   \n",
       "\n",
       "     mean_train_score  std_test_score  std_train_score  \n",
       "891          0.786875        0.005427         0.001357  \n",
       "888          0.786875        0.005427         0.001357  \n",
       "876          0.786875        0.005427         0.001357  \n",
       "877          0.786875        0.005427         0.001357  \n",
       "878          0.786875        0.005427         0.001357  \n",
       "879          0.786875        0.005427         0.001357  \n",
       "880          0.786875        0.005427         0.001357  \n",
       "881          0.786875        0.005427         0.001357  \n",
       "882          0.786875        0.005427         0.001357  \n",
       "883          0.786875        0.005427         0.001357  \n",
       "884          0.786875        0.005427         0.001357  \n",
       "885          0.786875        0.005427         0.001357  \n",
       "886          0.786875        0.005427         0.001357  \n",
       "887          0.786875        0.005427         0.001357  \n",
       "889          0.786875        0.005427         0.001357  \n",
       "799          0.786875        0.005427         0.001357  \n",
       "890          0.786875        0.005427         0.001357  \n",
       "892          0.786875        0.005427         0.001357  \n",
       "893          0.786875        0.005427         0.001357  \n",
       "894          0.786875        0.005427         0.001357  "
      ]
     },
     "execution_count": 224,
     "metadata": {},
     "output_type": "execute_result"
    }
   ],
   "source": [
    "cv_results = pd.DataFrame(dt_classifier.cv_results_).dropna()\n",
    "cv_results = cv_results.iloc[:, [4,5,6,7,8,15,23,16,24]]\n",
    "cv_results.sort_values(by = 'mean_test_score', ascending = False).head(20)"
   ]
  },
  {
   "cell_type": "code",
   "execution_count": null,
   "metadata": {},
   "outputs": [],
   "source": []
  }
 ],
 "metadata": {
  "kernelspec": {
   "display_name": "Python 3",
   "language": "python",
   "name": "python3"
  },
  "language_info": {
   "codemirror_mode": {
    "name": "ipython",
    "version": 3
   },
   "file_extension": ".py",
   "mimetype": "text/x-python",
   "name": "python",
   "nbconvert_exporter": "python",
   "pygments_lexer": "ipython3",
   "version": "3.7.3"
  }
 },
 "nbformat": 4,
 "nbformat_minor": 4
}
